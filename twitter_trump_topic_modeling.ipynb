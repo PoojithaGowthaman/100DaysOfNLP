{
 "cells": [
  {
   "cell_type": "code",
   "execution_count": 70,
   "metadata": {},
   "outputs": [
    {
     "name": "stderr",
     "output_type": "stream",
     "text": [
      "[nltk_data] Downloading package vader_lexicon to\n",
      "[nltk_data]     C:\\Users\\groov\\AppData\\Roaming\\nltk_data...\n",
      "[nltk_data]   Package vader_lexicon is already up-to-date!\n"
     ]
    }
   ],
   "source": [
    "# load libraries\n",
    "import pandas as pd\n",
    "import matplotlib.pyplot as plt\n",
    "\n",
    "%matplotlib inline\n",
    "\n",
    "import nltk\n",
    "nltk.download('vader_lexicon')\n",
    "\n",
    "from nltk.sentiment.vader import SentimentIntensityAnalyzer"
   ]
  },
  {
   "cell_type": "code",
   "execution_count": 165,
   "metadata": {},
   "outputs": [
    {
     "data": {
      "text/html": [
       "<div>\n",
       "<style scoped>\n",
       "    .dataframe tbody tr th:only-of-type {\n",
       "        vertical-align: middle;\n",
       "    }\n",
       "\n",
       "    .dataframe tbody tr th {\n",
       "        vertical-align: top;\n",
       "    }\n",
       "\n",
       "    .dataframe thead th {\n",
       "        text-align: right;\n",
       "    }\n",
       "</style>\n",
       "<table border=\"1\" class=\"dataframe\">\n",
       "  <thead>\n",
       "    <tr style=\"text-align: right;\">\n",
       "      <th></th>\n",
       "      <th>tweet</th>\n",
       "    </tr>\n",
       "    <tr>\n",
       "      <th>date_posted</th>\n",
       "      <th></th>\n",
       "    </tr>\n",
       "  </thead>\n",
       "  <tbody>\n",
       "    <tr>\n",
       "      <td>2019-10-26 16:20:04-04:00</td>\n",
       "      <td>mississippi! there is a very important electio...</td>\n",
       "    </tr>\n",
       "    <tr>\n",
       "      <td>2019-10-26 16:20:04-04:00</td>\n",
       "      <td>he loves our military and supports our vets! d...</td>\n",
       "    </tr>\n",
       "    <tr>\n",
       "      <td>2019-10-26 16:26:34-04:00</td>\n",
       "      <td>governor @mattbevin has done a wonderful job f...</td>\n",
       "    </tr>\n",
       "    <tr>\n",
       "      <td>2019-10-26 16:26:34-04:00</td>\n",
       "      <td>matt has my complete and total endorsement, an...</td>\n",
       "    </tr>\n",
       "    <tr>\n",
       "      <td>2019-10-26 21:23:39-04:00</td>\n",
       "      <td>something very big has just happened!</td>\n",
       "    </tr>\n",
       "  </tbody>\n",
       "</table>\n",
       "</div>"
      ],
      "text/plain": [
       "                                                                       tweet\n",
       "date_posted                                                                 \n",
       "2019-10-26 16:20:04-04:00  mississippi! there is a very important electio...\n",
       "2019-10-26 16:20:04-04:00  he loves our military and supports our vets! d...\n",
       "2019-10-26 16:26:34-04:00  governor @mattbevin has done a wonderful job f...\n",
       "2019-10-26 16:26:34-04:00  matt has my complete and total endorsement, an...\n",
       "2019-10-26 21:23:39-04:00              something very big has just happened!"
      ]
     },
     "execution_count": 165,
     "metadata": {},
     "output_type": "execute_result"
    }
   ],
   "source": [
    "# load trump df\n",
    "csv_file = r'C:\\Users\\groov\\PythonCode\\output\\trump_tweets\\trump_tweets.csv'\n",
    "\n",
    "df = pd.read_csv(csv_file, names=['date_posted', 'tweet'])\n",
    "df['tweet'] = df['tweet'].str.lower()\n",
    "df.drop_duplicates(inplace=True)\n",
    "df.dropna(inplace=True)\n",
    "df = df[~df['tweet'].str.startswith('rt')]\n",
    "df = df[~df['tweet'].str.contains('http')]\n",
    "df['date_posted'] = pd.to_datetime(df['date_posted'])\n",
    "df.set_index('date_posted', inplace=True)\n",
    "df = df.tz_convert('US/Eastern')\n",
    "df.sort_index(inplace=True)\n",
    "\n",
    "df.tail(5)"
   ]
  },
  {
   "cell_type": "code",
   "execution_count": 166,
   "metadata": {},
   "outputs": [
    {
     "data": {
      "text/html": [
       "<div>\n",
       "<style scoped>\n",
       "    .dataframe tbody tr th:only-of-type {\n",
       "        vertical-align: middle;\n",
       "    }\n",
       "\n",
       "    .dataframe tbody tr th {\n",
       "        vertical-align: top;\n",
       "    }\n",
       "\n",
       "    .dataframe thead th {\n",
       "        text-align: right;\n",
       "    }\n",
       "</style>\n",
       "<table border=\"1\" class=\"dataframe\">\n",
       "  <thead>\n",
       "    <tr style=\"text-align: right;\">\n",
       "      <th></th>\n",
       "      <th>tweet</th>\n",
       "      <th>compound_score</th>\n",
       "    </tr>\n",
       "    <tr>\n",
       "      <th>date_posted</th>\n",
       "      <th></th>\n",
       "      <th></th>\n",
       "    </tr>\n",
       "  </thead>\n",
       "  <tbody>\n",
       "    <tr>\n",
       "      <td>2019-10-09 08:14:02-04:00</td>\n",
       "      <td>the united states has spent eight trillion dol...</td>\n",
       "      <td>-0.8750</td>\n",
       "    </tr>\n",
       "    <tr>\n",
       "      <td>2019-10-09 08:14:03-04:00</td>\n",
       "      <td>in the history of our country! we went to war ...</td>\n",
       "      <td>-0.6776</td>\n",
       "    </tr>\n",
       "    <tr>\n",
       "      <td>2019-10-09 08:22:04-04:00</td>\n",
       "      <td>the do nothing democrats are con artists, only...</td>\n",
       "      <td>-0.6209</td>\n",
       "    </tr>\n",
       "    <tr>\n",
       "      <td>2019-10-09 08:43:45-04:00</td>\n",
       "      <td>the so-called whistleblower, before knowing i ...</td>\n",
       "      <td>-0.5411</td>\n",
       "    </tr>\n",
       "    <tr>\n",
       "      <td>2019-10-09 08:43:45-04:00</td>\n",
       "      <td>no pressure at all said ukraine! very congenia...</td>\n",
       "      <td>-0.5691</td>\n",
       "    </tr>\n",
       "  </tbody>\n",
       "</table>\n",
       "</div>"
      ],
      "text/plain": [
       "                                                                       tweet  \\\n",
       "date_posted                                                                    \n",
       "2019-10-09 08:14:02-04:00  the united states has spent eight trillion dol...   \n",
       "2019-10-09 08:14:03-04:00  in the history of our country! we went to war ...   \n",
       "2019-10-09 08:22:04-04:00  the do nothing democrats are con artists, only...   \n",
       "2019-10-09 08:43:45-04:00  the so-called whistleblower, before knowing i ...   \n",
       "2019-10-09 08:43:45-04:00  no pressure at all said ukraine! very congenia...   \n",
       "\n",
       "                           compound_score  \n",
       "date_posted                                \n",
       "2019-10-09 08:14:02-04:00         -0.8750  \n",
       "2019-10-09 08:14:03-04:00         -0.6776  \n",
       "2019-10-09 08:22:04-04:00         -0.6209  \n",
       "2019-10-09 08:43:45-04:00         -0.5411  \n",
       "2019-10-09 08:43:45-04:00         -0.5691  "
      ]
     },
     "execution_count": 166,
     "metadata": {},
     "output_type": "execute_result"
    }
   ],
   "source": [
    "# append semantic score\n",
    "sa = SentimentIntensityAnalyzer()\n",
    "\n",
    "compound_scores = []\n",
    "\n",
    "for tweet in df['tweet']:\n",
    "    compound_scores.append(sa.polarity_scores(tweet)['compound'])\n",
    "    \n",
    "df['compound_score'] = compound_scores\n",
    "\n",
    "df.head()"
   ]
  },
  {
   "cell_type": "code",
   "execution_count": 167,
   "metadata": {
    "scrolled": false
   },
   "outputs": [
    {
     "data": {
      "image/png": "[encoded data removed]",
      "text/plain": [
       "<Figure size 864x504 with 1 Axes>"
      ]
     },
     "metadata": {
      "needs_background": "light"
     },
     "output_type": "display_data"
    }
   ],
   "source": [
    "ax = df['compound_score'].resample('D').mean().plot.barh(figsize=(12, 7), title='Sentiment Compound Score by Day')\n",
    "ax.set_xlabel('Sentiment Compound Score')\n",
    "ax.set_ylabel('Hour')\n",
    "plt.gca().invert_yaxis()"
   ]
  },
  {
   "cell_type": "code",
   "execution_count": 168,
   "metadata": {},
   "outputs": [
    {
     "data": {
      "image/png": "[encoded data removed]",
      "text/plain": [
       "<Figure size 864x504 with 1 Axes>"
      ]
     },
     "metadata": {
      "needs_background": "light"
     },
     "output_type": "display_data"
    }
   ],
   "source": [
    "df['hour'] = df.index.hour\n",
    "\n",
    "ax = df.groupby(['hour']).mean().plot.barh(figsize=(12, 7), title='Sentiment Compound Score by Hour')\n",
    "ax.set_xlabel('Sentiment Compound Score')\n",
    "ax.set_ylabel('Hour')\n",
    "plt.gca().invert_yaxis()"
   ]
  },
  {
   "cell_type": "code",
   "execution_count": 169,
   "metadata": {},
   "outputs": [],
   "source": [
    "# extract mean tweets\n",
    "mean_df = df[df['compound_score'] <= -0.3][['tweet']]"
   ]
  },
  {
   "cell_type": "code",
   "execution_count": 170,
   "metadata": {},
   "outputs": [
    {
     "data": {
      "text/plain": [
       "1781"
      ]
     },
     "execution_count": 170,
     "metadata": {},
     "output_type": "execute_result"
    }
   ],
   "source": [
    "# do page 127 from book\n",
    "\n",
    "from sklearn.feature_extraction.text import TfidfVectorizer\n",
    "from nltk.tokenize.casual import casual_tokenize\n",
    "\n",
    "tfidf = TfidfVectorizer(tokenizer=casual_tokenize)\n",
    "tfidf_docs = tfidf.fit_transform(raw_documents=df['tweet']).toarray()\n",
    "\n",
    "len(tfidf.vocabulary_)"
   ]
  },
  {
   "cell_type": "code",
   "execution_count": 171,
   "metadata": {},
   "outputs": [
    {
     "data": {
      "text/plain": [
       "(203, 1781)"
      ]
     },
     "execution_count": 171,
     "metadata": {},
     "output_type": "execute_result"
    }
   ],
   "source": [
    "tfidf_docs = pd.DataFrame(tfidf_docs)\n",
    "tfidf_docs = tfidf_docs - tfidf_docs.mean() # center the vectorized documents\n",
    "tfidf_docs.shape"
   ]
  },
  {
   "cell_type": "code",
   "execution_count": 246,
   "metadata": {},
   "outputs": [],
   "source": [
    "# do pages 128+ from book\n",
    "\n",
    "topic_count = 6\n",
    "\n",
    "from sklearn.decomposition import PCA\n",
    "\n",
    "pca = PCA(n_components=topic_count)\n",
    "pca = pca.fit(tfidf_docs)\n",
    "\n",
    "pca_topic_vectors = pca.transform(tfidf_docs)"
   ]
  },
  {
   "cell_type": "code",
   "execution_count": 247,
   "metadata": {},
   "outputs": [],
   "source": [
    "columns = ['topic{}'.format(i) for i in range(pca.n_components)]"
   ]
  },
  {
   "cell_type": "code",
   "execution_count": 248,
   "metadata": {},
   "outputs": [],
   "source": [
    "pca_topic_vectors = pd.DataFrame(pca_topic_vectors, columns=columns)"
   ]
  },
  {
   "cell_type": "code",
   "execution_count": 249,
   "metadata": {},
   "outputs": [
    {
     "data": {
      "text/html": [
       "<div>\n",
       "<style scoped>\n",
       "    .dataframe tbody tr th:only-of-type {\n",
       "        vertical-align: middle;\n",
       "    }\n",
       "\n",
       "    .dataframe tbody tr th {\n",
       "        vertical-align: top;\n",
       "    }\n",
       "\n",
       "    .dataframe thead th {\n",
       "        text-align: right;\n",
       "    }\n",
       "</style>\n",
       "<table border=\"1\" class=\"dataframe\">\n",
       "  <thead>\n",
       "    <tr style=\"text-align: right;\">\n",
       "      <th></th>\n",
       "      <th>topic0</th>\n",
       "      <th>topic1</th>\n",
       "      <th>topic2</th>\n",
       "      <th>topic3</th>\n",
       "      <th>topic4</th>\n",
       "      <th>topic5</th>\n",
       "    </tr>\n",
       "  </thead>\n",
       "  <tbody>\n",
       "    <tr>\n",
       "      <td>0</td>\n",
       "      <td>-0.072578</td>\n",
       "      <td>-0.157393</td>\n",
       "      <td>0.197189</td>\n",
       "      <td>0.126712</td>\n",
       "      <td>-0.046494</td>\n",
       "      <td>-0.010647</td>\n",
       "    </tr>\n",
       "    <tr>\n",
       "      <td>1</td>\n",
       "      <td>-0.111470</td>\n",
       "      <td>-0.071913</td>\n",
       "      <td>-0.000470</td>\n",
       "      <td>0.045380</td>\n",
       "      <td>0.060539</td>\n",
       "      <td>-0.087880</td>\n",
       "    </tr>\n",
       "    <tr>\n",
       "      <td>2</td>\n",
       "      <td>-0.053956</td>\n",
       "      <td>-0.073615</td>\n",
       "      <td>-0.241654</td>\n",
       "      <td>0.052934</td>\n",
       "      <td>0.161028</td>\n",
       "      <td>-0.073965</td>\n",
       "    </tr>\n",
       "    <tr>\n",
       "      <td>3</td>\n",
       "      <td>0.118234</td>\n",
       "      <td>0.002317</td>\n",
       "      <td>-0.130664</td>\n",
       "      <td>0.105419</td>\n",
       "      <td>-0.063471</td>\n",
       "      <td>0.208887</td>\n",
       "    </tr>\n",
       "    <tr>\n",
       "      <td>4</td>\n",
       "      <td>0.105957</td>\n",
       "      <td>0.030350</td>\n",
       "      <td>-0.054099</td>\n",
       "      <td>0.142705</td>\n",
       "      <td>-0.033468</td>\n",
       "      <td>0.191532</td>\n",
       "    </tr>\n",
       "    <tr>\n",
       "      <td>5</td>\n",
       "      <td>0.028815</td>\n",
       "      <td>-0.086270</td>\n",
       "      <td>-0.166662</td>\n",
       "      <td>0.085468</td>\n",
       "      <td>-0.017206</td>\n",
       "      <td>-0.098736</td>\n",
       "    </tr>\n",
       "    <tr>\n",
       "      <td>6</td>\n",
       "      <td>-0.117587</td>\n",
       "      <td>-0.116104</td>\n",
       "      <td>-0.115489</td>\n",
       "      <td>0.057619</td>\n",
       "      <td>0.141540</td>\n",
       "      <td>-0.064172</td>\n",
       "    </tr>\n",
       "    <tr>\n",
       "      <td>7</td>\n",
       "      <td>0.058817</td>\n",
       "      <td>0.041192</td>\n",
       "      <td>-0.033075</td>\n",
       "      <td>-0.054798</td>\n",
       "      <td>-0.012875</td>\n",
       "      <td>-0.014225</td>\n",
       "    </tr>\n",
       "    <tr>\n",
       "      <td>8</td>\n",
       "      <td>0.014955</td>\n",
       "      <td>-0.089190</td>\n",
       "      <td>-0.185676</td>\n",
       "      <td>0.079825</td>\n",
       "      <td>0.059318</td>\n",
       "      <td>0.015277</td>\n",
       "    </tr>\n",
       "    <tr>\n",
       "      <td>9</td>\n",
       "      <td>0.031571</td>\n",
       "      <td>0.064438</td>\n",
       "      <td>-0.064839</td>\n",
       "      <td>0.013375</td>\n",
       "      <td>0.075090</td>\n",
       "      <td>-0.057644</td>\n",
       "    </tr>\n",
       "  </tbody>\n",
       "</table>\n",
       "</div>"
      ],
      "text/plain": [
       "     topic0    topic1    topic2    topic3    topic4    topic5\n",
       "0 -0.072578 -0.157393  0.197189  0.126712 -0.046494 -0.010647\n",
       "1 -0.111470 -0.071913 -0.000470  0.045380  0.060539 -0.087880\n",
       "2 -0.053956 -0.073615 -0.241654  0.052934  0.161028 -0.073965\n",
       "3  0.118234  0.002317 -0.130664  0.105419 -0.063471  0.208887\n",
       "4  0.105957  0.030350 -0.054099  0.142705 -0.033468  0.191532\n",
       "5  0.028815 -0.086270 -0.166662  0.085468 -0.017206 -0.098736\n",
       "6 -0.117587 -0.116104 -0.115489  0.057619  0.141540 -0.064172\n",
       "7  0.058817  0.041192 -0.033075 -0.054798 -0.012875 -0.014225\n",
       "8  0.014955 -0.089190 -0.185676  0.079825  0.059318  0.015277\n",
       "9  0.031571  0.064438 -0.064839  0.013375  0.075090 -0.057644"
      ]
     },
     "execution_count": 249,
     "metadata": {},
     "output_type": "execute_result"
    }
   ],
   "source": [
    "pca_topic_vectors.head(10)"
   ]
  },
  {
   "cell_type": "code",
   "execution_count": 250,
   "metadata": {},
   "outputs": [
    {
     "data": {
      "text/plain": [
       "(203, 6)"
      ]
     },
     "execution_count": 250,
     "metadata": {},
     "output_type": "execute_result"
    }
   ],
   "source": [
    "pca_topic_vectors.shape # so it's the total number of tweets"
   ]
  },
  {
   "cell_type": "code",
   "execution_count": 251,
   "metadata": {},
   "outputs": [
    {
     "data": {
      "text/plain": [
       "((203, 3), (75, 1))"
      ]
     },
     "execution_count": 251,
     "metadata": {},
     "output_type": "execute_result"
    }
   ],
   "source": [
    "df.shape, mean_df.shape # we could use mean_df to classify as a zero or one for classification"
   ]
  },
  {
   "cell_type": "code",
   "execution_count": 252,
   "metadata": {},
   "outputs": [],
   "source": [
    "column_nums, terms = zip(*sorted(zip(tfidf.vocabulary_.values(), tfidf.vocabulary_.keys())))"
   ]
  },
  {
   "cell_type": "code",
   "execution_count": 253,
   "metadata": {},
   "outputs": [],
   "source": [
    "weights = pd.DataFrame(pca.components_, columns=terms, index=['topic{}'.format(i) for i in range(topic_count)])"
   ]
  },
  {
   "cell_type": "code",
   "execution_count": 254,
   "metadata": {},
   "outputs": [
    {
     "data": {
      "text/html": [
       "<div>\n",
       "<style scoped>\n",
       "    .dataframe tbody tr th:only-of-type {\n",
       "        vertical-align: middle;\n",
       "    }\n",
       "\n",
       "    .dataframe tbody tr th {\n",
       "        vertical-align: top;\n",
       "    }\n",
       "\n",
       "    .dataframe thead th {\n",
       "        text-align: right;\n",
       "    }\n",
       "</style>\n",
       "<table border=\"1\" class=\"dataframe\">\n",
       "  <thead>\n",
       "    <tr style=\"text-align: right;\">\n",
       "      <th></th>\n",
       "      <th>!</th>\n",
       "      <th>\"</th>\n",
       "      <th>#stopthecoup</th>\n",
       "      <th>$</th>\n",
       "      <th>%</th>\n",
       "      <th>&amp;</th>\n",
       "      <th>(</th>\n",
       "      <th>)</th>\n",
       "      <th>):</th>\n",
       "      <th>,</th>\n",
       "      <th>...</th>\n",
       "      <th>your</th>\n",
       "      <th>zero</th>\n",
       "      <th>zone</th>\n",
       "      <th>zones</th>\n",
       "      <th>zucker</th>\n",
       "      <th>–</th>\n",
       "      <th>‘</th>\n",
       "      <th>’</th>\n",
       "      <th>“</th>\n",
       "      <th>”</th>\n",
       "    </tr>\n",
       "  </thead>\n",
       "  <tbody>\n",
       "    <tr>\n",
       "      <td>topic0</td>\n",
       "      <td>-0.075</td>\n",
       "      <td>-0.009</td>\n",
       "      <td>0.002</td>\n",
       "      <td>0.003</td>\n",
       "      <td>-0.031</td>\n",
       "      <td>0.009</td>\n",
       "      <td>0.030</td>\n",
       "      <td>0.032</td>\n",
       "      <td>-0.004</td>\n",
       "      <td>-0.074</td>\n",
       "      <td>...</td>\n",
       "      <td>-0.139</td>\n",
       "      <td>0.011</td>\n",
       "      <td>-0.007</td>\n",
       "      <td>-0.002</td>\n",
       "      <td>0.010</td>\n",
       "      <td>0.000</td>\n",
       "      <td>0.004</td>\n",
       "      <td>0.313</td>\n",
       "      <td>0.064</td>\n",
       "      <td>0.079</td>\n",
       "    </tr>\n",
       "    <tr>\n",
       "      <td>topic1</td>\n",
       "      <td>0.034</td>\n",
       "      <td>0.001</td>\n",
       "      <td>0.012</td>\n",
       "      <td>-0.004</td>\n",
       "      <td>-0.013</td>\n",
       "      <td>-0.042</td>\n",
       "      <td>0.028</td>\n",
       "      <td>0.028</td>\n",
       "      <td>0.000</td>\n",
       "      <td>-0.061</td>\n",
       "      <td>...</td>\n",
       "      <td>0.132</td>\n",
       "      <td>-0.001</td>\n",
       "      <td>-0.024</td>\n",
       "      <td>-0.014</td>\n",
       "      <td>0.010</td>\n",
       "      <td>-0.005</td>\n",
       "      <td>0.003</td>\n",
       "      <td>0.185</td>\n",
       "      <td>-0.029</td>\n",
       "      <td>-0.019</td>\n",
       "    </tr>\n",
       "    <tr>\n",
       "      <td>topic2</td>\n",
       "      <td>-0.032</td>\n",
       "      <td>-0.005</td>\n",
       "      <td>0.018</td>\n",
       "      <td>-0.010</td>\n",
       "      <td>0.012</td>\n",
       "      <td>-0.058</td>\n",
       "      <td>-0.047</td>\n",
       "      <td>-0.046</td>\n",
       "      <td>-0.002</td>\n",
       "      <td>-0.283</td>\n",
       "      <td>...</td>\n",
       "      <td>0.005</td>\n",
       "      <td>-0.054</td>\n",
       "      <td>0.051</td>\n",
       "      <td>0.019</td>\n",
       "      <td>0.004</td>\n",
       "      <td>-0.005</td>\n",
       "      <td>-0.008</td>\n",
       "      <td>0.057</td>\n",
       "      <td>0.005</td>\n",
       "      <td>0.006</td>\n",
       "    </tr>\n",
       "    <tr>\n",
       "      <td>topic3</td>\n",
       "      <td>-0.029</td>\n",
       "      <td>-0.008</td>\n",
       "      <td>-0.044</td>\n",
       "      <td>0.003</td>\n",
       "      <td>-0.036</td>\n",
       "      <td>-0.042</td>\n",
       "      <td>-0.024</td>\n",
       "      <td>-0.021</td>\n",
       "      <td>-0.004</td>\n",
       "      <td>0.082</td>\n",
       "      <td>...</td>\n",
       "      <td>-0.004</td>\n",
       "      <td>-0.004</td>\n",
       "      <td>-0.004</td>\n",
       "      <td>-0.000</td>\n",
       "      <td>-0.021</td>\n",
       "      <td>-0.009</td>\n",
       "      <td>0.002</td>\n",
       "      <td>-0.040</td>\n",
       "      <td>-0.116</td>\n",
       "      <td>-0.125</td>\n",
       "    </tr>\n",
       "    <tr>\n",
       "      <td>topic4</td>\n",
       "      <td>0.067</td>\n",
       "      <td>-0.004</td>\n",
       "      <td>0.011</td>\n",
       "      <td>0.007</td>\n",
       "      <td>0.111</td>\n",
       "      <td>0.018</td>\n",
       "      <td>0.003</td>\n",
       "      <td>0.004</td>\n",
       "      <td>-0.002</td>\n",
       "      <td>0.119</td>\n",
       "      <td>...</td>\n",
       "      <td>0.021</td>\n",
       "      <td>0.008</td>\n",
       "      <td>-0.022</td>\n",
       "      <td>-0.016</td>\n",
       "      <td>0.001</td>\n",
       "      <td>-0.004</td>\n",
       "      <td>-0.012</td>\n",
       "      <td>-0.097</td>\n",
       "      <td>-0.184</td>\n",
       "      <td>-0.190</td>\n",
       "    </tr>\n",
       "    <tr>\n",
       "      <td>topic5</td>\n",
       "      <td>-0.040</td>\n",
       "      <td>-0.014</td>\n",
       "      <td>-0.048</td>\n",
       "      <td>-0.011</td>\n",
       "      <td>0.111</td>\n",
       "      <td>-0.008</td>\n",
       "      <td>0.002</td>\n",
       "      <td>0.006</td>\n",
       "      <td>-0.007</td>\n",
       "      <td>0.031</td>\n",
       "      <td>...</td>\n",
       "      <td>0.091</td>\n",
       "      <td>-0.032</td>\n",
       "      <td>0.011</td>\n",
       "      <td>0.004</td>\n",
       "      <td>-0.015</td>\n",
       "      <td>0.007</td>\n",
       "      <td>0.009</td>\n",
       "      <td>-0.036</td>\n",
       "      <td>-0.009</td>\n",
       "      <td>-0.009</td>\n",
       "    </tr>\n",
       "  </tbody>\n",
       "</table>\n",
       "<p>6 rows × 1781 columns</p>\n",
       "</div>"
      ],
      "text/plain": [
       "            !      \"  #stopthecoup      $      %      &      (      )     ):  \\\n",
       "topic0 -0.075 -0.009         0.002  0.003 -0.031  0.009  0.030  0.032 -0.004   \n",
       "topic1  0.034  0.001         0.012 -0.004 -0.013 -0.042  0.028  0.028  0.000   \n",
       "topic2 -0.032 -0.005         0.018 -0.010  0.012 -0.058 -0.047 -0.046 -0.002   \n",
       "topic3 -0.029 -0.008        -0.044  0.003 -0.036 -0.042 -0.024 -0.021 -0.004   \n",
       "topic4  0.067 -0.004         0.011  0.007  0.111  0.018  0.003  0.004 -0.002   \n",
       "topic5 -0.040 -0.014        -0.048 -0.011  0.111 -0.008  0.002  0.006 -0.007   \n",
       "\n",
       "            ,  ...   your   zero   zone  zones  zucker      –      ‘      ’  \\\n",
       "topic0 -0.074  ... -0.139  0.011 -0.007 -0.002   0.010  0.000  0.004  0.313   \n",
       "topic1 -0.061  ...  0.132 -0.001 -0.024 -0.014   0.010 -0.005  0.003  0.185   \n",
       "topic2 -0.283  ...  0.005 -0.054  0.051  0.019   0.004 -0.005 -0.008  0.057   \n",
       "topic3  0.082  ... -0.004 -0.004 -0.004 -0.000  -0.021 -0.009  0.002 -0.040   \n",
       "topic4  0.119  ...  0.021  0.008 -0.022 -0.016   0.001 -0.004 -0.012 -0.097   \n",
       "topic5  0.031  ...  0.091 -0.032  0.011  0.004  -0.015  0.007  0.009 -0.036   \n",
       "\n",
       "            “      ”  \n",
       "topic0  0.064  0.079  \n",
       "topic1 -0.029 -0.019  \n",
       "topic2  0.005  0.006  \n",
       "topic3 -0.116 -0.125  \n",
       "topic4 -0.184 -0.190  \n",
       "topic5 -0.009 -0.009  \n",
       "\n",
       "[6 rows x 1781 columns]"
      ]
     },
     "execution_count": 254,
     "metadata": {},
     "output_type": "execute_result"
    }
   ],
   "source": [
    "weights.round(3)"
   ]
  },
  {
   "cell_type": "code",
   "execution_count": 255,
   "metadata": {},
   "outputs": [
    {
     "data": {
      "text/html": [
       "<div>\n",
       "<style scoped>\n",
       "    .dataframe tbody tr th:only-of-type {\n",
       "        vertical-align: middle;\n",
       "    }\n",
       "\n",
       "    .dataframe tbody tr th {\n",
       "        vertical-align: top;\n",
       "    }\n",
       "\n",
       "    .dataframe thead th {\n",
       "        text-align: right;\n",
       "    }\n",
       "</style>\n",
       "<table border=\"1\" class=\"dataframe\">\n",
       "  <thead>\n",
       "    <tr style=\"text-align: right;\">\n",
       "      <th></th>\n",
       "      <th>kurds</th>\n",
       "      <th>whistleblower</th>\n",
       "      <th>turkey</th>\n",
       "      <th>call</th>\n",
       "      <th>democrat</th>\n",
       "      <th>nothing</th>\n",
       "      <th>impeachment</th>\n",
       "      <th>witch</th>\n",
       "      <th>hunt</th>\n",
       "      <th>scam</th>\n",
       "      <th>ukrainian</th>\n",
       "    </tr>\n",
       "  </thead>\n",
       "  <tbody>\n",
       "    <tr>\n",
       "      <td>topic0</td>\n",
       "      <td>-0.036</td>\n",
       "      <td>0.275</td>\n",
       "      <td>-0.050</td>\n",
       "      <td>0.097</td>\n",
       "      <td>-0.007</td>\n",
       "      <td>0.020</td>\n",
       "      <td>0.027</td>\n",
       "      <td>0.005</td>\n",
       "      <td>0.005</td>\n",
       "      <td>0.040</td>\n",
       "      <td>0.034</td>\n",
       "    </tr>\n",
       "    <tr>\n",
       "      <td>topic1</td>\n",
       "      <td>-0.133</td>\n",
       "      <td>0.174</td>\n",
       "      <td>-0.136</td>\n",
       "      <td>0.039</td>\n",
       "      <td>0.012</td>\n",
       "      <td>-0.043</td>\n",
       "      <td>-0.012</td>\n",
       "      <td>-0.014</td>\n",
       "      <td>-0.014</td>\n",
       "      <td>0.014</td>\n",
       "      <td>0.019</td>\n",
       "    </tr>\n",
       "    <tr>\n",
       "      <td>topic2</td>\n",
       "      <td>0.181</td>\n",
       "      <td>0.102</td>\n",
       "      <td>0.227</td>\n",
       "      <td>-0.091</td>\n",
       "      <td>-0.049</td>\n",
       "      <td>-0.175</td>\n",
       "      <td>-0.069</td>\n",
       "      <td>-0.073</td>\n",
       "      <td>-0.073</td>\n",
       "      <td>-0.059</td>\n",
       "      <td>-0.029</td>\n",
       "    </tr>\n",
       "    <tr>\n",
       "      <td>topic3</td>\n",
       "      <td>0.136</td>\n",
       "      <td>0.160</td>\n",
       "      <td>0.107</td>\n",
       "      <td>0.109</td>\n",
       "      <td>-0.011</td>\n",
       "      <td>0.050</td>\n",
       "      <td>-0.038</td>\n",
       "      <td>0.009</td>\n",
       "      <td>0.009</td>\n",
       "      <td>0.058</td>\n",
       "      <td>0.048</td>\n",
       "    </tr>\n",
       "    <tr>\n",
       "      <td>topic4</td>\n",
       "      <td>0.012</td>\n",
       "      <td>0.120</td>\n",
       "      <td>0.042</td>\n",
       "      <td>-0.067</td>\n",
       "      <td>0.026</td>\n",
       "      <td>0.119</td>\n",
       "      <td>-0.043</td>\n",
       "      <td>-0.017</td>\n",
       "      <td>-0.017</td>\n",
       "      <td>0.008</td>\n",
       "      <td>0.006</td>\n",
       "    </tr>\n",
       "    <tr>\n",
       "      <td>topic5</td>\n",
       "      <td>0.023</td>\n",
       "      <td>0.134</td>\n",
       "      <td>0.006</td>\n",
       "      <td>0.173</td>\n",
       "      <td>0.037</td>\n",
       "      <td>-0.107</td>\n",
       "      <td>0.053</td>\n",
       "      <td>0.016</td>\n",
       "      <td>0.016</td>\n",
       "      <td>0.075</td>\n",
       "      <td>0.062</td>\n",
       "    </tr>\n",
       "  </tbody>\n",
       "</table>\n",
       "</div>"
      ],
      "text/plain": [
       "        kurds  whistleblower  turkey   call  democrat  nothing  impeachment  \\\n",
       "topic0 -0.036          0.275  -0.050  0.097    -0.007    0.020        0.027   \n",
       "topic1 -0.133          0.174  -0.136  0.039     0.012   -0.043       -0.012   \n",
       "topic2  0.181          0.102   0.227 -0.091    -0.049   -0.175       -0.069   \n",
       "topic3  0.136          0.160   0.107  0.109    -0.011    0.050       -0.038   \n",
       "topic4  0.012          0.120   0.042 -0.067     0.026    0.119       -0.043   \n",
       "topic5  0.023          0.134   0.006  0.173     0.037   -0.107        0.053   \n",
       "\n",
       "        witch   hunt   scam  ukrainian  \n",
       "topic0  0.005  0.005  0.040      0.034  \n",
       "topic1 -0.014 -0.014  0.014      0.019  \n",
       "topic2 -0.073 -0.073 -0.059     -0.029  \n",
       "topic3  0.009  0.009  0.058      0.048  \n",
       "topic4 -0.017 -0.017  0.008      0.006  \n",
       "topic5  0.016  0.016  0.075      0.062  "
      ]
     },
     "execution_count": 255,
     "metadata": {},
     "output_type": "execute_result"
    }
   ],
   "source": [
    "search = 'kurds whistleblower turkey call democrat nothing impeachment witch hunt scam ukrainian'.split()\n",
    "search_weights = weights[search].round(3)\n",
    "search_weights"
   ]
  },
  {
   "cell_type": "code",
   "execution_count": 256,
   "metadata": {},
   "outputs": [
    {
     "data": {
      "image/png": "[encoded data removed]",
      "text/plain": [
       "<Figure size 720x432 with 2 Axes>"
      ]
     },
     "metadata": {
      "needs_background": "light"
     },
     "output_type": "display_data"
    }
   ],
   "source": [
    "import seaborn as sns\n",
    "\n",
    "cmap = sns.light_palette(\"red\")\n",
    "\n",
    "fig, ax = plt.subplots(figsize=(10,6)) \n",
    "ax = sns.heatmap(search_weights, square=True, ax=ax, cmap=cmap)\n",
    "\n",
    "# fix for mpl bug that cuts off top/bottom of seaborn viz\n",
    "# taken from https://github.com/mwaskom/seaborn/issues/1773\n",
    "b, t = plt.ylim() # discover the values for bottom and top\n",
    "b += 0.5 # Add 0.5 to the bottom\n",
    "t -= 0.5 # Subtract 0.5 from the top\n",
    "plt.ylim(b, t) # update the ylim(bottom, top) values\n",
    "plt.show() # ta-da!"
   ]
  },
  {
   "cell_type": "code",
   "execution_count": null,
   "metadata": {},
   "outputs": [],
   "source": []
  },
  {
   "cell_type": "code",
   "execution_count": null,
   "metadata": {},
   "outputs": [],
   "source": []
  },
  {
   "cell_type": "code",
   "execution_count": null,
   "metadata": {},
   "outputs": [],
   "source": []
  }
 ],
 "metadata": {
  "kernelspec": {
   "display_name": "Python 3",
   "language": "python",
   "name": "python3"
  },
  "language_info": {
   "codemirror_mode": {
    "name": "ipython",
    "version": 3
   },
   "file_extension": ".py",
   "mimetype": "text/x-python",
   "name": "python",
   "nbconvert_exporter": "python",
   "pygments_lexer": "ipython3",
   "version": "3.7.4"
  }
 },
 "nbformat": 4,
 "nbformat_minor": 2
}
