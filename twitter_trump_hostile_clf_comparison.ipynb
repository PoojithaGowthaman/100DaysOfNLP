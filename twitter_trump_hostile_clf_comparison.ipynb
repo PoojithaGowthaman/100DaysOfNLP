{
 "cells": [
  {
   "cell_type": "code",
   "execution_count": 23,
   "metadata": {},
   "outputs": [],
   "source": [
    "import pandas as pd\n",
    "import numpy as np\n",
    "\n",
    "import matplotlib.pyplot as plt\n",
    "import seaborn as sns\n",
    "\n",
    "%matplotlib inline\n",
    "\n",
    "from nltk.tokenize.casual import casual_tokenize \n",
    "\n",
    "from sklearn.feature_extraction.text import CountVectorizer\n",
    "from sklearn.feature_extraction.text import TfidfVectorizer\n",
    "from sklearn.decomposition import TruncatedSVD\n",
    "\n",
    "from sklearn.model_selection import train_test_split\n",
    "from sklearn.discriminant_analysis import LinearDiscriminantAnalysis as LDA\n",
    "from sklearn.naive_bayes import GaussianNB\n",
    "\n",
    "import warnings\n",
    "warnings.filterwarnings(\"ignore\")"
   ]
  },
  {
   "cell_type": "markdown",
   "metadata": {},
   "source": [
    "# Step 1: Get Data\n",
    "\n",
    "The goal of this exercise is to compare classification scores using different sources of input data, and then across multiple classifiers. \n",
    "\n",
    "First, I want to compare LDA classification comparing different input sources:\n",
    "- bag_of_words count vectors\n",
    "- tf-idf vectors\n",
    "- topic vectors\n",
    "\n",
    "Second, I want to compare multiple classifiers against each of those vectors. For classification, I will use:\n",
    "- LDA: https://scikit-learn.org/stable/modules/generated/sklearn.discriminant_analysis.LinearDiscriminantAnalysis.html\n",
    "- Gaussian Naive Bayes: https://scikit-learn.org/stable/modules/generated/sklearn.naive_bayes.GaussianNB.html\n",
    "- Logistic Regression: https://scikit-learn.org/stable/modules/generated/sklearn.linear_model.LogisticRegression.html\n",
    "- K Nearest Neighbors: https://scikit-learn.org/stable/modules/generated/sklearn.neighbors.KNeighborsClassifier.html\n",
    "- Linear SVC: https://scikit-learn.org/stable/modules/generated/sklearn.svm.LinearSVC.html\n",
    "\n",
    "That said, the first step of this is building the training dataframe."
   ]
  },
  {
   "cell_type": "code",
   "execution_count": 24,
   "metadata": {},
   "outputs": [
    {
     "data": {
      "text/html": [
       "<div>\n",
       "<style scoped>\n",
       "    .dataframe tbody tr th:only-of-type {\n",
       "        vertical-align: middle;\n",
       "    }\n",
       "\n",
       "    .dataframe tbody tr th {\n",
       "        vertical-align: top;\n",
       "    }\n",
       "\n",
       "    .dataframe thead th {\n",
       "        text-align: right;\n",
       "    }\n",
       "</style>\n",
       "<table border=\"1\" class=\"dataframe\">\n",
       "  <thead>\n",
       "    <tr style=\"text-align: right;\">\n",
       "      <th></th>\n",
       "      <th>tweet</th>\n",
       "      <th>label</th>\n",
       "    </tr>\n",
       "  </thead>\n",
       "  <tbody>\n",
       "    <tr>\n",
       "      <th>0</th>\n",
       "      <td>no matter what you do for the do nothing democ...</td>\n",
       "      <td>1</td>\n",
       "    </tr>\n",
       "    <tr>\n",
       "      <th>1</th>\n",
       "      <td>them happy, or even a little bit satisfied. th...</td>\n",
       "      <td>1</td>\n",
       "    </tr>\n",
       "    <tr>\n",
       "      <th>2</th>\n",
       "      <td>the most often used phrase in the lamestream m...</td>\n",
       "      <td>1</td>\n",
       "    </tr>\n",
       "    <tr>\n",
       "      <th>3</th>\n",
       "      <td>just like i was right on ventilators (our coun...</td>\n",
       "      <td>0</td>\n",
       "    </tr>\n",
       "    <tr>\n",
       "      <th>4</th>\n",
       "      <td>.@foxnews “dems say president trump is trying ...</td>\n",
       "      <td>0</td>\n",
       "    </tr>\n",
       "  </tbody>\n",
       "</table>\n",
       "</div>"
      ],
      "text/plain": [
       "                                               tweet  label\n",
       "0  no matter what you do for the do nothing democ...      1\n",
       "1  them happy, or even a little bit satisfied. th...      1\n",
       "2  the most often used phrase in the lamestream m...      1\n",
       "3  just like i was right on ventilators (our coun...      0\n",
       "4  .@foxnews “dems say president trump is trying ...      0"
      ]
     },
     "execution_count": 24,
     "metadata": {},
     "output_type": "execute_result"
    }
   ],
   "source": [
    "src_dir = r'C:\\Users\\groov\\PythonCode\\output\\trump_tweets\\\\'\n",
    "hostile_file = src_dir + 'trump_tweets_hostile_clf.csv'\n",
    "\n",
    "clf_df = pd.read_csv(hostile_file, header=None)\n",
    "clf_df.columns = ['ts', 'tweet', 'label']\n",
    "clf_df.drop('ts', axis=1, inplace=True)\n",
    "clf_df.reset_index(drop=True, inplace=True)\n",
    "\n",
    "# wrangling\n",
    "clf_df['tweet'] = clf_df['tweet'].str.replace('&amp;', 'and')\n",
    "\n",
    "clf_df.head()"
   ]
  },
  {
   "cell_type": "markdown",
   "metadata": {},
   "source": [
    "To maximize accuracy, we are not going to remove stopwords. Let's also set aside the data for tfidf and bow."
   ]
  },
  {
   "cell_type": "code",
   "execution_count": 25,
   "metadata": {},
   "outputs": [],
   "source": [
    "tweets = clf_df['tweet']\n",
    "labels = clf_df['label']\n",
    "\n",
    "del(clf_df)"
   ]
  },
  {
   "cell_type": "markdown",
   "metadata": {},
   "source": [
    "# Step 2: Bag of Words"
   ]
  },
  {
   "cell_type": "code",
   "execution_count": 26,
   "metadata": {},
   "outputs": [
    {
     "data": {
      "text/plain": [
       "<1432x76162 sparse matrix of type '<class 'numpy.int64'>'\n",
       "\twith 162694 stored elements in Compressed Sparse Row format>"
      ]
     },
     "execution_count": 26,
     "metadata": {},
     "output_type": "execute_result"
    }
   ],
   "source": [
    "counter = CountVectorizer(tokenizer=casual_tokenize, ngram_range=(1,3))\n",
    "bow_docs = counter.fit_transform(tweets.values)\n",
    "bow_docs"
   ]
  },
  {
   "cell_type": "markdown",
   "metadata": {},
   "source": [
    "# Step 2: TF-IDF Vectorize\n",
    "\n",
    "Next, I'm going to use the cleaned up text and create tf-idf vectors for tokens, bigrams, and trigrams. I'll confirm this still looks good by doing basic tf-idf analysis by label. I am not going to remove stopwords, as they often contain information. For\n",
    "instance, one common slur is \"do nothing democrats\", and the word \"do\" is a stopword. "
   ]
  },
  {
   "cell_type": "code",
   "execution_count": 5,
   "metadata": {},
   "outputs": [
    {
     "data": {
      "text/plain": [
       "<1432x76162 sparse matrix of type '<class 'numpy.float64'>'\n",
       "\twith 162694 stored elements in Compressed Sparse Row format>"
      ]
     },
     "execution_count": 5,
     "metadata": {},
     "output_type": "execute_result"
    }
   ],
   "source": [
    "tfidf = TfidfVectorizer(tokenizer=casual_tokenize, ngram_range=(1,3), lowercase=True, sublinear_tf=True)\n",
    "tfidf_docs = tfidf.fit_transform(raw_documents=tweets)\n",
    "tfidf_docs"
   ]
  },
  {
   "cell_type": "markdown",
   "metadata": {},
   "source": [
    "# Topic Modeling with TruncatedSVD"
   ]
  },
  {
   "cell_type": "code",
   "execution_count": 6,
   "metadata": {},
   "outputs": [],
   "source": [
    "svd = TruncatedSVD(n_components=100, n_iter=100, random_state=1337)\n",
    "svd_topic_vectors = svd.fit_transform(tfidf_docs)"
   ]
  },
  {
   "cell_type": "markdown",
   "metadata": {},
   "source": [
    "You can't get much visibility into TruncatedSVD without using something like Lime. I'm not going to worry about it\n",
    "for this exercise."
   ]
  },
  {
   "cell_type": "markdown",
   "metadata": {},
   "source": [
    "# Classification\n",
    "\n",
    "First, I want to try classification using bag of words count vectors as our X input data."
   ]
  },
  {
   "cell_type": "code",
   "execution_count": 7,
   "metadata": {},
   "outputs": [
    {
     "data": {
      "text/plain": [
       "((716, 76162), (716, 76162), 716, 716)"
      ]
     },
     "execution_count": 7,
     "metadata": {},
     "output_type": "execute_result"
    }
   ],
   "source": [
    "X = bow_docs\n",
    "y = labels\n",
    "\n",
    "X_train, X_test, y_train, y_test = train_test_split(X, y, random_state=1337, test_size=0.5)\n",
    "X_train.shape, X_test.shape, len(y_train), len(y_test)"
   ]
  },
  {
   "cell_type": "code",
   "execution_count": null,
   "metadata": {},
   "outputs": [],
   "source": [
    "lda = LDA(n_components=1, solver='lsqr', shrinkage=0.4)\n",
    "lda.fit(X_train.toarray(), y_train)\n",
    "lda.score(X_train.toarray(), y_train), lda.score(X_test.toarray(), y_test)"
   ]
  },
  {
   "cell_type": "markdown",
   "metadata": {},
   "source": [
    "Result: Utter Failure\n",
    "\n",
    "MemoryError: Unable to allocate 43.2 GiB for an array with shape (76162, 76162) and data type float64\n",
    "\n",
    "The takeaway is that if you want to use count vectors as input, you're going to need a lot of memory even for tiny data.\n",
    "\n",
    "The alternative is to remove stopwords, but then you potentially reduce accuracy. Maybe this is part of the reason people are\n",
    "teaching to throw away stop words or to use neural networks for everything. \n",
    "\n",
    "Let's try with Naive Bayes to see if it runs into the same memory problems."
   ]
  },
  {
   "cell_type": "code",
   "execution_count": 8,
   "metadata": {},
   "outputs": [
    {
     "data": {
      "text/plain": [
       "(0.994413407821229, 0.8184357541899442)"
      ]
     },
     "execution_count": 8,
     "metadata": {},
     "output_type": "execute_result"
    }
   ],
   "source": [
    "nb = GaussianNB()\n",
    "nb.fit(X_train.toarray(), y_train)\n",
    "nb.score(X_train.toarray(), y_train), nb.score(X_test.toarray(), y_test)"
   ]
  },
  {
   "cell_type": "markdown",
   "metadata": {},
   "source": [
    "Naive Bayes works, but it massively overfits. This is expected when you have 76,000 features.\n",
    "\n",
    "Next, let's try tf-idf topic vectors. I expect the same results, as we are dealing with the same n-grams. Values are just calculated rather than counted."
   ]
  },
  {
   "cell_type": "code",
   "execution_count": 9,
   "metadata": {},
   "outputs": [
    {
     "data": {
      "text/plain": [
       "((716, 76162), (716, 76162), 716, 716)"
      ]
     },
     "execution_count": 9,
     "metadata": {},
     "output_type": "execute_result"
    }
   ],
   "source": [
    "X = tfidf_docs\n",
    "y = labels\n",
    "\n",
    "X_train, X_test, y_train, y_test = train_test_split(X, y, random_state=1337, test_size=0.5)\n",
    "X_train.shape, X_test.shape, len(y_train), len(y_test)"
   ]
  },
  {
   "cell_type": "code",
   "execution_count": null,
   "metadata": {},
   "outputs": [],
   "source": [
    "lda = LDA(n_components=1, solver='lsqr', shrinkage=0.4)\n",
    "lda.fit(X_train.toarray(), y_train)\n",
    "lda.score(X_train.toarray(), y_train), lda.score(X_test.toarray(), y_test)"
   ]
  },
  {
   "cell_type": "markdown",
   "metadata": {},
   "source": [
    "Result: Utter Failure\n",
    "\n",
    "MemoryError: Unable to allocate 43.2 GiB for an array with shape (76162, 76162) and data type float64\n",
    "\n",
    "Same result for tf-idf. Let's try with Naive Bayes to see if it runs into the same memory problems."
   ]
  },
  {
   "cell_type": "code",
   "execution_count": 10,
   "metadata": {},
   "outputs": [
    {
     "data": {
      "text/plain": [
       "(0.994413407821229, 0.8114525139664804)"
      ]
     },
     "execution_count": 10,
     "metadata": {},
     "output_type": "execute_result"
    }
   ],
   "source": [
    "nb = GaussianNB()\n",
    "nb.fit(X_train.toarray(), y_train)\n",
    "nb.score(X_train.toarray(), y_train), nb.score(X_test.toarray(), y_test)"
   ]
  },
  {
   "cell_type": "markdown",
   "metadata": {},
   "source": [
    "Again, this massively overfits, and the accuracy is even worse than with count vectors, which is unexpected.\n",
    "\n",
    "Finally, let's try with topic vectors."
   ]
  },
  {
   "cell_type": "code",
   "execution_count": 11,
   "metadata": {},
   "outputs": [
    {
     "data": {
      "text/plain": [
       "((716, 100), (716, 100), 716, 716)"
      ]
     },
     "execution_count": 11,
     "metadata": {},
     "output_type": "execute_result"
    }
   ],
   "source": [
    "X = svd_topic_vectors\n",
    "y = labels\n",
    "\n",
    "X_train, X_test, y_train, y_test = train_test_split(X, y, random_state=1337, test_size=0.5)\n",
    "X_train.shape, X_test.shape, len(y_train), len(y_test)"
   ]
  },
  {
   "cell_type": "markdown",
   "metadata": {},
   "source": [
    "This time, rather than having 76,000 features, we have 100. This should reduce overfitting and should open the door for use of other classifiers as well. Let's see how performance is this time."
   ]
  },
  {
   "cell_type": "code",
   "execution_count": 12,
   "metadata": {},
   "outputs": [
    {
     "data": {
      "text/plain": [
       "(0.909217877094972, 0.8952513966480447)"
      ]
     },
     "execution_count": 12,
     "metadata": {},
     "output_type": "execute_result"
    }
   ],
   "source": [
    "lda = LDA(n_components=1, solver='lsqr', shrinkage=0.4)\n",
    "lda.fit(X_train, y_train)\n",
    "lda.score(X_train, y_train), lda.score(X_test, y_test)"
   ]
  },
  {
   "cell_type": "markdown",
   "metadata": {},
   "source": [
    "This is a great fit. There's no overfitting, and LDA successfully runs. We also didn't need to throw away stop words,\n",
    "and the classifier trains and scores in a fraction of a second. This is beautiful.\n",
    "\n",
    "So, here's the takeaway. If you're going to use raw count vectors or tfidf vectors, you can use them in Naive Bayes, but you are going to create a model that massively overfits, and if you attempt to use them with LDA, it'll not run at all. So, your choices are a) massive overfitting or b) utter failure unless you run this on a sever with obnoxiously unnecessary specs.\n",
    "\n",
    "If you use topics on the other hand, you eliminate overfitting due to massive feature reduction, and accuracy can drastically improve. So, this is win-win.\n",
    "\n",
    "So, for the rest of this experiment, we are going to disregard the raw count and tfidf vectors and use topic vectors for our X."
   ]
  },
  {
   "cell_type": "markdown",
   "metadata": {},
   "source": [
    "# Classifier Comparisons \n",
    "\n",
    "Important note: I am doing this experiment off of a few different models that I have successfully used in the past. This is not a definitive list of classifiers. If you would like me to run a classifier that I haven't tried, let me know and I'll see if I can get it added. That said, I am completely avoiding neural networks for this experiment. This is a comparison of simpler models.\n",
    "\n",
    "First things first, let's set up our input data."
   ]
  },
  {
   "cell_type": "code",
   "execution_count": 13,
   "metadata": {},
   "outputs": [
    {
     "data": {
      "text/plain": [
       "((716, 100), (716, 100), 716, 716)"
      ]
     },
     "execution_count": 13,
     "metadata": {},
     "output_type": "execute_result"
    }
   ],
   "source": [
    "X = svd_topic_vectors\n",
    "y = labels\n",
    "\n",
    "X_train, X_test, y_train, y_test = train_test_split(X, y, random_state=1337, test_size=0.5)\n",
    "X_train.shape, X_test.shape, len(y_train), len(y_test)"
   ]
  },
  {
   "cell_type": "markdown",
   "metadata": {},
   "source": [
    "Let's also keep these values in an array so that we can visualize this at the end."
   ]
  },
  {
   "cell_type": "code",
   "execution_count": 14,
   "metadata": {},
   "outputs": [],
   "source": [
    "model = []\n",
    "train_score = []\n",
    "test_score = []"
   ]
  },
  {
   "cell_type": "markdown",
   "metadata": {},
   "source": [
    "My maximum score for this dataset has thus far come from using LDA, so, let's run that first."
   ]
  },
  {
   "cell_type": "code",
   "execution_count": 15,
   "metadata": {},
   "outputs": [
    {
     "data": {
      "text/plain": [
       "(0.909217877094972, 0.8952513966480447)"
      ]
     },
     "execution_count": 15,
     "metadata": {},
     "output_type": "execute_result"
    }
   ],
   "source": [
    "lda = LDA(n_components=1, solver='lsqr', shrinkage=0.4)\n",
    "lda.fit(X_train, y_train)\n",
    "\n",
    "train = lda.score(X_train, y_train)\n",
    "test = lda.score(X_test, y_test)\n",
    "\n",
    "model.append('LDA')\n",
    "train_score.append(train)\n",
    "test_score.append(test)\n",
    "\n",
    "train, test"
   ]
  },
  {
   "cell_type": "code",
   "execution_count": 16,
   "metadata": {},
   "outputs": [
    {
     "data": {
      "text/plain": [
       "(0.9064245810055865, 0.8896648044692738)"
      ]
     },
     "execution_count": 16,
     "metadata": {},
     "output_type": "execute_result"
    }
   ],
   "source": [
    "from sklearn.linear_model import LogisticRegression\n",
    "\n",
    "lr = LogisticRegression(random_state=1337, n_jobs=-1, C=13.04)\n",
    "lr.fit(X_train, y_train)\n",
    "\n",
    "train = lr.score(X_train, y_train)\n",
    "test = lr.score(X_test, y_test)\n",
    "\n",
    "model.append('Logistic Regression')\n",
    "train_score.append(train)\n",
    "test_score.append(test)\n",
    "\n",
    "train, test"
   ]
  },
  {
   "cell_type": "code",
   "execution_count": 17,
   "metadata": {},
   "outputs": [
    {
     "data": {
      "text/plain": [
       "(0.8282122905027933, 0.8282122905027933)"
      ]
     },
     "execution_count": 17,
     "metadata": {},
     "output_type": "execute_result"
    }
   ],
   "source": [
    "from sklearn.neighbors import KNeighborsClassifier\n",
    "\n",
    "knn = KNeighborsClassifier(n_neighbors=21)\n",
    "knn.fit(X_train, y_train)\n",
    "\n",
    "train = knn.score(X_train, y_train)\n",
    "test = knn.score(X_test, y_test)\n",
    "\n",
    "model.append('KNN')\n",
    "train_score.append(train)\n",
    "test_score.append(test)\n",
    "\n",
    "train, test"
   ]
  },
  {
   "cell_type": "code",
   "execution_count": 18,
   "metadata": {},
   "outputs": [
    {
     "data": {
      "text/plain": [
       "(0.6983240223463687, 0.6731843575418994)"
      ]
     },
     "execution_count": 18,
     "metadata": {},
     "output_type": "execute_result"
    }
   ],
   "source": [
    "nb = GaussianNB()\n",
    "nb.fit(X_train, y_train)\n",
    "\n",
    "train = nb.score(X_train, y_train)\n",
    "test = nb.score(X_test, y_test)\n",
    "\n",
    "model.append('Gaussian Naive Bayes')\n",
    "train_score.append(train)\n",
    "test_score.append(test)\n",
    "\n",
    "train, test"
   ]
  },
  {
   "cell_type": "markdown",
   "metadata": {},
   "source": [
    "Oh wow, that is terrible. That's even worse than the overfitting models using count and tfidf vectors. This is good to know!"
   ]
  },
  {
   "cell_type": "code",
   "execution_count": 19,
   "metadata": {},
   "outputs": [
    {
     "data": {
      "text/plain": [
       "(0.9134078212290503, 0.8952513966480447)"
      ]
     },
     "execution_count": 19,
     "metadata": {},
     "output_type": "execute_result"
    }
   ],
   "source": [
    "from sklearn.svm import LinearSVC\n",
    "\n",
    "svc = LinearSVC(C=1.9, random_state=1337)\n",
    "svc.fit(X_train, y_train)\n",
    "\n",
    "train = svc.score(X_train, y_train)\n",
    "test = svc.score(X_test, y_test)\n",
    "\n",
    "model.append('Linear SVC')\n",
    "train_score.append(train)\n",
    "test_score.append(test)\n",
    "\n",
    "train, test"
   ]
  },
  {
   "cell_type": "markdown",
   "metadata": {},
   "source": [
    "And now let's put it all together."
   ]
  },
  {
   "cell_type": "code",
   "execution_count": 20,
   "metadata": {},
   "outputs": [
    {
     "data": {
      "text/html": [
       "<div>\n",
       "<style scoped>\n",
       "    .dataframe tbody tr th:only-of-type {\n",
       "        vertical-align: middle;\n",
       "    }\n",
       "\n",
       "    .dataframe tbody tr th {\n",
       "        vertical-align: top;\n",
       "    }\n",
       "\n",
       "    .dataframe thead th {\n",
       "        text-align: right;\n",
       "    }\n",
       "</style>\n",
       "<table border=\"1\" class=\"dataframe\">\n",
       "  <thead>\n",
       "    <tr style=\"text-align: right;\">\n",
       "      <th></th>\n",
       "      <th>train_score</th>\n",
       "      <th>test_score</th>\n",
       "    </tr>\n",
       "    <tr>\n",
       "      <th>model</th>\n",
       "      <th></th>\n",
       "      <th></th>\n",
       "    </tr>\n",
       "  </thead>\n",
       "  <tbody>\n",
       "    <tr>\n",
       "      <th>Gaussian Naive Bayes</th>\n",
       "      <td>69.83</td>\n",
       "      <td>67.32</td>\n",
       "    </tr>\n",
       "    <tr>\n",
       "      <th>KNN</th>\n",
       "      <td>82.82</td>\n",
       "      <td>82.82</td>\n",
       "    </tr>\n",
       "    <tr>\n",
       "      <th>LDA</th>\n",
       "      <td>90.92</td>\n",
       "      <td>89.53</td>\n",
       "    </tr>\n",
       "    <tr>\n",
       "      <th>Linear SVC</th>\n",
       "      <td>91.34</td>\n",
       "      <td>89.53</td>\n",
       "    </tr>\n",
       "    <tr>\n",
       "      <th>Logistic Regression</th>\n",
       "      <td>90.64</td>\n",
       "      <td>88.97</td>\n",
       "    </tr>\n",
       "  </tbody>\n",
       "</table>\n",
       "</div>"
      ],
      "text/plain": [
       "                      train_score  test_score\n",
       "model                                        \n",
       "Gaussian Naive Bayes        69.83       67.32\n",
       "KNN                         82.82       82.82\n",
       "LDA                         90.92       89.53\n",
       "Linear SVC                  91.34       89.53\n",
       "Logistic Regression         90.64       88.97"
      ]
     },
     "execution_count": 20,
     "metadata": {},
     "output_type": "execute_result"
    }
   ],
   "source": [
    "result_df = pd.DataFrame({'model':model, 'train_score':train_score, 'test_score':test_score})\n",
    "result_df.sort_values('model', inplace=True)\n",
    "result_df.set_index('model', inplace=True)\n",
    "round(result_df * 100,2)"
   ]
  },
  {
   "cell_type": "markdown",
   "metadata": {},
   "source": [
    "So, this is interesting. I did not expect Linear SVC to do so well. Linear SVC and LDA both tied for first place, with Logistic Regression half a percent behind. Gaussian Naive Bayes, which is often taught as a fundamental NLP model scored the absolute worst when using topics, and KNN predicted at about 82%.\n",
    "\n",
    "An additional option is to create a voting classifier using the predictions of each of these, but to be honest, everytime I have done this, I just end up with an over-engineered piece of software that is much more pain to maintain than it is worth.\n",
    "\n",
    "Anyway, the moral of this story is to try different models. There is no free lunch."
   ]
  },
  {
   "cell_type": "markdown",
   "metadata": {},
   "source": [
    "# Bonus Step: Naive Bayes Without Stopwords\n",
    "\n",
    "Every now and then during this #100DaysOfNLP challenge, even AFTER showing that removing stop words reduces accuracy, someone will pop into the comments and just boldly claim that my problem is that I am not removing stopwords. Claims like this without examples are not science, they are opinion. So, let's see if there are any truth to this claim. I'm going to create a Naive Bayes classier using both word count vectors and tf-idf vectors AFTER removing stopwords and see if Naive Bayes can match the above classifiers. My hypothesis is that it will STILL overfit and will not reach the accuracy of either Logistic Regression, LDA, or Truncated SVD.\n",
    "\n",
    "So, time for setup."
   ]
  },
  {
   "cell_type": "code",
   "execution_count": 33,
   "metadata": {},
   "outputs": [
    {
     "data": {
      "text/plain": [
       "(179, 305, 361)"
      ]
     },
     "execution_count": 33,
     "metadata": {},
     "output_type": "execute_result"
    }
   ],
   "source": [
    "from nltk.corpus import stopwords\n",
    "from spacy.lang.en.stop_words import STOP_WORDS\n",
    "\n",
    "stop_words = set(stopwords.words('english'))\n",
    "combined_stop_words = set(list(stop_words) + list(STOP_WORDS))\n",
    "\n",
    "len(stop_words), len(list(STOP_WORDS)), len(combined_stop_words)"
   ]
  },
  {
   "cell_type": "code",
   "execution_count": 34,
   "metadata": {},
   "outputs": [
    {
     "data": {
      "text/plain": [
       "<1432x50705 sparse matrix of type '<class 'numpy.int64'>'\n",
       "\twith 89899 stored elements in Compressed Sparse Row format>"
      ]
     },
     "execution_count": 34,
     "metadata": {},
     "output_type": "execute_result"
    }
   ],
   "source": [
    "counter = CountVectorizer(tokenizer=casual_tokenize, ngram_range=(1,3), stop_words=combined_stop_words)\n",
    "bow_docs = counter.fit_transform(tweets.values)\n",
    "bow_docs"
   ]
  },
  {
   "cell_type": "code",
   "execution_count": 35,
   "metadata": {},
   "outputs": [
    {
     "data": {
      "text/plain": [
       "<1432x50705 sparse matrix of type '<class 'numpy.float64'>'\n",
       "\twith 89899 stored elements in Compressed Sparse Row format>"
      ]
     },
     "execution_count": 35,
     "metadata": {},
     "output_type": "execute_result"
    }
   ],
   "source": [
    "tfidf = TfidfVectorizer(tokenizer=casual_tokenize, ngram_range=(1,3), lowercase=True, sublinear_tf=True,\n",
    "                       stop_words=combined_stop_words)\n",
    "tfidf_docs = tfidf.fit_transform(raw_documents=tweets)\n",
    "tfidf_docs"
   ]
  },
  {
   "cell_type": "code",
   "execution_count": 36,
   "metadata": {},
   "outputs": [],
   "source": [
    "svd = TruncatedSVD(n_components=100, n_iter=100, random_state=1337)\n",
    "svd_topic_vectors = svd.fit_transform(tfidf_docs)"
   ]
  },
  {
   "cell_type": "code",
   "execution_count": 44,
   "metadata": {},
   "outputs": [],
   "source": [
    "model = []\n",
    "train_score = []\n",
    "test_score = []"
   ]
  },
  {
   "cell_type": "markdown",
   "metadata": {},
   "source": [
    "### First up, count vectors"
   ]
  },
  {
   "cell_type": "code",
   "execution_count": 45,
   "metadata": {},
   "outputs": [
    {
     "data": {
      "text/plain": [
       "((716, 50705), (716, 50705), 716, 716)"
      ]
     },
     "execution_count": 45,
     "metadata": {},
     "output_type": "execute_result"
    }
   ],
   "source": [
    "X = bow_docs\n",
    "y = labels\n",
    "\n",
    "X_train, X_test, y_train, y_test = train_test_split(X, y, random_state=1337, test_size=0.5)\n",
    "X_train.shape, X_test.shape, len(y_train), len(y_test)"
   ]
  },
  {
   "cell_type": "code",
   "execution_count": 46,
   "metadata": {},
   "outputs": [
    {
     "data": {
      "text/plain": [
       "(0.9930167597765364, 0.8226256983240223)"
      ]
     },
     "execution_count": 46,
     "metadata": {},
     "output_type": "execute_result"
    }
   ],
   "source": [
    "nb = GaussianNB()\n",
    "nb.fit(X_train.toarray(), y_train)\n",
    "\n",
    "train = nb.score(X_train.toarray(), y_train)\n",
    "test = nb.score(X_test.toarray(), y_test)\n",
    "\n",
    "model.append('NB w/ Count Vectors')\n",
    "train_score.append(train)\n",
    "test_score.append(test)\n",
    "\n",
    "train, test"
   ]
  },
  {
   "cell_type": "markdown",
   "metadata": {},
   "source": [
    "Still the same massive overfitting and much lower accuracy than the other models.\n",
    "\n",
    "### Next up, tf-idf vectors"
   ]
  },
  {
   "cell_type": "code",
   "execution_count": 47,
   "metadata": {},
   "outputs": [
    {
     "data": {
      "text/plain": [
       "((716, 50705), (716, 50705), 716, 716)"
      ]
     },
     "execution_count": 47,
     "metadata": {},
     "output_type": "execute_result"
    }
   ],
   "source": [
    "X = tfidf_docs\n",
    "y = labels\n",
    "\n",
    "X_train, X_test, y_train, y_test = train_test_split(X, y, random_state=1337, test_size=0.5)\n",
    "X_train.shape, X_test.shape, len(y_train), len(y_test)"
   ]
  },
  {
   "cell_type": "code",
   "execution_count": 48,
   "metadata": {},
   "outputs": [
    {
     "data": {
      "text/plain": [
       "(0.9930167597765364, 0.8142458100558659)"
      ]
     },
     "execution_count": 48,
     "metadata": {},
     "output_type": "execute_result"
    }
   ],
   "source": [
    "nb = GaussianNB()\n",
    "nb.fit(X_train.toarray(), y_train)\n",
    "\n",
    "train = nb.score(X_train.toarray(), y_train)\n",
    "test = nb.score(X_test.toarray(), y_test)\n",
    "\n",
    "model.append('NB w/ TF-IDF Vectors')\n",
    "train_score.append(train)\n",
    "test_score.append(test)\n",
    "\n",
    "train, test"
   ]
  },
  {
   "cell_type": "markdown",
   "metadata": {},
   "source": [
    "Still the same massive overfitting and much lower accuracy than the other models, and even lower accuracy than count vectors.\n",
    "\n",
    "### And finally, topic vectors"
   ]
  },
  {
   "cell_type": "code",
   "execution_count": 49,
   "metadata": {},
   "outputs": [
    {
     "data": {
      "text/plain": [
       "((716, 100), (716, 100), 716, 716)"
      ]
     },
     "execution_count": 49,
     "metadata": {},
     "output_type": "execute_result"
    }
   ],
   "source": [
    "X = svd_topic_vectors\n",
    "y = labels\n",
    "\n",
    "X_train, X_test, y_train, y_test = train_test_split(X, y, random_state=1337, test_size=0.5)\n",
    "X_train.shape, X_test.shape, len(y_train), len(y_test)"
   ]
  },
  {
   "cell_type": "code",
   "execution_count": 51,
   "metadata": {},
   "outputs": [
    {
     "data": {
      "text/plain": [
       "(0.7849162011173184, 0.7835195530726257)"
      ]
     },
     "execution_count": 51,
     "metadata": {},
     "output_type": "execute_result"
    }
   ],
   "source": [
    "nb = GaussianNB()\n",
    "nb.fit(X_train, y_train)\n",
    "\n",
    "train = nb.score(X_train, y_train)\n",
    "test = nb.score(X_test, y_test)\n",
    "\n",
    "model.append('NB w/ Topic Vectors')\n",
    "train_score.append(train)\n",
    "test_score.append(test)\n",
    "\n",
    "train, test"
   ]
  },
  {
   "cell_type": "markdown",
   "metadata": {},
   "source": [
    "This is better accuracy using topics than without stopwords removed, but this is not good accuracy, and it's even worse than with count and tf-idf vectors.\n",
    "\n",
    "So, here is the moral of the story:\n",
    "- Removing stopwords doesn't guarantee that Naive Bayes is going to perform better than other models.\n",
    "- Removing stopwords isn't going to cause Naive Bayes to stop overfitting when you have massive amounts of features\n",
    "- Naive Bayes is easily defeated by other simple models when using topic vectors.\n",
    "\n",
    "I personally haven't seen much need for Naive Bayes in NLP classification. With my dataset, it is easily defeated by LDA, Logistic Regression, and Linear SVC. I can only imagine that the above problems get even worse with larger datasets."
   ]
  },
  {
   "cell_type": "code",
   "execution_count": 52,
   "metadata": {},
   "outputs": [
    {
     "data": {
      "text/html": [
       "<div>\n",
       "<style scoped>\n",
       "    .dataframe tbody tr th:only-of-type {\n",
       "        vertical-align: middle;\n",
       "    }\n",
       "\n",
       "    .dataframe tbody tr th {\n",
       "        vertical-align: top;\n",
       "    }\n",
       "\n",
       "    .dataframe thead th {\n",
       "        text-align: right;\n",
       "    }\n",
       "</style>\n",
       "<table border=\"1\" class=\"dataframe\">\n",
       "  <thead>\n",
       "    <tr style=\"text-align: right;\">\n",
       "      <th></th>\n",
       "      <th>train_score</th>\n",
       "      <th>test_score</th>\n",
       "    </tr>\n",
       "    <tr>\n",
       "      <th>model</th>\n",
       "      <th></th>\n",
       "      <th></th>\n",
       "    </tr>\n",
       "  </thead>\n",
       "  <tbody>\n",
       "    <tr>\n",
       "      <th>NB w/ Count Vectors</th>\n",
       "      <td>99.30</td>\n",
       "      <td>82.26</td>\n",
       "    </tr>\n",
       "    <tr>\n",
       "      <th>NB w/ TF-IDF Vectors</th>\n",
       "      <td>99.30</td>\n",
       "      <td>81.42</td>\n",
       "    </tr>\n",
       "    <tr>\n",
       "      <th>NB w/ Topic Vectors</th>\n",
       "      <td>78.49</td>\n",
       "      <td>78.35</td>\n",
       "    </tr>\n",
       "  </tbody>\n",
       "</table>\n",
       "</div>"
      ],
      "text/plain": [
       "                      train_score  test_score\n",
       "model                                        \n",
       "NB w/ Count Vectors         99.30       82.26\n",
       "NB w/ TF-IDF Vectors        99.30       81.42\n",
       "NB w/ Topic Vectors         78.49       78.35"
      ]
     },
     "execution_count": 52,
     "metadata": {},
     "output_type": "execute_result"
    }
   ],
   "source": [
    "result_df = pd.DataFrame({'model':model, 'train_score':train_score, 'test_score':test_score})\n",
    "result_df.sort_values('model', inplace=True)\n",
    "result_df.set_index('model', inplace=True)\n",
    "round(result_df * 100,2)"
   ]
  },
  {
   "cell_type": "code",
   "execution_count": null,
   "metadata": {},
   "outputs": [],
   "source": []
  },
  {
   "cell_type": "code",
   "execution_count": null,
   "metadata": {},
   "outputs": [],
   "source": []
  },
  {
   "cell_type": "code",
   "execution_count": null,
   "metadata": {},
   "outputs": [],
   "source": []
  },
  {
   "cell_type": "code",
   "execution_count": null,
   "metadata": {},
   "outputs": [],
   "source": []
  },
  {
   "cell_type": "code",
   "execution_count": 21,
   "metadata": {},
   "outputs": [],
   "source": [
    "# # Logistic Regression Tuning\n",
    "\n",
    "# train = []\n",
    "# test = []\n",
    "# cval = []\n",
    "\n",
    "# for C in np.arange(0.1, 20.1, 0.01):\n",
    "#     C = round(C, 3)\n",
    "#     lr = LogisticRegression(random_state=1337, n_jobs=-1, C=C)\n",
    "#     lr.fit(X_train, y_train)\n",
    "#     train_score = lr.score(X_train, y_train)\n",
    "#     test_score = lr.score(X_test, y_test)\n",
    "#     train.append(train_score)\n",
    "#     test.append(test_score)\n",
    "#     cval.append(C)\n",
    "#     print('{}: {} {}'.format(C, round(train_score, 5), round(test_score, 5)))"
   ]
  },
  {
   "cell_type": "code",
   "execution_count": 95,
   "metadata": {},
   "outputs": [
    {
     "data": {
      "image/png": "[encoded data removed]",
      "text/plain": [
       "<Figure size 1440x360 with 1 Axes>"
      ]
     },
     "metadata": {
      "needs_background": "light"
     },
     "output_type": "display_data"
    }
   ],
   "source": [
    "tune_df = pd.DataFrame({'C':cval, 'train_acc':train, 'test_acc':test})\n",
    "tune_df.set_index('C', inplace=True)\n",
    "tune_df.sort_index(inplace=True)\n",
    "_= tune_df.plot(figsize=(20,5), title='Logistic Regression Tuning C')"
   ]
  },
  {
   "cell_type": "code",
   "execution_count": 103,
   "metadata": {},
   "outputs": [
    {
     "data": {
      "text/html": [
       "<div>\n",
       "<style scoped>\n",
       "    .dataframe tbody tr th:only-of-type {\n",
       "        vertical-align: middle;\n",
       "    }\n",
       "\n",
       "    .dataframe tbody tr th {\n",
       "        vertical-align: top;\n",
       "    }\n",
       "\n",
       "    .dataframe thead th {\n",
       "        text-align: right;\n",
       "    }\n",
       "</style>\n",
       "<table border=\"1\" class=\"dataframe\">\n",
       "  <thead>\n",
       "    <tr style=\"text-align: right;\">\n",
       "      <th></th>\n",
       "      <th>train_acc</th>\n",
       "      <th>test_acc</th>\n",
       "    </tr>\n",
       "    <tr>\n",
       "      <th>C</th>\n",
       "      <th></th>\n",
       "      <th></th>\n",
       "    </tr>\n",
       "  </thead>\n",
       "  <tbody>\n",
       "    <tr>\n",
       "      <th>13.04</th>\n",
       "      <td>0.913408</td>\n",
       "      <td>0.877095</td>\n",
       "    </tr>\n",
       "  </tbody>\n",
       "</table>\n",
       "</div>"
      ],
      "text/plain": [
       "       train_acc  test_acc\n",
       "C                         \n",
       "13.04   0.913408  0.877095"
      ]
     },
     "execution_count": 103,
     "metadata": {},
     "output_type": "execute_result"
    }
   ],
   "source": [
    "best_df = tune_df[tune_df['test_acc'] == tune_df['test_acc'].max()]\n",
    "best_df.iloc[0:1]"
   ]
  },
  {
   "cell_type": "code",
   "execution_count": 22,
   "metadata": {},
   "outputs": [],
   "source": [
    "# # Linear SVC Tuning\n",
    "\n",
    "# train = []\n",
    "# test = []\n",
    "# cval = []\n",
    "\n",
    "# for C in np.arange(0.1, 20.1, 0.01):\n",
    "#     C = round(C, 3)\n",
    "#     svc = LinearSVC(C=C, random_state=1337)\n",
    "#     svc.fit(X_train, y_train)\n",
    "#     train_score = svc.score(X_train, y_train)\n",
    "#     test_score = svc.score(X_test, y_test)\n",
    "#     train.append(train_score)\n",
    "#     test.append(test_score)\n",
    "#     cval.append(C)\n",
    "#     print('{}: {} {}'.format(C, round(train_score, 5), round(test_score, 5)))"
   ]
  },
  {
   "cell_type": "code",
   "execution_count": 121,
   "metadata": {},
   "outputs": [
    {
     "data": {
      "image/png": "[encoded data removed]",
      "text/plain": [
       "<Figure size 1440x360 with 1 Axes>"
      ]
     },
     "metadata": {
      "needs_background": "light"
     },
     "output_type": "display_data"
    }
   ],
   "source": [
    "tune_df = pd.DataFrame({'C':cval, 'train_acc':train, 'test_acc':test})\n",
    "tune_df.set_index('C', inplace=True)\n",
    "tune_df.sort_index(inplace=True)\n",
    "_= tune_df.plot(figsize=(20,5), title='Linear SVC Tuning C')"
   ]
  },
  {
   "cell_type": "code",
   "execution_count": 122,
   "metadata": {},
   "outputs": [
    {
     "data": {
      "text/html": [
       "<div>\n",
       "<style scoped>\n",
       "    .dataframe tbody tr th:only-of-type {\n",
       "        vertical-align: middle;\n",
       "    }\n",
       "\n",
       "    .dataframe tbody tr th {\n",
       "        vertical-align: top;\n",
       "    }\n",
       "\n",
       "    .dataframe thead th {\n",
       "        text-align: right;\n",
       "    }\n",
       "</style>\n",
       "<table border=\"1\" class=\"dataframe\">\n",
       "  <thead>\n",
       "    <tr style=\"text-align: right;\">\n",
       "      <th></th>\n",
       "      <th>train_acc</th>\n",
       "      <th>test_acc</th>\n",
       "    </tr>\n",
       "    <tr>\n",
       "      <th>C</th>\n",
       "      <th></th>\n",
       "      <th></th>\n",
       "    </tr>\n",
       "  </thead>\n",
       "  <tbody>\n",
       "    <tr>\n",
       "      <th>1.9</th>\n",
       "      <td>0.913408</td>\n",
       "      <td>0.895251</td>\n",
       "    </tr>\n",
       "  </tbody>\n",
       "</table>\n",
       "</div>"
      ],
      "text/plain": [
       "     train_acc  test_acc\n",
       "C                       \n",
       "1.9   0.913408  0.895251"
      ]
     },
     "execution_count": 122,
     "metadata": {},
     "output_type": "execute_result"
    }
   ],
   "source": [
    "best_df = tune_df[tune_df['test_acc'] == tune_df['test_acc'].max()]\n",
    "best_df.iloc[0:1]"
   ]
  }
 ],
 "metadata": {
  "kernelspec": {
   "display_name": "Python 3",
   "language": "python",
   "name": "python3"
  },
  "language_info": {
   "codemirror_mode": {
    "name": "ipython",
    "version": 3
   },
   "file_extension": ".py",
   "mimetype": "text/x-python",
   "name": "python",
   "nbconvert_exporter": "python",
   "pygments_lexer": "ipython3",
   "version": "3.7.7"
  }
 },
 "nbformat": 4,
 "nbformat_minor": 2
}
