{
 "cells": [
  {
   "cell_type": "code",
   "execution_count": 1,
   "metadata": {},
   "outputs": [
    {
     "name": "stderr",
     "output_type": "stream",
     "text": [
      "[nltk_data] Downloading package gutenberg to\n",
      "[nltk_data]     C:\\Users\\groov\\AppData\\Roaming\\nltk_data...\n",
      "[nltk_data]   Package gutenberg is already up-to-date!\n"
     ]
    }
   ],
   "source": [
    "import nltk\n",
    "nltk.download('gutenberg')\n",
    "\n",
    "import pandas as pd\n",
    "\n",
    "from sklearn.model_selection import train_test_split"
   ]
  },
  {
   "cell_type": "code",
   "execution_count": 2,
   "metadata": {},
   "outputs": [],
   "source": [
    "alice = nltk.corpus.gutenberg.raw('carroll-alice.txt')"
   ]
  },
  {
   "cell_type": "code",
   "execution_count": 3,
   "metadata": {},
   "outputs": [],
   "source": [
    "alice = alice.replace(\"\\n\\n\", \" \")\n",
    "alice = alice.replace(\"\\n\", \" \")\n",
    "alice = alice.replace(\"[\", \"\")\n",
    "alice = alice.replace(\"]\", \"\")"
   ]
  },
  {
   "cell_type": "code",
   "execution_count": 4,
   "metadata": {},
   "outputs": [],
   "source": [
    "sent_text = nltk.sent_tokenize(alice)"
   ]
  },
  {
   "cell_type": "code",
   "execution_count": 5,
   "metadata": {},
   "outputs": [
    {
     "data": {
      "text/html": [
       "<div>\n",
       "<style scoped>\n",
       "    .dataframe tbody tr th:only-of-type {\n",
       "        vertical-align: middle;\n",
       "    }\n",
       "\n",
       "    .dataframe tbody tr th {\n",
       "        vertical-align: top;\n",
       "    }\n",
       "\n",
       "    .dataframe thead th {\n",
       "        text-align: right;\n",
       "    }\n",
       "</style>\n",
       "<table border=\"1\" class=\"dataframe\">\n",
       "  <thead>\n",
       "    <tr style=\"text-align: right;\">\n",
       "      <th></th>\n",
       "      <th>0</th>\n",
       "    </tr>\n",
       "  </thead>\n",
       "  <tbody>\n",
       "    <tr>\n",
       "      <th>1</th>\n",
       "      <td>Down the Rabbit-Hole Alice was beginning to ge...</td>\n",
       "    </tr>\n",
       "    <tr>\n",
       "      <th>2</th>\n",
       "      <td>So she was considering in her own mind (as wel...</td>\n",
       "    </tr>\n",
       "    <tr>\n",
       "      <th>3</th>\n",
       "      <td>There was nothing so VERY remarkable in that; ...</td>\n",
       "    </tr>\n",
       "    <tr>\n",
       "      <th>4</th>\n",
       "      <td>Oh dear!</td>\n",
       "    </tr>\n",
       "    <tr>\n",
       "      <th>5</th>\n",
       "      <td>I shall be late!'</td>\n",
       "    </tr>\n",
       "  </tbody>\n",
       "</table>\n",
       "</div>"
      ],
      "text/plain": [
       "                                                   0\n",
       "1  Down the Rabbit-Hole Alice was beginning to ge...\n",
       "2  So she was considering in her own mind (as wel...\n",
       "3  There was nothing so VERY remarkable in that; ...\n",
       "4                                           Oh dear!\n",
       "5                                  I shall be late!'"
      ]
     },
     "execution_count": 5,
     "metadata": {},
     "output_type": "execute_result"
    }
   ],
   "source": [
    "alice_df = pd.DataFrame(sent_text)\n",
    "alice_df = alice_df[1:]\n",
    "alice_df.head()"
   ]
  },
  {
   "cell_type": "code",
   "execution_count": 6,
   "metadata": {},
   "outputs": [],
   "source": [
    "austin = nltk.corpus.gutenberg.raw('austen-sense.txt')"
   ]
  },
  {
   "cell_type": "code",
   "execution_count": 7,
   "metadata": {},
   "outputs": [],
   "source": [
    "austin = austin.replace(\"\\n\\n\", \" \")\n",
    "austin = austin.replace(\"\\n\", \" \")\n",
    "austin = austin.replace(\"[\", \"\")\n",
    "austin = austin.replace(\"]\", \"\")"
   ]
  },
  {
   "cell_type": "code",
   "execution_count": 8,
   "metadata": {},
   "outputs": [],
   "source": [
    "sent_text = nltk.sent_tokenize(austin)"
   ]
  },
  {
   "cell_type": "code",
   "execution_count": 9,
   "metadata": {},
   "outputs": [
    {
     "data": {
      "text/html": [
       "<div>\n",
       "<style scoped>\n",
       "    .dataframe tbody tr th:only-of-type {\n",
       "        vertical-align: middle;\n",
       "    }\n",
       "\n",
       "    .dataframe tbody tr th {\n",
       "        vertical-align: top;\n",
       "    }\n",
       "\n",
       "    .dataframe thead th {\n",
       "        text-align: right;\n",
       "    }\n",
       "</style>\n",
       "<table border=\"1\" class=\"dataframe\">\n",
       "  <thead>\n",
       "    <tr style=\"text-align: right;\">\n",
       "      <th></th>\n",
       "      <th>0</th>\n",
       "    </tr>\n",
       "  </thead>\n",
       "  <tbody>\n",
       "    <tr>\n",
       "      <th>1</th>\n",
       "      <td>Their estate was large, and their residence wa...</td>\n",
       "    </tr>\n",
       "    <tr>\n",
       "      <th>2</th>\n",
       "      <td>The late owner of this estate was a single man...</td>\n",
       "    </tr>\n",
       "    <tr>\n",
       "      <th>3</th>\n",
       "      <td>But her death, which happened ten years before...</td>\n",
       "    </tr>\n",
       "    <tr>\n",
       "      <th>4</th>\n",
       "      <td>In the society of his nephew and niece, and th...</td>\n",
       "    </tr>\n",
       "    <tr>\n",
       "      <th>5</th>\n",
       "      <td>His attachment to them all increased.</td>\n",
       "    </tr>\n",
       "  </tbody>\n",
       "</table>\n",
       "</div>"
      ],
      "text/plain": [
       "                                                   0\n",
       "1  Their estate was large, and their residence wa...\n",
       "2  The late owner of this estate was a single man...\n",
       "3  But her death, which happened ten years before...\n",
       "4  In the society of his nephew and niece, and th...\n",
       "5              His attachment to them all increased."
      ]
     },
     "execution_count": 9,
     "metadata": {},
     "output_type": "execute_result"
    }
   ],
   "source": [
    "austin_df = pd.DataFrame(sent_text)\n",
    "austin_df = austin_df[1:]\n",
    "austin_df.head()"
   ]
  },
  {
   "cell_type": "code",
   "execution_count": 10,
   "metadata": {},
   "outputs": [
    {
     "data": {
      "text/html": [
       "<div>\n",
       "<style scoped>\n",
       "    .dataframe tbody tr th:only-of-type {\n",
       "        vertical-align: middle;\n",
       "    }\n",
       "\n",
       "    .dataframe tbody tr th {\n",
       "        vertical-align: top;\n",
       "    }\n",
       "\n",
       "    .dataframe thead th {\n",
       "        text-align: right;\n",
       "    }\n",
       "</style>\n",
       "<table border=\"1\" class=\"dataframe\">\n",
       "  <thead>\n",
       "    <tr style=\"text-align: right;\">\n",
       "      <th></th>\n",
       "      <th>0</th>\n",
       "      <th>alice</th>\n",
       "    </tr>\n",
       "  </thead>\n",
       "  <tbody>\n",
       "    <tr>\n",
       "      <th>1</th>\n",
       "      <td>Down the Rabbit-Hole Alice was beginning to ge...</td>\n",
       "      <td>1</td>\n",
       "    </tr>\n",
       "    <tr>\n",
       "      <th>2</th>\n",
       "      <td>So she was considering in her own mind (as wel...</td>\n",
       "      <td>1</td>\n",
       "    </tr>\n",
       "    <tr>\n",
       "      <th>3</th>\n",
       "      <td>There was nothing so VERY remarkable in that; ...</td>\n",
       "      <td>1</td>\n",
       "    </tr>\n",
       "    <tr>\n",
       "      <th>4</th>\n",
       "      <td>Oh dear!</td>\n",
       "      <td>1</td>\n",
       "    </tr>\n",
       "    <tr>\n",
       "      <th>5</th>\n",
       "      <td>I shall be late!'</td>\n",
       "      <td>1</td>\n",
       "    </tr>\n",
       "  </tbody>\n",
       "</table>\n",
       "</div>"
      ],
      "text/plain": [
       "                                                   0  alice\n",
       "1  Down the Rabbit-Hole Alice was beginning to ge...      1\n",
       "2  So she was considering in her own mind (as wel...      1\n",
       "3  There was nothing so VERY remarkable in that; ...      1\n",
       "4                                           Oh dear!      1\n",
       "5                                  I shall be late!'      1"
      ]
     },
     "execution_count": 10,
     "metadata": {},
     "output_type": "execute_result"
    }
   ],
   "source": [
    "alice_df['alice'] = 1\n",
    "alice_df.head()"
   ]
  },
  {
   "cell_type": "code",
   "execution_count": 11,
   "metadata": {},
   "outputs": [
    {
     "data": {
      "text/html": [
       "<div>\n",
       "<style scoped>\n",
       "    .dataframe tbody tr th:only-of-type {\n",
       "        vertical-align: middle;\n",
       "    }\n",
       "\n",
       "    .dataframe tbody tr th {\n",
       "        vertical-align: top;\n",
       "    }\n",
       "\n",
       "    .dataframe thead th {\n",
       "        text-align: right;\n",
       "    }\n",
       "</style>\n",
       "<table border=\"1\" class=\"dataframe\">\n",
       "  <thead>\n",
       "    <tr style=\"text-align: right;\">\n",
       "      <th></th>\n",
       "      <th>0</th>\n",
       "      <th>alice</th>\n",
       "    </tr>\n",
       "  </thead>\n",
       "  <tbody>\n",
       "    <tr>\n",
       "      <th>1</th>\n",
       "      <td>Their estate was large, and their residence wa...</td>\n",
       "      <td>0</td>\n",
       "    </tr>\n",
       "    <tr>\n",
       "      <th>2</th>\n",
       "      <td>The late owner of this estate was a single man...</td>\n",
       "      <td>0</td>\n",
       "    </tr>\n",
       "    <tr>\n",
       "      <th>3</th>\n",
       "      <td>But her death, which happened ten years before...</td>\n",
       "      <td>0</td>\n",
       "    </tr>\n",
       "    <tr>\n",
       "      <th>4</th>\n",
       "      <td>In the society of his nephew and niece, and th...</td>\n",
       "      <td>0</td>\n",
       "    </tr>\n",
       "    <tr>\n",
       "      <th>5</th>\n",
       "      <td>His attachment to them all increased.</td>\n",
       "      <td>0</td>\n",
       "    </tr>\n",
       "  </tbody>\n",
       "</table>\n",
       "</div>"
      ],
      "text/plain": [
       "                                                   0  alice\n",
       "1  Their estate was large, and their residence wa...      0\n",
       "2  The late owner of this estate was a single man...      0\n",
       "3  But her death, which happened ten years before...      0\n",
       "4  In the society of his nephew and niece, and th...      0\n",
       "5              His attachment to them all increased.      0"
      ]
     },
     "execution_count": 11,
     "metadata": {},
     "output_type": "execute_result"
    }
   ],
   "source": [
    "austin_df['alice'] = 0\n",
    "austin_df.head()"
   ]
  },
  {
   "cell_type": "code",
   "execution_count": 12,
   "metadata": {},
   "outputs": [
    {
     "data": {
      "text/html": [
       "<div>\n",
       "<style scoped>\n",
       "    .dataframe tbody tr th:only-of-type {\n",
       "        vertical-align: middle;\n",
       "    }\n",
       "\n",
       "    .dataframe tbody tr th {\n",
       "        vertical-align: top;\n",
       "    }\n",
       "\n",
       "    .dataframe thead th {\n",
       "        text-align: right;\n",
       "    }\n",
       "</style>\n",
       "<table border=\"1\" class=\"dataframe\">\n",
       "  <thead>\n",
       "    <tr style=\"text-align: right;\">\n",
       "      <th></th>\n",
       "      <th>text</th>\n",
       "      <th>alice</th>\n",
       "    </tr>\n",
       "  </thead>\n",
       "  <tbody>\n",
       "    <tr>\n",
       "      <th>1</th>\n",
       "      <td>Down the Rabbit-Hole Alice was beginning to ge...</td>\n",
       "      <td>1</td>\n",
       "    </tr>\n",
       "    <tr>\n",
       "      <th>2</th>\n",
       "      <td>So she was considering in her own mind (as wel...</td>\n",
       "      <td>1</td>\n",
       "    </tr>\n",
       "    <tr>\n",
       "      <th>3</th>\n",
       "      <td>There was nothing so VERY remarkable in that; ...</td>\n",
       "      <td>1</td>\n",
       "    </tr>\n",
       "    <tr>\n",
       "      <th>4</th>\n",
       "      <td>Oh dear!</td>\n",
       "      <td>1</td>\n",
       "    </tr>\n",
       "    <tr>\n",
       "      <th>5</th>\n",
       "      <td>I shall be late!'</td>\n",
       "      <td>1</td>\n",
       "    </tr>\n",
       "  </tbody>\n",
       "</table>\n",
       "</div>"
      ],
      "text/plain": [
       "                                                text  alice\n",
       "1  Down the Rabbit-Hole Alice was beginning to ge...      1\n",
       "2  So she was considering in her own mind (as wel...      1\n",
       "3  There was nothing so VERY remarkable in that; ...      1\n",
       "4                                           Oh dear!      1\n",
       "5                                  I shall be late!'      1"
      ]
     },
     "execution_count": 12,
     "metadata": {},
     "output_type": "execute_result"
    }
   ],
   "source": [
    "clf_df = pd.concat([alice_df, austin_df])\n",
    "clf_df.columns = ['text', 'alice']\n",
    "clf_df.head()"
   ]
  },
  {
   "cell_type": "code",
   "execution_count": 13,
   "metadata": {},
   "outputs": [
    {
     "data": {
      "text/plain": [
       "(6456, 2)"
      ]
     },
     "execution_count": 13,
     "metadata": {},
     "output_type": "execute_result"
    }
   ],
   "source": [
    "clf_df.shape"
   ]
  },
  {
   "cell_type": "code",
   "execution_count": 14,
   "metadata": {},
   "outputs": [],
   "source": [
    "label = clf_df['alice']\n",
    "\n",
    "documents = clf_df['text']"
   ]
  },
  {
   "cell_type": "code",
   "execution_count": 15,
   "metadata": {},
   "outputs": [],
   "source": [
    "from sklearn.feature_extraction.text import TfidfVectorizer\n",
    "\n",
    "from nltk.tokenize.casual import casual_tokenize\n",
    "\n",
    "tfidf = TfidfVectorizer(tokenizer=casual_tokenize, ngram_range=(1,3), lowercase=True, sublinear_tf=True)\n",
    "\n",
    "tfidf_docs = tfidf.fit_transform(raw_documents=documents)"
   ]
  },
  {
   "cell_type": "code",
   "execution_count": 16,
   "metadata": {},
   "outputs": [
    {
     "data": {
      "text/plain": [
       "<6456x188715 sparse matrix of type '<class 'numpy.float64'>'\n",
       "\twith 467736 stored elements in Compressed Sparse Row format>"
      ]
     },
     "execution_count": 16,
     "metadata": {},
     "output_type": "execute_result"
    }
   ],
   "source": [
    "tfidf_docs"
   ]
  },
  {
   "cell_type": "code",
   "execution_count": 17,
   "metadata": {},
   "outputs": [],
   "source": [
    "from sklearn.preprocessing import Normalizer\n",
    "\n",
    "normalizer = Normalizer()\n",
    "tfidf_docs = normalizer.fit_transform(tfidf_docs)"
   ]
  },
  {
   "cell_type": "code",
   "execution_count": 18,
   "metadata": {},
   "outputs": [],
   "source": [
    "from sklearn.decomposition import TruncatedSVD\n",
    "\n",
    "svd = TruncatedSVD(n_components=100, n_iter=100, random_state=1337)\n",
    "svd_topic_vectors = svd.fit_transform(tfidf_docs)"
   ]
  },
  {
   "cell_type": "code",
   "execution_count": 19,
   "metadata": {},
   "outputs": [
    {
     "data": {
      "text/html": [
       "<div>\n",
       "<style scoped>\n",
       "    .dataframe tbody tr th:only-of-type {\n",
       "        vertical-align: middle;\n",
       "    }\n",
       "\n",
       "    .dataframe tbody tr th {\n",
       "        vertical-align: top;\n",
       "    }\n",
       "\n",
       "    .dataframe thead th {\n",
       "        text-align: right;\n",
       "    }\n",
       "</style>\n",
       "<table border=\"1\" class=\"dataframe\">\n",
       "  <thead>\n",
       "    <tr style=\"text-align: right;\">\n",
       "      <th></th>\n",
       "      <th>topic_0</th>\n",
       "      <th>topic_1</th>\n",
       "      <th>topic_2</th>\n",
       "      <th>topic_3</th>\n",
       "      <th>topic_4</th>\n",
       "      <th>topic_5</th>\n",
       "      <th>topic_6</th>\n",
       "      <th>topic_7</th>\n",
       "      <th>topic_8</th>\n",
       "      <th>topic_9</th>\n",
       "      <th>...</th>\n",
       "      <th>topic_90</th>\n",
       "      <th>topic_91</th>\n",
       "      <th>topic_92</th>\n",
       "      <th>topic_93</th>\n",
       "      <th>topic_94</th>\n",
       "      <th>topic_95</th>\n",
       "      <th>topic_96</th>\n",
       "      <th>topic_97</th>\n",
       "      <th>topic_98</th>\n",
       "      <th>topic_99</th>\n",
       "    </tr>\n",
       "  </thead>\n",
       "  <tbody>\n",
       "    <tr>\n",
       "      <th>0</th>\n",
       "      <td>0.133847</td>\n",
       "      <td>0.022746</td>\n",
       "      <td>-0.063978</td>\n",
       "      <td>-0.040737</td>\n",
       "      <td>-0.001384</td>\n",
       "      <td>0.013637</td>\n",
       "      <td>-0.055956</td>\n",
       "      <td>0.033250</td>\n",
       "      <td>-0.035153</td>\n",
       "      <td>0.002568</td>\n",
       "      <td>...</td>\n",
       "      <td>0.007435</td>\n",
       "      <td>0.014632</td>\n",
       "      <td>-0.011478</td>\n",
       "      <td>0.004691</td>\n",
       "      <td>0.006578</td>\n",
       "      <td>-0.003636</td>\n",
       "      <td>-0.005841</td>\n",
       "      <td>-0.010244</td>\n",
       "      <td>-0.016367</td>\n",
       "      <td>0.020464</td>\n",
       "    </tr>\n",
       "    <tr>\n",
       "      <th>1</th>\n",
       "      <td>0.103997</td>\n",
       "      <td>-0.045281</td>\n",
       "      <td>-0.018636</td>\n",
       "      <td>-0.057080</td>\n",
       "      <td>0.019522</td>\n",
       "      <td>0.006989</td>\n",
       "      <td>-0.000984</td>\n",
       "      <td>0.013980</td>\n",
       "      <td>-0.018641</td>\n",
       "      <td>-0.003802</td>\n",
       "      <td>...</td>\n",
       "      <td>-0.001687</td>\n",
       "      <td>-0.015797</td>\n",
       "      <td>0.005180</td>\n",
       "      <td>0.006392</td>\n",
       "      <td>0.003942</td>\n",
       "      <td>-0.001255</td>\n",
       "      <td>0.009304</td>\n",
       "      <td>-0.008776</td>\n",
       "      <td>-0.014734</td>\n",
       "      <td>0.014633</td>\n",
       "    </tr>\n",
       "    <tr>\n",
       "      <th>2</th>\n",
       "      <td>0.111537</td>\n",
       "      <td>0.052376</td>\n",
       "      <td>0.001119</td>\n",
       "      <td>-0.052410</td>\n",
       "      <td>0.029275</td>\n",
       "      <td>0.004118</td>\n",
       "      <td>-0.016243</td>\n",
       "      <td>-0.013219</td>\n",
       "      <td>-0.008870</td>\n",
       "      <td>0.007926</td>\n",
       "      <td>...</td>\n",
       "      <td>0.062445</td>\n",
       "      <td>-0.056836</td>\n",
       "      <td>-0.021399</td>\n",
       "      <td>0.025803</td>\n",
       "      <td>0.043168</td>\n",
       "      <td>-0.012643</td>\n",
       "      <td>0.040490</td>\n",
       "      <td>-0.022846</td>\n",
       "      <td>0.000007</td>\n",
       "      <td>-0.030598</td>\n",
       "    </tr>\n",
       "    <tr>\n",
       "      <th>3</th>\n",
       "      <td>0.046214</td>\n",
       "      <td>0.174497</td>\n",
       "      <td>0.195190</td>\n",
       "      <td>-0.107082</td>\n",
       "      <td>0.091202</td>\n",
       "      <td>0.008540</td>\n",
       "      <td>0.009441</td>\n",
       "      <td>-0.014985</td>\n",
       "      <td>0.009161</td>\n",
       "      <td>-0.012300</td>\n",
       "      <td>...</td>\n",
       "      <td>0.145752</td>\n",
       "      <td>-0.140500</td>\n",
       "      <td>0.042471</td>\n",
       "      <td>-0.057691</td>\n",
       "      <td>0.080899</td>\n",
       "      <td>-0.079639</td>\n",
       "      <td>0.103412</td>\n",
       "      <td>0.012045</td>\n",
       "      <td>0.023122</td>\n",
       "      <td>-0.010911</td>\n",
       "    </tr>\n",
       "    <tr>\n",
       "      <th>4</th>\n",
       "      <td>0.079499</td>\n",
       "      <td>0.139521</td>\n",
       "      <td>0.011673</td>\n",
       "      <td>-0.038999</td>\n",
       "      <td>-0.082066</td>\n",
       "      <td>0.081166</td>\n",
       "      <td>0.012897</td>\n",
       "      <td>-0.103077</td>\n",
       "      <td>-0.019602</td>\n",
       "      <td>-0.016029</td>\n",
       "      <td>...</td>\n",
       "      <td>0.026613</td>\n",
       "      <td>0.034764</td>\n",
       "      <td>-0.006223</td>\n",
       "      <td>0.015743</td>\n",
       "      <td>0.019277</td>\n",
       "      <td>0.006945</td>\n",
       "      <td>-0.002028</td>\n",
       "      <td>0.060662</td>\n",
       "      <td>0.026651</td>\n",
       "      <td>-0.081260</td>\n",
       "    </tr>\n",
       "  </tbody>\n",
       "</table>\n",
       "<p>5 rows × 100 columns</p>\n",
       "</div>"
      ],
      "text/plain": [
       "    topic_0   topic_1   topic_2   topic_3   topic_4   topic_5   topic_6  \\\n",
       "0  0.133847  0.022746 -0.063978 -0.040737 -0.001384  0.013637 -0.055956   \n",
       "1  0.103997 -0.045281 -0.018636 -0.057080  0.019522  0.006989 -0.000984   \n",
       "2  0.111537  0.052376  0.001119 -0.052410  0.029275  0.004118 -0.016243   \n",
       "3  0.046214  0.174497  0.195190 -0.107082  0.091202  0.008540  0.009441   \n",
       "4  0.079499  0.139521  0.011673 -0.038999 -0.082066  0.081166  0.012897   \n",
       "\n",
       "    topic_7   topic_8   topic_9  ...  topic_90  topic_91  topic_92  topic_93  \\\n",
       "0  0.033250 -0.035153  0.002568  ...  0.007435  0.014632 -0.011478  0.004691   \n",
       "1  0.013980 -0.018641 -0.003802  ... -0.001687 -0.015797  0.005180  0.006392   \n",
       "2 -0.013219 -0.008870  0.007926  ...  0.062445 -0.056836 -0.021399  0.025803   \n",
       "3 -0.014985  0.009161 -0.012300  ...  0.145752 -0.140500  0.042471 -0.057691   \n",
       "4 -0.103077 -0.019602 -0.016029  ...  0.026613  0.034764 -0.006223  0.015743   \n",
       "\n",
       "   topic_94  topic_95  topic_96  topic_97  topic_98  topic_99  \n",
       "0  0.006578 -0.003636 -0.005841 -0.010244 -0.016367  0.020464  \n",
       "1  0.003942 -0.001255  0.009304 -0.008776 -0.014734  0.014633  \n",
       "2  0.043168 -0.012643  0.040490 -0.022846  0.000007 -0.030598  \n",
       "3  0.080899 -0.079639  0.103412  0.012045  0.023122 -0.010911  \n",
       "4  0.019277  0.006945 -0.002028  0.060662  0.026651 -0.081260  \n",
       "\n",
       "[5 rows x 100 columns]"
      ]
     },
     "execution_count": 19,
     "metadata": {},
     "output_type": "execute_result"
    }
   ],
   "source": [
    "columns = ['topic_{}'.format(i) for i in range(svd.n_components)]\n",
    "svd_topic_vectors = pd.DataFrame(svd_topic_vectors, columns=columns)\n",
    "svd_topic_vectors.head()"
   ]
  },
  {
   "cell_type": "code",
   "execution_count": 20,
   "metadata": {},
   "outputs": [],
   "source": [
    "X = svd_topic_vectors\n",
    "y = label"
   ]
  },
  {
   "cell_type": "code",
   "execution_count": 21,
   "metadata": {},
   "outputs": [
    {
     "data": {
      "text/plain": [
       "((6456, 100), (6456,))"
      ]
     },
     "execution_count": 21,
     "metadata": {},
     "output_type": "execute_result"
    }
   ],
   "source": [
    "X.shape, y.shape"
   ]
  },
  {
   "cell_type": "code",
   "execution_count": 22,
   "metadata": {},
   "outputs": [],
   "source": [
    "X_train, X_test, y_train, y_test = train_test_split(X, y, random_state=1337, test_size=0.5)"
   ]
  },
  {
   "cell_type": "code",
   "execution_count": 23,
   "metadata": {},
   "outputs": [
    {
     "data": {
      "text/plain": [
       "(0.9519826517967782, 0.9464064436183395)"
      ]
     },
     "execution_count": 23,
     "metadata": {},
     "output_type": "execute_result"
    }
   ],
   "source": [
    "from sklearn.discriminant_analysis import LinearDiscriminantAnalysis as LDA\n",
    "\n",
    "lda = LDA(n_components=1)\n",
    "lda.fit(X_train, y_train)\n",
    "lda.score(X_train, y_train), lda.score(X_test, y_test)"
   ]
  },
  {
   "cell_type": "code",
   "execution_count": 24,
   "metadata": {},
   "outputs": [
    {
     "data": {
      "text/plain": [
       "array([[2403,   27],\n",
       "       [ 146,  652]], dtype=int64)"
      ]
     },
     "execution_count": 24,
     "metadata": {},
     "output_type": "execute_result"
    }
   ],
   "source": [
    "from sklearn.metrics import confusion_matrix\n",
    "\n",
    "confusion_matrix(y_test, lda.predict(X_test))"
   ]
  },
  {
   "cell_type": "code",
   "execution_count": 25,
   "metadata": {},
   "outputs": [
    {
     "name": "stdout",
     "output_type": "stream",
     "text": [
      "              precision    recall  f1-score   support\n",
      "\n",
      "           0       0.94      0.99      0.97      2430\n",
      "           1       0.96      0.82      0.88       798\n",
      "\n",
      "    accuracy                           0.95      3228\n",
      "   macro avg       0.95      0.90      0.92      3228\n",
      "weighted avg       0.95      0.95      0.94      3228\n",
      "\n"
     ]
    }
   ],
   "source": [
    "from sklearn.metrics import classification_report\n",
    "\n",
    "print(classification_report(y_test, lda.predict(X_test)))"
   ]
  },
  {
   "cell_type": "code",
   "execution_count": 26,
   "metadata": {},
   "outputs": [],
   "source": [
    "def predict_message(message):\n",
    "    \n",
    "    message = [message]\n",
    "\n",
    "    tfidf_doc = tfidf.transform(message)\n",
    "    svd_topic_vector = svd.transform(tfidf_doc)\n",
    "    return lda.predict(svd_topic_vector)"
   ]
  },
  {
   "cell_type": "code",
   "execution_count": 27,
   "metadata": {},
   "outputs": [],
   "source": [
    "# uncomment this out if you want to watch it predict against Carroll's text\n",
    "\n",
    "# for text in alice_df[0]:\n",
    "#     prediction = predict_message(text)\n",
    "#     print(text)\n",
    "#     print('preciction: {}'.format(prediction))\n",
    "#     print('-------------')\n",
    "    "
   ]
  },
  {
   "cell_type": "code",
   "execution_count": 28,
   "metadata": {},
   "outputs": [],
   "source": [
    "# uncomment this out if you want to watch it predict against Austin's text\n",
    "\n",
    "# for text in austin_df[0]:\n",
    "#     prediction = predict_message(text)\n",
    "#     print(text)\n",
    "#     print('preciction: {}'.format(prediction))\n",
    "#     print('-------------')\n",
    "    "
   ]
  },
  {
   "cell_type": "code",
   "execution_count": null,
   "metadata": {},
   "outputs": [],
   "source": []
  }
 ],
 "metadata": {
  "kernelspec": {
   "display_name": "Python 3",
   "language": "python",
   "name": "python3"
  },
  "language_info": {
   "codemirror_mode": {
    "name": "ipython",
    "version": 3
   },
   "file_extension": ".py",
   "mimetype": "text/x-python",
   "name": "python",
   "nbconvert_exporter": "python",
   "pygments_lexer": "ipython3",
   "version": "3.7.5"
  }
 },
 "nbformat": 4,
 "nbformat_minor": 2
}
