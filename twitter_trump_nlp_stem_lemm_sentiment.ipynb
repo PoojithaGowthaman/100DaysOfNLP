{
 "cells": [
  {
   "cell_type": "code",
   "execution_count": 155,
   "metadata": {},
   "outputs": [],
   "source": [
    "import pandas as pd\n",
    "import nltk"
   ]
  },
  {
   "cell_type": "code",
   "execution_count": 156,
   "metadata": {},
   "outputs": [
    {
     "data": {
      "text/html": [
       "<div>\n",
       "<style scoped>\n",
       "    .dataframe tbody tr th:only-of-type {\n",
       "        vertical-align: middle;\n",
       "    }\n",
       "\n",
       "    .dataframe tbody tr th {\n",
       "        vertical-align: top;\n",
       "    }\n",
       "\n",
       "    .dataframe thead th {\n",
       "        text-align: right;\n",
       "    }\n",
       "</style>\n",
       "<table border=\"1\" class=\"dataframe\">\n",
       "  <thead>\n",
       "    <tr style=\"text-align: right;\">\n",
       "      <th></th>\n",
       "      <th>date_posted</th>\n",
       "      <th>tweet</th>\n",
       "    </tr>\n",
       "  </thead>\n",
       "  <tbody>\n",
       "    <tr>\n",
       "      <th>71</th>\n",
       "      <td>2019-10-13 22:16:39+00:00</td>\n",
       "      <td>.....BY THE WAY, DON’T CALL ME AGAIN, I’LL CAL...</td>\n",
       "    </tr>\n",
       "    <tr>\n",
       "      <th>72</th>\n",
       "      <td>2019-10-13 23:09:01+00:00</td>\n",
       "      <td>.@marklevinshow on @FoxNews is doing a big sho...</td>\n",
       "    </tr>\n",
       "    <tr>\n",
       "      <th>73</th>\n",
       "      <td>2019-10-13 23:27:49+00:00</td>\n",
       "      <td>The U.S. has the worst of the ISIS prisoners. ...</td>\n",
       "    </tr>\n",
       "    <tr>\n",
       "      <th>74</th>\n",
       "      <td>2019-10-14 00:10:14+00:00</td>\n",
       "      <td>Somebody please explain to Chris Wallace of Fo...</td>\n",
       "    </tr>\n",
       "    <tr>\n",
       "      <th>75</th>\n",
       "      <td>2019-10-14 00:34:01+00:00</td>\n",
       "      <td>“Serial killers get more Due Process than the ...</td>\n",
       "    </tr>\n",
       "  </tbody>\n",
       "</table>\n",
       "</div>"
      ],
      "text/plain": [
       "                  date_posted  \\\n",
       "71  2019-10-13 22:16:39+00:00   \n",
       "72  2019-10-13 23:09:01+00:00   \n",
       "73  2019-10-13 23:27:49+00:00   \n",
       "74  2019-10-14 00:10:14+00:00   \n",
       "75  2019-10-14 00:34:01+00:00   \n",
       "\n",
       "                                                tweet  \n",
       "71  .....BY THE WAY, DON’T CALL ME AGAIN, I’LL CAL...  \n",
       "72  .@marklevinshow on @FoxNews is doing a big sho...  \n",
       "73  The U.S. has the worst of the ISIS prisoners. ...  \n",
       "74  Somebody please explain to Chris Wallace of Fo...  \n",
       "75  “Serial killers get more Due Process than the ...  "
      ]
     },
     "execution_count": 156,
     "metadata": {},
     "output_type": "execute_result"
    }
   ],
   "source": [
    "csv_file = r'C:\\Users\\groov\\PythonCode\\output\\trump_tweets\\trump_tweets.csv'\n",
    "\n",
    "df = pd.read_csv(csv_file, names=['date_posted', 'tweet'])\n",
    "df.tail()"
   ]
  },
  {
   "cell_type": "code",
   "execution_count": 157,
   "metadata": {},
   "outputs": [
    {
     "data": {
      "text/plain": [
       "(76, 2)"
      ]
     },
     "execution_count": 157,
     "metadata": {},
     "output_type": "execute_result"
    }
   ],
   "source": [
    "df.shape"
   ]
  },
  {
   "cell_type": "code",
   "execution_count": 158,
   "metadata": {},
   "outputs": [
    {
     "data": {
      "text/plain": [
       "0    [“, There, are, no, felonies, ,, there, are, n...\n",
       "1    [So, many, people, conveniently, forget, that,...\n",
       "2    [..., ..good, health, ,, at, my, request, ,, P...\n",
       "3    [We, may, be, in, the, process, of, leaving, S...\n",
       "4    [..., .understands, that, while, we, only, had...\n",
       "Name: tokens, dtype: object"
      ]
     },
     "execution_count": 158,
     "metadata": {},
     "output_type": "execute_result"
    }
   ],
   "source": [
    "from nltk.tokenize import TreebankWordTokenizer\n",
    "\n",
    "tokenizer = TreebankWordTokenizer()\n",
    "df['tokens'] = df['tweet'].apply(tokenizer.tokenize)\n",
    "\n",
    "df['tokens'][0:5]"
   ]
  },
  {
   "cell_type": "code",
   "execution_count": 159,
   "metadata": {},
   "outputs": [
    {
     "data": {
      "text/plain": [
       "[('“', 'There', 'are'),\n",
       " ('There', 'are', 'no'),\n",
       " ('are', 'no', 'felonies'),\n",
       " ('no', 'felonies', ','),\n",
       " ('felonies', ',', 'there')]"
      ]
     },
     "execution_count": 159,
     "metadata": {},
     "output_type": "execute_result"
    }
   ],
   "source": [
    "from nltk.util import ngrams\n",
    "\n",
    "list(ngrams(df['tokens'][0], 3))[0:5]"
   ]
  },
  {
   "cell_type": "code",
   "execution_count": 160,
   "metadata": {},
   "outputs": [
    {
     "name": "stdout",
     "output_type": "stream",
     "text": [
      "['i', 'me', 'my', 'myself', 'we']\n",
      "['how', 'enough', 'always', 'otherwise', 'towards']\n"
     ]
    },
    {
     "name": "stderr",
     "output_type": "stream",
     "text": [
      "[nltk_data] Downloading package stopwords to\n",
      "[nltk_data]     C:\\Users\\groov\\AppData\\Roaming\\nltk_data...\n",
      "[nltk_data]   Package stopwords is already up-to-date!\n"
     ]
    }
   ],
   "source": [
    "nltk.download('stopwords')\n",
    "from sklearn.feature_extraction.text import ENGLISH_STOP_WORDS as stop_words_sklearn\n",
    "\n",
    "stop_words_nltk = nltk.corpus.stopwords.words('english')\n",
    "print(stop_words_nltk[0:5])\n",
    "print(list(stop_words_sklearn)[0:5])"
   ]
  },
  {
   "cell_type": "code",
   "execution_count": 161,
   "metadata": {},
   "outputs": [
    {
     "data": {
      "text/plain": [
       "(389, 179, 318)"
      ]
     },
     "execution_count": 161,
     "metadata": {},
     "output_type": "execute_result"
    }
   ],
   "source": [
    "stop_words = []\n",
    "\n",
    "stop_words = stop_words + stop_words_nltk\n",
    "stop_words = stop_words + list(stop_words_sklearn)\n",
    "stop_words = list(set(stop_words))\n",
    "#& amp ;\n",
    "stop_words_mine = ['“', '”', ',', '@', '’', '!', '&amp;', '&', 'amp', ';', '...']\n",
    "stop_words = stop_words + stop_words_mine\n",
    "\n",
    "len(stop_words), len(stop_words_nltk), len(list(stop_words_sklearn))"
   ]
  },
  {
   "cell_type": "code",
   "execution_count": 162,
   "metadata": {},
   "outputs": [
    {
     "data": {
      "text/plain": [
       "'There felonies Impeachable offenses. The Constitution clear need bribery treason high crimes misdemeanors. You impeached conduct alleged case. AlanDersh Dershowitz. seanhannity A Scam'"
      ]
     },
     "execution_count": 162,
     "metadata": {},
     "output_type": "execute_result"
    }
   ],
   "source": [
    "tokens = [token for token in df['tokens'][0] if token not in stop_words]\n",
    "\" \".join(tokens)"
   ]
  },
  {
   "cell_type": "code",
   "execution_count": 163,
   "metadata": {},
   "outputs": [],
   "source": [
    "# stemming removes the small meaning differences of pluralization or posssessive endings of words to normalize vocabulary\n",
    "# it can reduce the precision score of your search results, but would improve the recall score for returning relevant docs\n",
    "# so it is often useful to be able to turn off stemming where you want precision\n",
    "\n",
    "# two of the most popular stemmers are Porter and Snowball. They were both created by the scientist Martin Porter."
   ]
  },
  {
   "cell_type": "code",
   "execution_count": 164,
   "metadata": {},
   "outputs": [
    {
     "data": {
      "text/plain": [
       "'there feloni impeach offenses. the constitut clear need briberi treason high crime misdemeanors. you impeach conduct alleg case. alandersh dershowitz. seanhann A scam'"
      ]
     },
     "execution_count": 164,
     "metadata": {},
     "output_type": "execute_result"
    }
   ],
   "source": [
    "from nltk.stem.porter import PorterStemmer\n",
    "\n",
    "stemmer = PorterStemmer()\n",
    "\n",
    "stemmed_tokens = [stemmer.stem(word) for word in tokens]\n",
    "\n",
    "\" \".join(stemmed_tokens)"
   ]
  },
  {
   "cell_type": "code",
   "execution_count": 165,
   "metadata": {},
   "outputs": [
    {
     "data": {
      "text/plain": [
       "'there feloni impeach offenses. the constitut clear need briberi treason high crime misdemeanors. you impeach conduct alleg case. alandersh dershowitz. seanhann a scam'"
      ]
     },
     "execution_count": 165,
     "metadata": {},
     "output_type": "execute_result"
    }
   ],
   "source": [
    "from nltk.stem.snowball import SnowballStemmer\n",
    "\n",
    "stemmer = SnowballStemmer(language='english')\n",
    "\n",
    "stemmed_tokens = [stemmer.stem(word) for word in tokens]\n",
    "\n",
    "\" \".join(stemmed_tokens)"
   ]
  },
  {
   "cell_type": "code",
   "execution_count": 166,
   "metadata": {},
   "outputs": [],
   "source": [
    "# lemmatization can associate words together by their meaning even if their spelling is different\n",
    "# like stemming, this can make your model less precise but more general\n",
    "# it is potentially more accurate than stemming because it takes into account word meaning\n",
    "# some lemmatizers use the word's part of speech in addition to spelling to improve accuracy\n",
    "# so, lemmatizers are better than stemmers for most applications.\n",
    "\n",
    "# and if you really want the dimension reduction and recall improvement of a stemmer in your information \n",
    "# retrieval pipeline, you shoudl probably also use a lemmatizer right befor the stemmer.\n",
    "# because the lemma of a word is a valid English word, stemmers work well on the output of a lemmatizer"
   ]
  },
  {
   "cell_type": "code",
   "execution_count": 167,
   "metadata": {},
   "outputs": [
    {
     "name": "stderr",
     "output_type": "stream",
     "text": [
      "[nltk_data] Downloading package wordnet to\n",
      "[nltk_data]     C:\\Users\\groov\\AppData\\Roaming\\nltk_data...\n",
      "[nltk_data]   Package wordnet is already up-to-date!\n"
     ]
    },
    {
     "data": {
      "text/plain": [
       "'There felony Impeachable offenses. The Constitution clear need bribery treason high crime misdemeanors. You impeached conduct alleged case. AlanDersh Dershowitz. seanhannity A Scam'"
      ]
     },
     "execution_count": 167,
     "metadata": {},
     "output_type": "execute_result"
    }
   ],
   "source": [
    "nltk.download('wordnet')\n",
    "\n",
    "from nltk.stem import WordNetLemmatizer\n",
    "lemmatizer = WordNetLemmatizer()\n",
    "\n",
    "lemmatized_tokens = [lemmatizer.lemmatize(word) for word in tokens]\n",
    "\n",
    "\" \".join(lemmatized_tokens)"
   ]
  },
  {
   "cell_type": "code",
   "execution_count": 168,
   "metadata": {},
   "outputs": [
    {
     "data": {
      "text/plain": [
       "'There felonies Impeachable offenses. The Constitution clear need bribery treason high crimes misdemeanors. You impeached conduct alleged case. AlanDersh Dershowitz. seanhannity A Scam'"
      ]
     },
     "execution_count": 168,
     "metadata": {},
     "output_type": "execute_result"
    }
   ],
   "source": [
    "\" \".join(tokens) # slight difference"
   ]
  },
  {
   "cell_type": "code",
   "execution_count": 169,
   "metadata": {},
   "outputs": [],
   "source": [
    "# when should you use a lemmatizer or a stemmer?\n",
    "# stemmers are generally faster to compute and require less-complex code and datasets. but stemmers make more errors\n",
    "# and stem a far greater number of words, reducing the meaning of your text much more than a lemmatizer will.\n",
    "\n",
    "# both stemmers will reduce the vocabulary of your text and increase the ambiguity of the text. but lemmatizers do\n",
    "# a better job at retaining information content of a word. so some packages such as spaCy do not provide stemming functions."
   ]
  },
  {
   "cell_type": "code",
   "execution_count": 170,
   "metadata": {},
   "outputs": [],
   "source": [
    "# VADER was one of the first rule-based sentiment analysis algorithms. \n",
    "# it stands for Valence Aware Dictionary for sEntiment Reasoning.\n",
    "# nltk has an implementation of the VADER algorithm"
   ]
  },
  {
   "cell_type": "code",
   "execution_count": 171,
   "metadata": {},
   "outputs": [
    {
     "name": "stderr",
     "output_type": "stream",
     "text": [
      "[nltk_data] Downloading package vader_lexicon to\n",
      "[nltk_data]     C:\\Users\\groov\\AppData\\Roaming\\nltk_data...\n",
      "[nltk_data]   Package vader_lexicon is already up-to-date!\n"
     ]
    }
   ],
   "source": [
    "nltk.download('vader_lexicon')\n",
    "\n",
    "from nltk.sentiment.vader import SentimentIntensityAnalyzer\n",
    "\n",
    "sa = SentimentIntensityAnalyzer()"
   ]
  },
  {
   "cell_type": "code",
   "execution_count": 172,
   "metadata": {},
   "outputs": [],
   "source": [
    "#[token for token in df['tokens'][0] if token not in stop_words]\n",
    "\n",
    "for i in range(len(df['tokens'])):\n",
    "    df['tokens'][i] = [token for token in df['tokens'][i] if token not in stop_words]\n"
   ]
  },
  {
   "cell_type": "code",
   "execution_count": 173,
   "metadata": {},
   "outputs": [],
   "source": [
    "sa_tweets = []\n",
    "\n",
    "# put it back into sentence form so sa can handle it.\n",
    "for i in range(len(df['tokens'])):\n",
    "    sa_tweets.append(\" \".join(df['tokens'][i]))"
   ]
  },
  {
   "cell_type": "code",
   "execution_count": 174,
   "metadata": {},
   "outputs": [
    {
     "data": {
      "text/plain": [
       "0     [There, felonies, Impeachable, offenses., The,...\n",
       "1     [So, people, conveniently, forget, Turkey, big...\n",
       "2     [..good, health, request, Pastor, Brunson, yea...\n",
       "3     [We, process, leaving, Syria, way, Abandoned, ...\n",
       "4     [.understands, 50, soldiers, remaining, sectio...\n",
       "5     [I, love, send, Ambassador, Sondland, really, ...\n",
       "6     [.to, see., Importantly, Ambassador, Sondland,...\n",
       "7     [I, think, Crooked, Hillary, Clinton, enter, r...\n",
       "8     [Thank, Lt., Bob, Kroll, great, Minneapolis, P...\n",
       "9     [Someone, tell, Radical, Left, Mayor, Minneapo...\n",
       "10    [Hasn, Adam, Schiff, fully, discredited, ?, Do...\n",
       "11    [Radical, Left, Dem, Mayor, Minneapolis, Jacob...\n",
       "12    [.In, fact, Cops, For, Trump, T-shirt, Web, Si...\n",
       "13    [.If, Runoff, Louisiana, great, new, Republica...\n",
       "14    [Big, Rally, Louisiana, Friday, night., Must, ...\n",
       "15    [Gasoline, Prices, State, California, MUCH, HI...\n",
       "16    [Bob, Mueller, pursuing, FBI, Director, job, m...\n",
       "17    [Wow, Just, Breaking, :, The, (, big, deal, ),...\n",
       "18    [The, Whistleblower, facts, incorrect, pressur...\n",
       "19    [..The, Whistleblower, lawyer, big, Democrat.,...\n",
       "20    [The, United, States, spent, EIGHT, TRILLION, ...\n",
       "21    [.IN, THE, HISTORY, OF, OUR, COUNTRY, We, went...\n",
       "22    [The, Do, Nothing, Democrats, Con, Artists, lo...\n",
       "23    [.No, Pressure, said, Ukraine, Very, congenial...\n",
       "24    [The, so-called, Whistleblower, knowing, I, go...\n",
       "25    [President, Obama, said, right, sign, DACA, ho...\n",
       "26    [.DACA, stand, negative, legal, implications, ...\n",
       "27    [So, good, great, President, needed, Spy, Camp...\n",
       "28    [Only, 25, percent, want, President, Impeached...\n",
       "29    [So, pathetic, Sleepy, Joe, Biden, son, Hunter...\n",
       "                            ...                        \n",
       "46    [Kevin, McAleenan, outstanding, job, Acting, S...\n",
       "47    [.Congratulations, Kevin, job, I, announcing, ...\n",
       "48                                [WHERE, S, HUNTER, ?]\n",
       "49    [So, funny, watch, Steve, Kerr, grovel, pander...\n",
       "50    [I, saw, subpoenas, ShannonBream, FoxNews, The...\n",
       "51    [Schiff, aides, worked, Whistleblower., foxand...\n",
       "52    [The, case, Major, Mathew, Golsteyn, review, W...\n",
       "53    [.Other, aspects, deal, great, -, technology, ...\n",
       "54    [The, deal, I, China, far, greatest, biggest, ...\n",
       "55    [Louisiana, vote, REPUBLICAN, going, big, game...\n",
       "56    [So, legendary, crime, buster, greatest, Mayor...\n",
       "57                      [The, Endless, Wars, Must, End]\n",
       "58    [The, Governor, Louisiana, John, Bel, Edwards,...\n",
       "59    [The, people, got, Middle, East, Quicksand, 8,...\n",
       "60    [Congratulations, Great, State, Louisiana., A,...\n",
       "61    [The, Media, talking, big, Republican, victory...\n",
       "62    [Very, smart, involved, intense, fighting, Tur...\n",
       "63    [Do, remember, years, ago, Iraq, going, fight,...\n",
       "64    [..The, Kurds, Turkey, fighting, years., Turke...\n",
       "65    [Dealing, LindseyGrahamSC, members, Congress, ...\n",
       "66    [Where, Hunter, ?, He, totally, disappeared, N...\n",
       "67    [We, far, greater, Economic, Power, using, pow...\n",
       "68    [The, Democrats, going, lose, lot, House, Seat...\n",
       "69    [.I, agreed, increase, Tariffs, 25, %, 30, %, ...\n",
       "70    [CHINA, HAS, ALREADY, BEGUN, AGRICULTURAL, PUR...\n",
       "71    [..BY, THE, WAY, DON, T, CALL, ME, AGAIN, I, L...\n",
       "72    [., marklevinshow, FoxNews, big, tonight, Demo...\n",
       "73    [The, U.S., worst, ISIS, prisoners., Turkey, K...\n",
       "74    [Somebody, explain, Chris, Wallace, Fox, fathe...\n",
       "75    [Serial, killers, Due, Process, Democrats, Pre...\n",
       "Name: tokens, Length: 76, dtype: object"
      ]
     },
     "execution_count": 174,
     "metadata": {},
     "output_type": "execute_result"
    }
   ],
   "source": [
    "df['tokens']"
   ]
  },
  {
   "cell_type": "code",
   "execution_count": 175,
   "metadata": {},
   "outputs": [
    {
     "name": "stdout",
     "output_type": "stream",
     "text": [
      "There felonies Impeachable offenses. The Constitution clear need bribery treason high crimes misdemeanors. You impeached conduct alleged case. AlanDersh Dershowitz. seanhannity A Scam\n",
      "{'neg': 0.391, 'neu': 0.528, 'pos': 0.081, 'compound': -0.875}\n",
      "\n",
      "So people conveniently forget Turkey big trading partner United States fact make structural steel frame F-35 Fighter Jet. They good deal helping save lives Idlib Province returning ..\n",
      "{'neg': 0.059, 'neu': 0.597, 'pos': 0.345, 'compound': 0.8603}\n",
      "\n",
      "..good health request Pastor Brunson years long prison term remaining. Also remember importantly Turkey important member good standing NATO. He coming U.S. guest November 13th. # ENDENDLESSWARS\n",
      "{'neg': 0.102, 'neu': 0.681, 'pos': 0.217, 'compound': 0.4019}\n",
      "\n",
      "We process leaving Syria way Abandoned Kurds special people wonderful fighters. Likewise relationship Turkey NATO Trading partner good. Turkey large Kurdish population fully .\n",
      "{'neg': 0.133, 'neu': 0.571, 'pos': 0.295, 'compound': 0.7269}\n",
      "\n",
      ".understands 50 soldiers remaining section Syria removed unforced unnecessary fighting Turkey devastating economy fragile currency. We helping Kurds financially/weapons\n",
      "{'neg': 0.272, 'neu': 0.64, 'pos': 0.088, 'compound': -0.6808}\n",
      "\n",
      "I love send Ambassador Sondland really good man great American testify unfortunately testifying totally compromised kangaroo court Republican rights taken away true facts allowed public .\n",
      "{'neg': 0.067, 'neu': 0.528, 'pos': 0.405, 'compound': 0.921}\n",
      "\n",
      ".to see. Importantly Ambassador Sondland tweet report stated I believe incorrect President Trump intentions. The President crystal clear : quid pro quo kind. That says ALL\n",
      "{'neg': 0.0, 'neu': 0.717, 'pos': 0.283, 'compound': 0.8074}\n",
      "\n",
      "I think Crooked Hillary Clinton enter race try steal away Uber Left Elizabeth Warren. Only condition. The Crooked explain high crimes misdemeanors including deleted 33,000 Emails AFTER getting C Subpoena\n",
      "{'neg': 0.106, 'neu': 0.894, 'pos': 0.0, 'compound': -0.4939}\n",
      "\n",
      "Thank Lt. Bob Kroll great Minneapolis Police Department kind words foxandfriends. The Police fighting Radical Left Mayor ridiculous Uniform Ban. Actually I LOVE Cops Trump shirts. Want bring home. I 100 %\n",
      "{'neg': 0.188, 'neu': 0.458, 'pos': 0.354, 'compound': 0.824}\n",
      "\n",
      "Someone tell Radical Left Mayor Minneapolis price Free Speech. Probably illegal I stand strongly proudly great Police Officers Law Enforcement Minneapolis Great State Minnesota See Thursday Night\n",
      "{'neg': 0.088, 'neu': 0.49, 'pos': 0.422, 'compound': 0.9274}\n",
      "\n",
      "Hasn Adam Schiff fully discredited ? Do continue listening lies ?\n",
      "{'neg': 0.476, 'neu': 0.524, 'pos': 0.0, 'compound': -0.7471}\n",
      "\n",
      "Radical Left Dem Mayor Minneapolis Jacob Frey possible stifle Free Speech despite record sell-out crowd Target Center. Presidents Clinton Obama paid The Minneapolis Police incredible .\n",
      "{'neg': 0.0, 'neu': 0.879, 'pos': 0.121, 'compound': 0.5106}\n",
      "\n",
      ".In fact Cops For Trump T-shirt Web Site CRASHED incredible volume running. Proceeds Police Union Charities. See Thursday night Minneapolis\n",
      "{'neg': 0.0, 'neu': 0.856, 'pos': 0.144, 'compound': 0.4939}\n",
      "\n",
      ".If Runoff Louisiana great new Republican Governor Cut Taxes Car Insurance fabulous job family. Vote Republican Party Honest Abe Lincoln\n",
      "{'neg': 0.069, 'neu': 0.49, 'pos': 0.441, 'compound': 0.9081}\n",
      "\n",
      "Big Rally Louisiana Friday night. Must force runoff Liberal Democrat Governor John Bel Edwards let Taxes Car Insurance high protect 2nd Amendment. Vote great Republicans Saturday force runoff\n",
      "{'neg': 0.0, 'neu': 0.795, 'pos': 0.205, 'compound': 0.7717}\n",
      "\n",
      "Gasoline Prices State California MUCH HIGHER Nation ( $ 2.50 vs. $ 4.50 ) . I guess expensive unsafe cars mandating trick Don worry California relief way. The State\n",
      "{'neg': 0.151, 'neu': 0.735, 'pos': 0.114, 'compound': 0.0}\n",
      "\n",
      "Bob Mueller pursuing FBI Director job met President Trump 2017 Administration officials say. FoxNews Bret Baier Jake Gibson seanhannity This true Mueller denied\n",
      "{'neg': 0.109, 'neu': 0.787, 'pos': 0.105, 'compound': -0.0258}\n",
      "\n",
      "Wow Just Breaking : The ( big deal ) Whistleblower ‘ PROFESSIONAL TIE 2020 Democratic Candidate. Washington Examiner ByronYork In words working potentially running me. Why reported ICIG ? A Witch Hunt Scam\n",
      "{'neg': 0.182, 'neu': 0.706, 'pos': 0.112, 'compound': -0.34}\n",
      "\n",
      "The Whistleblower facts incorrect pressure conversation Ukrainian President conflict involvement Democrat Candidate exposed questioned properly. This Whistleblower ..\n",
      "{'neg': 0.34, 'neu': 0.66, 'pos': 0.0, 'compound': -0.6369}\n",
      "\n",
      "..The Whistleblower lawyer big Democrat. The Whistleblower ties DEMOCRAT OPPONENTS. Why ICIG allow scam continue ?\n",
      "{'neg': 0.199, 'neu': 0.699, 'pos': 0.102, 'compound': -0.4215}\n",
      "\n",
      "The United States spent EIGHT TRILLION DOLLARS fighting policing Middle East. Thousands Great Soldiers died badly wounded. Millions people died side. GOING INTO THE MIDDLE EAST IS THE WORST DECISION EVER MADE ..\n",
      "{'neg': 0.349, 'neu': 0.515, 'pos': 0.137, 'compound': -0.8941}\n",
      "\n",
      ".IN THE HISTORY OF OUR COUNTRY We went war false disproven premise WEAPONS OF MASS DESTRUCTION. There NONE Now slowly carefully bringing great soldiers military home. Our focus BIG PICTURE THE USA IS GREATER THAN EVER BEFORE\n",
      "{'neg': 0.258, 'neu': 0.6, 'pos': 0.142, 'compound': -0.7187}\n",
      "\n",
      "The Do Nothing Democrats Con Artists looking hurt Republican Party President. Their total focus 2020 less. The good news WE WILL WIN\n",
      "{'neg': 0.109, 'neu': 0.576, 'pos': 0.315, 'compound': 0.7547}\n",
      "\n",
      ".No Pressure said Ukraine Very congenial perfect call. The Whistleblower spoke BEFORE seeing Transcript. Now apologize stop ridiculous impeachment\n",
      "{'neg': 0.331, 'neu': 0.473, 'pos': 0.196, 'compound': -0.4062}\n",
      "\n",
      "The so-called Whistleblower knowing I going release exact Transcript stated Ukrainian President crazy frightening completely lacking substance related national security. This big Lie. Read Transcript\n",
      "{'neg': 0.193, 'neu': 0.724, 'pos': 0.083, 'compound': -0.4939}\n",
      "\n",
      "President Obama said right sign DACA hold court. He signed If Supreme Court upholds DACA gives President extraordinary powers far greater thought. If right let\n",
      "{'neg': 0.0, 'neu': 0.79, 'pos': 0.21, 'compound': 0.7269}\n",
      "\n",
      ".DACA stand negative legal implications Republicans Democrats DEAL let stay Country short order. It actually benefit DACA right way\n",
      "{'neg': 0.153, 'neu': 0.661, 'pos': 0.186, 'compound': -0.0516}\n",
      "\n",
      "So good great President needed Spy Campaign order win ( work ) unable 142 important Federal Judgeships ( record far ) handing choose. Will 182 soon\n",
      "{'neg': 0.114, 'neu': 0.499, 'pos': 0.387, 'compound': 0.8508}\n",
      "\n",
      "Only 25 percent want President Impeached pretty low considering volume Fake News coverage pretty high considering fact I NOTHING wrong. It continuation greatest Scam Witch Hunt history Country\n",
      "{'neg': 0.26, 'neu': 0.41, 'pos': 0.33, 'compound': 0.4685}\n",
      "\n",
      "So pathetic Sleepy Joe Biden son Hunter detriment American Taxpayer ripped countries millions dollars calling impeachment - I wrong. Joe Failing Campaign gave choice\n",
      "{'neg': 0.354, 'neu': 0.646, 'pos': 0.0, 'compound': -0.8858}\n",
      "\n",
      "I think Whistleblower all. I think anonymous source Democratic Staff House Representatives. This insult real Whistleblowers. Actual Whistleblowers lives upended. John Kiriakou TuckerCarlson\n",
      "{'neg': 0.142, 'neu': 0.858, 'pos': 0.0, 'compound': -0.5106}\n",
      "\n",
      "In case Kurds Turkey lose control United States taken 2 ISIS militants tied beheadings Syria known Beetles country secure location controlled U.S. They worst worst\n",
      "{'neg': 0.311, 'neu': 0.541, 'pos': 0.148, 'compound': -0.7717}\n",
      "\n",
      "From day I announced I running President I NEVER good FoxNews Poll. Whoever Pollster suck. But FoxNews different used good old days. With people like Andrew Napolitano wanted Supreme .\n",
      "{'neg': 0.222, 'neu': 0.603, 'pos': 0.175, 'compound': -0.1561}\n",
      "\n",
      "Court Justice I turned ( terrible ) Shep Smith donnabrazile ( gave Crooked Hillary debate questions got fired CNN ) FoxNews deliver US anymore. It different used be. Oh I President\n",
      "{'neg': 0.209, 'neu': 0.685, 'pos': 0.106, 'compound': -0.5106}\n",
      "\n",
      "Turkey planning attack Kurds long time. They fighting forever. We soldiers Military near attack area. I trying end ENDLESS WARS. Talking sides. Some want send tens thousands soldiers .\n",
      "{'neg': 0.359, 'neu': 0.606, 'pos': 0.036, 'compound': -0.9141}\n",
      "\n",
      ".the area start new war again. Turkey member NATO. Others say STAY OUT let Kurds fight battles ( financial help ) . I say hit Turkey hard financially sanctions play rules I watching closely .\n",
      "{'neg': 0.272, 'neu': 0.596, 'pos': 0.132, 'compound': -0.6597}\n",
      "\n",
      "Thank OANN One America News fair coverage brilliant reporting. It appreciated people trying hard new consistent powerful VOICE See tonight Big Rally Minneapolis .\n",
      "{'neg': 0.042, 'neu': 0.514, 'pos': 0.444, 'compound': 0.9231}\n",
      "\n",
      "The President Ukraine stated strongest language President Trump applied pressure absolutely wrong. He used strongest language possible. That end Democrat Scam Dems Media FIXED\n",
      "{'neg': 0.273, 'neu': 0.557, 'pos': 0.17, 'compound': -0.5413}\n",
      "\n",
      "Why IG investigating so-called Whistleblower ? All bad info\n",
      "{'neg': 0.333, 'neu': 0.667, 'pos': 0.0, 'compound': -0.5423}\n",
      "\n",
      "Big day negotiations China. They want make deal I ? I meet Vice Premier tomorrow The White House .\n",
      "{'neg': 0.0, 'neu': 0.915, 'pos': 0.085, 'compound': 0.0772}\n",
      "\n",
      ".We choices : Send thousands troops win Militarily hit Turkey hard Financially Sanctions mediate deal Turkey Kurds\n",
      "{'neg': 0.073, 'neu': 0.729, 'pos': 0.198, 'compound': 0.5267}\n",
      "\n",
      "We defeated 100 % ISIS Caliphate longer troops area attack Turkey Syria. We job perfectly Now Turkey attacking Kurds fighting 200 years .\n",
      "{'neg': 0.367, 'neu': 0.502, 'pos': 0.132, 'compound': -0.7579}\n",
      "\n",
      "Good things happening China Trade Talk Meeting. Warmer feelings recent past like Old Days. I meeting Vice Premier today. All like significant happen\n",
      "{'neg': 0.0, 'neu': 0.588, 'pos': 0.412, 'compound': 0.872}\n",
      "\n",
      "I Louisiana tonight ( Love ) Republicans vote great Republican Candidates force run John Bel Edwards really poor job tax cutting car insurance cost ( worst USA ) suspect 2nd Amendment\n",
      "{'neg': 0.283, 'neu': 0.506, 'pos': 0.21, 'compound': -0.2247}\n",
      "\n",
      "One great things China Deal fact various reasons long politically complex Congressional Approval Process. When deal fully negotiated I sign behalf Country. Fast Clean\n",
      "{'neg': 0.0, 'neu': 0.669, 'pos': 0.331, 'compound': 0.872}\n",
      "\n",
      "Will GREAT Senators SenJohnKennedy SenBillCassidy tonight Louisiana. These hard working really smart men love Country love State. We hopefully add Great New Republican Governor beautiful Louisiana mix See tonight\n",
      "{'neg': 0.028, 'neu': 0.421, 'pos': 0.551, 'compound': 0.9819}\n",
      "\n",
      "Kevin McAleenan outstanding job Acting Secretary Homeland Security. We worked Border Crossings way down. Kevin years Government wants spend time family private sector .\n",
      "{'neg': 0.0, 'neu': 0.766, 'pos': 0.234, 'compound': 0.7506}\n",
      "\n",
      ".Congratulations Kevin job I announcing new Acting Secretary week. Many wonderful candidates\n",
      "{'neg': 0.0, 'neu': 0.542, 'pos': 0.458, 'compound': 0.8225}\n",
      "\n",
      "WHERE S HUNTER ?\n",
      "{'neg': 0.0, 'neu': 1.0, 'pos': 0.0, 'compound': 0.0}\n",
      "\n",
      "So funny watch Steve Kerr grovel pander asked simple question China. He chocked looks weak pathetic. Don want White House\n",
      "{'neg': 0.244, 'neu': 0.591, 'pos': 0.166, 'compound': -0.4779}\n",
      "\n",
      "I saw subpoenas ShannonBream FoxNews The Democrats gone Crazy. Just read Transcript listen New Ukraine President statement NO PRESSURE This Democrat Con Job. Impeach Schiff FRAUD\n",
      "{'neg': 0.379, 'neu': 0.621, 'pos': 0.0, 'compound': -0.9153}\n",
      "\n",
      "Schiff aides worked Whistleblower. foxandfriends RepLeeZeldin Schiff lying mess\n",
      "{'neg': 0.457, 'neu': 0.543, 'pos': 0.0, 'compound': -0.7096}\n",
      "\n",
      "The case Major Mathew Golsteyn review White House. Mathew highly decorated Green Beret tried killing Taliban bombmaker. We train boys killing machines prosecute kill PeteHegseth\n",
      "{'neg': 0.435, 'neu': 0.565, 'pos': 0.0, 'compound': -0.9531}\n",
      "\n",
      ".Other aspects deal great - technology financial services 16-20 Billion Boeing Planes etc. WOW Farmers really hit pay dirt ChuckGrassley joniernst debfisher BenSasse Thank Republicans Congress invaluable help\n",
      "{'neg': 0.111, 'neu': 0.536, 'pos': 0.353, 'compound': 0.8883}\n",
      "\n",
      "The deal I China far greatest biggest deal Great Patriot Farmers history Country. In fact question product produced ? Our farmers figure out. Thank China\n",
      "{'neg': 0.0, 'neu': 0.649, 'pos': 0.351, 'compound': 0.8957}\n",
      "\n"
     ]
    },
    {
     "name": "stdout",
     "output_type": "stream",
     "text": [
      "Louisiana vote REPUBLICAN going big game today. A runoff tremendous win Great State - lower taxes car insurance better protection 2nd Amendment Fantastic night\n",
      "{'neg': 0.065, 'neu': 0.506, 'pos': 0.429, 'compound': 0.9217}\n",
      "\n",
      "So legendary crime buster greatest Mayor history NYC Rudy Giuliani. He little rough edges great guy wonderful lawyer. Such sided Witch Hunt going USA. Deep State. Shameful\n",
      "{'neg': 0.225, 'neu': 0.497, 'pos': 0.278, 'compound': 0.5037}\n",
      "\n",
      "The Endless Wars Must End\n",
      "{'neg': 0.474, 'neu': 0.526, 'pos': 0.0, 'compound': -0.5574}\n",
      "\n",
      "The Governor Louisiana John Bel Edwards poor job. NOW HE IS IN A RUNOFF WITH A GREAT REPUBLICAN EddieRispone. Thank Louisiana 66 % 47 % I explained bad job Governor .\n",
      "{'neg': 0.189, 'neu': 0.601, 'pos': 0.21, 'compound': 0.186}\n",
      "\n",
      "The people got Middle East Quicksand 8 Trillion Dollars thousands lives ( millions lives count ) fighting there. Don listen people got clue. They proven inept\n",
      "{'neg': 0.102, 'neu': 0.898, 'pos': 0.0, 'compound': -0.3612}\n",
      "\n",
      "Congratulations Great State Louisiana. A big night. You soon new wonderful Governor EddieRispone. Your Taxes Car Insurance Payments DOWN\n",
      "{'neg': 0.0, 'neu': 0.562, 'pos': 0.438, 'compound': 0.9136}\n",
      "\n",
      "The Media talking big Republican victory night Louisiana sitting Democrat Governor forced runoff getting 50 % . Big upset Now EddieRispone great Governor win\n",
      "{'neg': 0.178, 'neu': 0.571, 'pos': 0.251, 'compound': 0.5106}\n",
      "\n",
      "Very smart involved intense fighting Turkish Border change. Those mistakenly got Middle East Wars pushing fight. They idea bad decision made. Why asking Declaration War ?\n",
      "{'neg': 0.459, 'neu': 0.427, 'pos': 0.114, 'compound': -0.9293}\n",
      "\n",
      "Do remember years ago Iraq going fight Kurds different Syria. Many people wanted fight Kurds Iraq fought for. I said Kurds left fight twice. Now thing happening Turkey\n",
      "{'neg': 0.305, 'neu': 0.695, 'pos': 0.0, 'compound': -0.8442}\n",
      "\n",
      "..The Kurds Turkey fighting years. Turkey considers PKK worst terrorists all. Others want come fight other. Let We monitoring situation closely. Endless Wars\n",
      "{'neg': 0.48, 'neu': 0.483, 'pos': 0.037, 'compound': -0.9485}\n",
      "\n",
      "Dealing LindseyGrahamSC members Congress including Democrats imposing powerful Sanctions Turkey. Treasury ready additional legislation sought. There great consensus this. Turkey asked done. Stay tuned\n",
      "{'neg': 0.044, 'neu': 0.601, 'pos': 0.354, 'compound': 0.8689}\n",
      "\n",
      "Where Hunter ? He totally disappeared Now looks like raided scammed countries Media AWOL .\n",
      "{'neg': 0.295, 'neu': 0.564, 'pos': 0.141, 'compound': -0.4071}\n",
      "\n",
      "We far greater Economic Power using power WORLD PEACE\n",
      "{'neg': 0.0, 'neu': 0.51, 'pos': 0.49, 'compound': 0.7739}\n",
      "\n",
      "The Democrats going lose lot House Seats Fraudulent use Impeachment. Schiff fabricated phone crime. Democrat Senate Seats risk supposedly safe. Look Louisiana night North Carolina week\n",
      "{'neg': 0.325, 'neu': 0.593, 'pos': 0.082, 'compound': -0.8225}\n",
      "\n",
      ".I agreed increase Tariffs 25 % 30 % October 15th. They remain 25 % . The relationship China good. We finish large Phase One deal head directly Phase Two. The Phase One Deal finalized signed soon\n",
      "{'neg': 0.0, 'neu': 0.799, 'pos': 0.201, 'compound': 0.743}\n",
      "\n",
      "CHINA HAS ALREADY BEGUN AGRICULTURAL PURCHASES FROM OUR GREAT PATRIOT FARMERS RANCHERS\n",
      "{'neg': 0.0, 'neu': 0.728, 'pos': 0.272, 'compound': 0.6249}\n",
      "\n",
      "..BY THE WAY DON T CALL ME AGAIN I LL CALL YOU WHEN YOU VE DONE WHAT I VE ASKED. A reminder stupid FALSE. greggutfeld GregGutfeldShow FoxNews I said this. Schiff read Congress American People. End Witch Hunt\n",
      "{'neg': 0.16, 'neu': 0.84, 'pos': 0.0, 'compound': -0.7096}\n",
      "\n",
      ". marklevinshow FoxNews big tonight Democrat Impeachment Scam. 10:00 P.M. No guests Mark. He angry ( like ) . At 9:00 P.M. FoxNews Steve Hilton looking Crooked Bidens. Where Hunter ?\n",
      "{'neg': 0.273, 'neu': 0.653, 'pos': 0.074, 'compound': -0.7717}\n",
      "\n",
      "The U.S. worst ISIS prisoners. Turkey Kurds let escape. Europe taken numerous requests. They now. They come allowed United States\n",
      "{'neg': 0.265, 'neu': 0.573, 'pos': 0.161, 'compound': -0.5994}\n",
      "\n",
      "Somebody explain Chris Wallace Fox father ( friend ) Mike Wallace Phone Conversation I President Ukraine congenial good one. It Schiff version conversation bad\n",
      "{'neg': 0.127, 'neu': 0.652, 'pos': 0.221, 'compound': 0.3818}\n",
      "\n",
      "Serial killers Due Process Democrats President United States. marklevinshow\n",
      "{'neg': 0.305, 'neu': 0.496, 'pos': 0.199, 'compound': -0.3612}\n",
      "\n"
     ]
    }
   ],
   "source": [
    "neg = []\n",
    "neu = []\n",
    "pos = []\n",
    "compound = []\n",
    "\n",
    "for tweet in sa_tweets:\n",
    "    print(tweet)\n",
    "    print(sa.polarity_scores(tweet))\n",
    "    print()\n",
    "    \n",
    "    neg.append(sa.polarity_scores(tweet)['neg'])\n",
    "    neu.append(sa.polarity_scores(tweet)['neu'])\n",
    "    pos.append(sa.polarity_scores(tweet)['pos'])\n",
    "    compound.append(sa.polarity_scores(tweet)['compound'])"
   ]
  },
  {
   "cell_type": "code",
   "execution_count": 176,
   "metadata": {},
   "outputs": [
    {
     "data": {
      "text/html": [
       "<div>\n",
       "<style scoped>\n",
       "    .dataframe tbody tr th:only-of-type {\n",
       "        vertical-align: middle;\n",
       "    }\n",
       "\n",
       "    .dataframe tbody tr th {\n",
       "        vertical-align: top;\n",
       "    }\n",
       "\n",
       "    .dataframe thead th {\n",
       "        text-align: right;\n",
       "    }\n",
       "</style>\n",
       "<table border=\"1\" class=\"dataframe\">\n",
       "  <thead>\n",
       "    <tr style=\"text-align: right;\">\n",
       "      <th></th>\n",
       "      <th>neg</th>\n",
       "      <th>neu</th>\n",
       "      <th>pos</th>\n",
       "      <th>compound</th>\n",
       "      <th>tweet</th>\n",
       "      <th>sa_tweet</th>\n",
       "    </tr>\n",
       "  </thead>\n",
       "  <tbody>\n",
       "    <tr>\n",
       "      <th>0</th>\n",
       "      <td>0.391</td>\n",
       "      <td>0.528</td>\n",
       "      <td>0.081</td>\n",
       "      <td>-0.8750</td>\n",
       "      <td>“There are no felonies, there are no Impeachab...</td>\n",
       "      <td>There felonies Impeachable offenses. The Const...</td>\n",
       "    </tr>\n",
       "    <tr>\n",
       "      <th>1</th>\n",
       "      <td>0.059</td>\n",
       "      <td>0.597</td>\n",
       "      <td>0.345</td>\n",
       "      <td>0.8603</td>\n",
       "      <td>So many people conveniently forget that Turkey...</td>\n",
       "      <td>So people conveniently forget Turkey big tradi...</td>\n",
       "    </tr>\n",
       "    <tr>\n",
       "      <th>2</th>\n",
       "      <td>0.102</td>\n",
       "      <td>0.681</td>\n",
       "      <td>0.217</td>\n",
       "      <td>0.4019</td>\n",
       "      <td>.....good health, at my request, Pastor Brunso...</td>\n",
       "      <td>..good health request Pastor Brunson years lon...</td>\n",
       "    </tr>\n",
       "    <tr>\n",
       "      <th>3</th>\n",
       "      <td>0.133</td>\n",
       "      <td>0.571</td>\n",
       "      <td>0.295</td>\n",
       "      <td>0.7269</td>\n",
       "      <td>We may be in the process of leaving Syria, but...</td>\n",
       "      <td>We process leaving Syria way Abandoned Kurds s...</td>\n",
       "    </tr>\n",
       "    <tr>\n",
       "      <th>4</th>\n",
       "      <td>0.272</td>\n",
       "      <td>0.640</td>\n",
       "      <td>0.088</td>\n",
       "      <td>-0.6808</td>\n",
       "      <td>....understands that while we only had 50 sold...</td>\n",
       "      <td>.understands 50 soldiers remaining section Syr...</td>\n",
       "    </tr>\n",
       "  </tbody>\n",
       "</table>\n",
       "</div>"
      ],
      "text/plain": [
       "     neg    neu    pos  compound  \\\n",
       "0  0.391  0.528  0.081   -0.8750   \n",
       "1  0.059  0.597  0.345    0.8603   \n",
       "2  0.102  0.681  0.217    0.4019   \n",
       "3  0.133  0.571  0.295    0.7269   \n",
       "4  0.272  0.640  0.088   -0.6808   \n",
       "\n",
       "                                               tweet  \\\n",
       "0  “There are no felonies, there are no Impeachab...   \n",
       "1  So many people conveniently forget that Turkey...   \n",
       "2  .....good health, at my request, Pastor Brunso...   \n",
       "3  We may be in the process of leaving Syria, but...   \n",
       "4  ....understands that while we only had 50 sold...   \n",
       "\n",
       "                                            sa_tweet  \n",
       "0  There felonies Impeachable offenses. The Const...  \n",
       "1  So people conveniently forget Turkey big tradi...  \n",
       "2  ..good health request Pastor Brunson years lon...  \n",
       "3  We process leaving Syria way Abandoned Kurds s...  \n",
       "4  .understands 50 soldiers remaining section Syr...  "
      ]
     },
     "execution_count": 176,
     "metadata": {},
     "output_type": "execute_result"
    }
   ],
   "source": [
    "sa_df = pd.DataFrame({'neg': neg, 'neu': neu, 'pos': pos, 'compound': compound, 'tweet': df['tweet'], 'sa_tweet': sa_tweets})\n",
    "sa_df.head()"
   ]
  },
  {
   "cell_type": "code",
   "execution_count": 177,
   "metadata": {},
   "outputs": [
    {
     "data": {
      "text/plain": [
       "<matplotlib.axes._subplots.AxesSubplot at 0x200a70fd4a8>"
      ]
     },
     "execution_count": 177,
     "metadata": {},
     "output_type": "execute_result"
    },
    {
     "data": {
      "image/png": "[encoded data removed]",
      "text/plain": [
       "<Figure size 1152x432 with 1 Axes>"
      ]
     },
     "metadata": {
      "needs_background": "light"
     },
     "output_type": "display_data"
    }
   ],
   "source": [
    "import matplotlib.pyplot\n",
    "%matplotlib inline\n",
    "\n",
    "sa_df[['pos', 'neg']].plot.bar(stacked=True, figsize=(16,6))"
   ]
  },
  {
   "cell_type": "code",
   "execution_count": 178,
   "metadata": {},
   "outputs": [
    {
     "data": {
      "text/html": [
       "<div>\n",
       "<style scoped>\n",
       "    .dataframe tbody tr th:only-of-type {\n",
       "        vertical-align: middle;\n",
       "    }\n",
       "\n",
       "    .dataframe tbody tr th {\n",
       "        vertical-align: top;\n",
       "    }\n",
       "\n",
       "    .dataframe thead th {\n",
       "        text-align: right;\n",
       "    }\n",
       "</style>\n",
       "<table border=\"1\" class=\"dataframe\">\n",
       "  <thead>\n",
       "    <tr style=\"text-align: right;\">\n",
       "      <th></th>\n",
       "      <th>neg</th>\n",
       "      <th>neu</th>\n",
       "      <th>pos</th>\n",
       "      <th>compound</th>\n",
       "    </tr>\n",
       "  </thead>\n",
       "  <tbody>\n",
       "    <tr>\n",
       "      <th>count</th>\n",
       "      <td>76.000000</td>\n",
       "      <td>76.000000</td>\n",
       "      <td>76.000000</td>\n",
       "      <td>76.000000</td>\n",
       "    </tr>\n",
       "    <tr>\n",
       "      <th>mean</th>\n",
       "      <td>0.182421</td>\n",
       "      <td>0.627289</td>\n",
       "      <td>0.190316</td>\n",
       "      <td>0.017946</td>\n",
       "    </tr>\n",
       "    <tr>\n",
       "      <th>std</th>\n",
       "      <td>0.146914</td>\n",
       "      <td>0.130297</td>\n",
       "      <td>0.147967</td>\n",
       "      <td>0.695042</td>\n",
       "    </tr>\n",
       "    <tr>\n",
       "      <th>min</th>\n",
       "      <td>0.000000</td>\n",
       "      <td>0.410000</td>\n",
       "      <td>0.000000</td>\n",
       "      <td>-0.953100</td>\n",
       "    </tr>\n",
       "    <tr>\n",
       "      <th>25%</th>\n",
       "      <td>0.055250</td>\n",
       "      <td>0.527500</td>\n",
       "      <td>0.082750</td>\n",
       "      <td>-0.642600</td>\n",
       "    </tr>\n",
       "    <tr>\n",
       "      <th>50%</th>\n",
       "      <td>0.169000</td>\n",
       "      <td>0.598500</td>\n",
       "      <td>0.168000</td>\n",
       "      <td>-0.038700</td>\n",
       "    </tr>\n",
       "    <tr>\n",
       "      <th>75%</th>\n",
       "      <td>0.297500</td>\n",
       "      <td>0.700750</td>\n",
       "      <td>0.300000</td>\n",
       "      <td>0.758950</td>\n",
       "    </tr>\n",
       "    <tr>\n",
       "      <th>max</th>\n",
       "      <td>0.480000</td>\n",
       "      <td>1.000000</td>\n",
       "      <td>0.551000</td>\n",
       "      <td>0.981900</td>\n",
       "    </tr>\n",
       "  </tbody>\n",
       "</table>\n",
       "</div>"
      ],
      "text/plain": [
       "             neg        neu        pos   compound\n",
       "count  76.000000  76.000000  76.000000  76.000000\n",
       "mean    0.182421   0.627289   0.190316   0.017946\n",
       "std     0.146914   0.130297   0.147967   0.695042\n",
       "min     0.000000   0.410000   0.000000  -0.953100\n",
       "25%     0.055250   0.527500   0.082750  -0.642600\n",
       "50%     0.169000   0.598500   0.168000  -0.038700\n",
       "75%     0.297500   0.700750   0.300000   0.758950\n",
       "max     0.480000   1.000000   0.551000   0.981900"
      ]
     },
     "execution_count": 178,
     "metadata": {},
     "output_type": "execute_result"
    }
   ],
   "source": [
    "sa_df.describe()"
   ]
  },
  {
   "cell_type": "code",
   "execution_count": 179,
   "metadata": {},
   "outputs": [
    {
     "data": {
      "text/plain": [
       "<matplotlib.axes._subplots.AxesSubplot at 0x200a78a0828>"
      ]
     },
     "execution_count": 179,
     "metadata": {},
     "output_type": "execute_result"
    },
    {
     "data": {
      "image/png": "[encoded data removed]",
      "text/plain": [
       "<Figure size 432x288 with 1 Axes>"
      ]
     },
     "metadata": {
      "needs_background": "light"
     },
     "output_type": "display_data"
    }
   ],
   "source": [
    "import seaborn as sns\n",
    "\n",
    "sns.distplot(sa_df['neg'])"
   ]
  },
  {
   "cell_type": "code",
   "execution_count": 180,
   "metadata": {},
   "outputs": [
    {
     "data": {
      "text/plain": [
       "<matplotlib.axes._subplots.AxesSubplot at 0x200a7ff0c18>"
      ]
     },
     "execution_count": 180,
     "metadata": {},
     "output_type": "execute_result"
    },
    {
     "data": {
      "image/png": "[encoded data removed]",
      "text/plain": [
       "<Figure size 432x288 with 1 Axes>"
      ]
     },
     "metadata": {
      "needs_background": "light"
     },
     "output_type": "display_data"
    }
   ],
   "source": [
    "sns.distplot(sa_df['pos'])"
   ]
  },
  {
   "cell_type": "code",
   "execution_count": 181,
   "metadata": {},
   "outputs": [
    {
     "name": "stdout",
     "output_type": "stream",
     "text": [
      "I love send Ambassador Sondland really good man great American testify unfortunately testifying totally compromised kangaroo court Republican rights taken away true facts allowed public .\n",
      "{'neg': 0.067, 'neu': 0.528, 'pos': 0.405, 'compound': 0.921}\n",
      "\n",
      "Someone tell Radical Left Mayor Minneapolis price Free Speech. Probably illegal I stand strongly proudly great Police Officers Law Enforcement Minneapolis Great State Minnesota See Thursday Night\n",
      "{'neg': 0.088, 'neu': 0.49, 'pos': 0.422, 'compound': 0.9274}\n",
      "\n",
      ".If Runoff Louisiana great new Republican Governor Cut Taxes Car Insurance fabulous job family. Vote Republican Party Honest Abe Lincoln\n",
      "{'neg': 0.069, 'neu': 0.49, 'pos': 0.441, 'compound': 0.9081}\n",
      "\n",
      "Thank OANN One America News fair coverage brilliant reporting. It appreciated people trying hard new consistent powerful VOICE See tonight Big Rally Minneapolis .\n",
      "{'neg': 0.042, 'neu': 0.514, 'pos': 0.444, 'compound': 0.9231}\n",
      "\n",
      "Good things happening China Trade Talk Meeting. Warmer feelings recent past like Old Days. I meeting Vice Premier today. All like significant happen\n",
      "{'neg': 0.0, 'neu': 0.588, 'pos': 0.412, 'compound': 0.872}\n",
      "\n",
      "Will GREAT Senators SenJohnKennedy SenBillCassidy tonight Louisiana. These hard working really smart men love Country love State. We hopefully add Great New Republican Governor beautiful Louisiana mix See tonight\n",
      "{'neg': 0.028, 'neu': 0.421, 'pos': 0.551, 'compound': 0.9819}\n",
      "\n",
      ".Congratulations Kevin job I announcing new Acting Secretary week. Many wonderful candidates\n",
      "{'neg': 0.0, 'neu': 0.542, 'pos': 0.458, 'compound': 0.8225}\n",
      "\n",
      "Louisiana vote REPUBLICAN going big game today. A runoff tremendous win Great State - lower taxes car insurance better protection 2nd Amendment Fantastic night\n",
      "{'neg': 0.065, 'neu': 0.506, 'pos': 0.429, 'compound': 0.9217}\n",
      "\n",
      "Congratulations Great State Louisiana. A big night. You soon new wonderful Governor EddieRispone. Your Taxes Car Insurance Payments DOWN\n",
      "{'neg': 0.0, 'neu': 0.562, 'pos': 0.438, 'compound': 0.9136}\n",
      "\n",
      "We far greater Economic Power using power WORLD PEACE\n",
      "{'neg': 0.0, 'neu': 0.51, 'pos': 0.49, 'compound': 0.7739}\n",
      "\n"
     ]
    }
   ],
   "source": [
    "for tweet in sa_df[sa_df['pos'] > 0.4]['sa_tweet']:\n",
    "    print(tweet)\n",
    "    print(sa.polarity_scores(tweet))\n",
    "    print()"
   ]
  },
  {
   "cell_type": "code",
   "execution_count": 182,
   "metadata": {},
   "outputs": [
    {
     "name": "stdout",
     "output_type": "stream",
     "text": [
      "Hasn Adam Schiff fully discredited ? Do continue listening lies ?\n",
      "{'neg': 0.476, 'neu': 0.524, 'pos': 0.0, 'compound': -0.7471}\n",
      "\n",
      "Schiff aides worked Whistleblower. foxandfriends RepLeeZeldin Schiff lying mess\n",
      "{'neg': 0.457, 'neu': 0.543, 'pos': 0.0, 'compound': -0.7096}\n",
      "\n",
      "The case Major Mathew Golsteyn review White House. Mathew highly decorated Green Beret tried killing Taliban bombmaker. We train boys killing machines prosecute kill PeteHegseth\n",
      "{'neg': 0.435, 'neu': 0.565, 'pos': 0.0, 'compound': -0.9531}\n",
      "\n",
      "The Endless Wars Must End\n",
      "{'neg': 0.474, 'neu': 0.526, 'pos': 0.0, 'compound': -0.5574}\n",
      "\n",
      "Very smart involved intense fighting Turkish Border change. Those mistakenly got Middle East Wars pushing fight. They idea bad decision made. Why asking Declaration War ?\n",
      "{'neg': 0.459, 'neu': 0.427, 'pos': 0.114, 'compound': -0.9293}\n",
      "\n",
      "..The Kurds Turkey fighting years. Turkey considers PKK worst terrorists all. Others want come fight other. Let We monitoring situation closely. Endless Wars\n",
      "{'neg': 0.48, 'neu': 0.483, 'pos': 0.037, 'compound': -0.9485}\n",
      "\n"
     ]
    }
   ],
   "source": [
    "for tweet in sa_df[sa_df['neg'] > 0.4]['sa_tweet']:\n",
    "    print(tweet)\n",
    "    print(sa.polarity_scores(tweet))\n",
    "    print()\n",
    "    \n",
    "# the war one is interesting, because that's actually a very positive message"
   ]
  },
  {
   "cell_type": "code",
   "execution_count": 183,
   "metadata": {},
   "outputs": [
    {
     "name": "stdout",
     "output_type": "stream",
     "text": [
      "I think Crooked Hillary Clinton enter race try steal away Uber Left Elizabeth Warren. Only condition. The Crooked explain high crimes misdemeanors including deleted 33,000 Emails AFTER getting C Subpoena\n",
      "{'neg': 0.106, 'neu': 0.894, 'pos': 0.0, 'compound': -0.4939}\n",
      "\n",
      "Radical Left Dem Mayor Minneapolis Jacob Frey possible stifle Free Speech despite record sell-out crowd Target Center. Presidents Clinton Obama paid The Minneapolis Police incredible .\n",
      "{'neg': 0.0, 'neu': 0.879, 'pos': 0.121, 'compound': 0.5106}\n",
      "\n",
      ".In fact Cops For Trump T-shirt Web Site CRASHED incredible volume running. Proceeds Police Union Charities. See Thursday night Minneapolis\n",
      "{'neg': 0.0, 'neu': 0.856, 'pos': 0.144, 'compound': 0.4939}\n",
      "\n",
      "I think Whistleblower all. I think anonymous source Democratic Staff House Representatives. This insult real Whistleblowers. Actual Whistleblowers lives upended. John Kiriakou TuckerCarlson\n",
      "{'neg': 0.142, 'neu': 0.858, 'pos': 0.0, 'compound': -0.5106}\n",
      "\n",
      "Big day negotiations China. They want make deal I ? I meet Vice Premier tomorrow The White House .\n",
      "{'neg': 0.0, 'neu': 0.915, 'pos': 0.085, 'compound': 0.0772}\n",
      "\n",
      "WHERE S HUNTER ?\n",
      "{'neg': 0.0, 'neu': 1.0, 'pos': 0.0, 'compound': 0.0}\n",
      "\n",
      "The people got Middle East Quicksand 8 Trillion Dollars thousands lives ( millions lives count ) fighting there. Don listen people got clue. They proven inept\n",
      "{'neg': 0.102, 'neu': 0.898, 'pos': 0.0, 'compound': -0.3612}\n",
      "\n",
      "..BY THE WAY DON T CALL ME AGAIN I LL CALL YOU WHEN YOU VE DONE WHAT I VE ASKED. A reminder stupid FALSE. greggutfeld GregGutfeldShow FoxNews I said this. Schiff read Congress American People. End Witch Hunt\n",
      "{'neg': 0.16, 'neu': 0.84, 'pos': 0.0, 'compound': -0.7096}\n",
      "\n"
     ]
    }
   ],
   "source": [
    "for tweet in sa_df[sa_df['neu'] > 0.8]['sa_tweet']:\n",
    "    print(tweet)\n",
    "    print(sa.polarity_scores(tweet))\n",
    "    print()"
   ]
  },
  {
   "cell_type": "code",
   "execution_count": null,
   "metadata": {},
   "outputs": [],
   "source": []
  },
  {
   "cell_type": "code",
   "execution_count": null,
   "metadata": {},
   "outputs": [],
   "source": []
  }
 ],
 "metadata": {
  "kernelspec": {
   "display_name": "Python 3",
   "language": "python",
   "name": "python3"
  },
  "language_info": {
   "codemirror_mode": {
    "name": "ipython",
    "version": 3
   },
   "file_extension": ".py",
   "mimetype": "text/x-python",
   "name": "python",
   "nbconvert_exporter": "python",
   "pygments_lexer": "ipython3",
   "version": "3.7.3"
  }
 },
 "nbformat": 4,
 "nbformat_minor": 2
}
