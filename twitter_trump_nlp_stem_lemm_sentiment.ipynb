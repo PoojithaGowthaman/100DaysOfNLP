{
 "cells": [
  {
   "cell_type": "code",
   "execution_count": 44,
   "metadata": {},
   "outputs": [],
   "source": [
    "import pandas as pd\n",
    "import nltk\n",
    "\n",
    "from nltk.tokenize import TreebankWordTokenizer"
   ]
  },
  {
   "cell_type": "code",
   "execution_count": 45,
   "metadata": {},
   "outputs": [
    {
     "data": {
      "text/plain": [
       "'C:\\\\Users\\\\groov\\\\PythonCode\\\\output\\\\trump_tweets\\\\trump_tweets.csv'"
      ]
     },
     "execution_count": 45,
     "metadata": {},
     "output_type": "execute_result"
    }
   ],
   "source": [
    "csv_file = r'C:\\Users\\groov\\PythonCode\\output\\trump_tweets\\trump_tweets.csv'\n",
    "csv_file"
   ]
  },
  {
   "cell_type": "code",
   "execution_count": 46,
   "metadata": {},
   "outputs": [
    {
     "data": {
      "text/html": [
       "<div>\n",
       "<style scoped>\n",
       "    .dataframe tbody tr th:only-of-type {\n",
       "        vertical-align: middle;\n",
       "    }\n",
       "\n",
       "    .dataframe tbody tr th {\n",
       "        vertical-align: top;\n",
       "    }\n",
       "\n",
       "    .dataframe thead th {\n",
       "        text-align: right;\n",
       "    }\n",
       "</style>\n",
       "<table border=\"1\" class=\"dataframe\">\n",
       "  <thead>\n",
       "    <tr style=\"text-align: right;\">\n",
       "      <th></th>\n",
       "      <th>date_posted</th>\n",
       "      <th>tweet</th>\n",
       "    </tr>\n",
       "  </thead>\n",
       "  <tbody>\n",
       "    <tr>\n",
       "      <th>71</th>\n",
       "      <td>2019-10-13 22:16:39+00:00</td>\n",
       "      <td>.....BY THE WAY, DON’T CALL ME AGAIN, I’LL CAL...</td>\n",
       "    </tr>\n",
       "    <tr>\n",
       "      <th>72</th>\n",
       "      <td>2019-10-13 23:09:01+00:00</td>\n",
       "      <td>.@marklevinshow on @FoxNews is doing a big sho...</td>\n",
       "    </tr>\n",
       "    <tr>\n",
       "      <th>73</th>\n",
       "      <td>2019-10-13 23:27:49+00:00</td>\n",
       "      <td>The U.S. has the worst of the ISIS prisoners. ...</td>\n",
       "    </tr>\n",
       "    <tr>\n",
       "      <th>74</th>\n",
       "      <td>2019-10-14 00:10:14+00:00</td>\n",
       "      <td>Somebody please explain to Chris Wallace of Fo...</td>\n",
       "    </tr>\n",
       "    <tr>\n",
       "      <th>75</th>\n",
       "      <td>2019-10-14 00:34:01+00:00</td>\n",
       "      <td>“Serial killers get more Due Process than the ...</td>\n",
       "    </tr>\n",
       "  </tbody>\n",
       "</table>\n",
       "</div>"
      ],
      "text/plain": [
       "                  date_posted  \\\n",
       "71  2019-10-13 22:16:39+00:00   \n",
       "72  2019-10-13 23:09:01+00:00   \n",
       "73  2019-10-13 23:27:49+00:00   \n",
       "74  2019-10-14 00:10:14+00:00   \n",
       "75  2019-10-14 00:34:01+00:00   \n",
       "\n",
       "                                                tweet  \n",
       "71  .....BY THE WAY, DON’T CALL ME AGAIN, I’LL CAL...  \n",
       "72  .@marklevinshow on @FoxNews is doing a big sho...  \n",
       "73  The U.S. has the worst of the ISIS prisoners. ...  \n",
       "74  Somebody please explain to Chris Wallace of Fo...  \n",
       "75  “Serial killers get more Due Process than the ...  "
      ]
     },
     "execution_count": 46,
     "metadata": {},
     "output_type": "execute_result"
    }
   ],
   "source": [
    "df = pd.read_csv(csv_file, names=['date_posted', 'tweet'])\n",
    "#df.set_index('date_posted', inplace=True)\n",
    "df.tail()"
   ]
  },
  {
   "cell_type": "code",
   "execution_count": 47,
   "metadata": {},
   "outputs": [
    {
     "data": {
      "text/plain": [
       "(76, 2)"
      ]
     },
     "execution_count": 47,
     "metadata": {},
     "output_type": "execute_result"
    }
   ],
   "source": [
    "df.shape"
   ]
  },
  {
   "cell_type": "code",
   "execution_count": 48,
   "metadata": {},
   "outputs": [
    {
     "data": {
      "text/plain": [
       "0    [“, There, are, no, felonies, ,, there, are, n...\n",
       "1    [So, many, people, conveniently, forget, that,...\n",
       "2    [..., ..good, health, ,, at, my, request, ,, P...\n",
       "3    [We, may, be, in, the, process, of, leaving, S...\n",
       "4    [..., .understands, that, while, we, only, had...\n",
       "Name: tokens, dtype: object"
      ]
     },
     "execution_count": 48,
     "metadata": {},
     "output_type": "execute_result"
    }
   ],
   "source": [
    "tokenizer = TreebankWordTokenizer()\n",
    "df['tokens'] = df['tweet'].apply(tokenizer.tokenize)\n",
    "\n",
    "df['tokens'][0:5]"
   ]
  },
  {
   "cell_type": "code",
   "execution_count": 49,
   "metadata": {},
   "outputs": [
    {
     "data": {
      "text/plain": [
       "[]"
      ]
     },
     "execution_count": 49,
     "metadata": {},
     "output_type": "execute_result"
    }
   ],
   "source": [
    "from nltk.util import ngrams\n",
    "\n",
    "list(ngrams(df['tokens'][0:1], 2))"
   ]
  },
  {
   "cell_type": "code",
   "execution_count": 56,
   "metadata": {},
   "outputs": [
    {
     "data": {
      "text/plain": [
       "[('“', 'There', 'are'),\n",
       " ('There', 'are', 'no'),\n",
       " ('are', 'no', 'felonies'),\n",
       " ('no', 'felonies', ','),\n",
       " ('felonies', ',', 'there')]"
      ]
     },
     "execution_count": 56,
     "metadata": {},
     "output_type": "execute_result"
    }
   ],
   "source": [
    "list(ngrams(df['tokens'][0], 3))[0:5]"
   ]
  },
  {
   "cell_type": "code",
   "execution_count": 66,
   "metadata": {},
   "outputs": [
    {
     "name": "stdout",
     "output_type": "stream",
     "text": [
      "['i', 'me', 'my', 'myself', 'we']\n",
      "['onto', 'there', 'so', 'us', 'and']\n"
     ]
    },
    {
     "name": "stderr",
     "output_type": "stream",
     "text": [
      "[nltk_data] Downloading package stopwords to\n",
      "[nltk_data]     C:\\Users\\groov\\AppData\\Roaming\\nltk_data...\n",
      "[nltk_data]   Package stopwords is already up-to-date!\n"
     ]
    }
   ],
   "source": [
    "nltk.download('stopwords')\n",
    "from sklearn.feature_extraction.text import ENGLISH_STOP_WORDS as stop_words_sklearn\n",
    "\n",
    "stop_words_nltk = nltk.corpus.stopwords.words('english')\n",
    "print(stop_words_nltk[0:5])\n",
    "print(list(stop_words_sklearn)[0:5])"
   ]
  },
  {
   "cell_type": "code",
   "execution_count": 105,
   "metadata": {},
   "outputs": [
    {
     "data": {
      "text/plain": [
       "(384, 179, 318)"
      ]
     },
     "execution_count": 105,
     "metadata": {},
     "output_type": "execute_result"
    }
   ],
   "source": [
    "stop_words = []\n",
    "\n",
    "stop_words = stop_words + stop_words_nltk\n",
    "stop_words = stop_words + list(stop_words_sklearn)\n",
    "stop_words = list(set(stop_words))\n",
    "\n",
    "stop_words_mine = ['“', '”', ',', '@', '’', '!']\n",
    "stop_words = stop_words + stop_words_mine\n",
    "\n",
    "\n",
    "len(stop_words), len(stop_words_nltk), len(list(stop_words_sklearn))"
   ]
  },
  {
   "cell_type": "code",
   "execution_count": 106,
   "metadata": {},
   "outputs": [
    {
     "data": {
      "text/plain": [
       "'There felonies Impeachable offenses. The Constitution clear need bribery treason high crimes misdemeanors. You impeached conduct alleged case. AlanDersh Dershowitz. seanhannity A Scam'"
      ]
     },
     "execution_count": 106,
     "metadata": {},
     "output_type": "execute_result"
    }
   ],
   "source": [
    "tokens = [token for token in df['tokens'][0] if token not in stop_words]\n",
    "\" \".join(tokens)"
   ]
  },
  {
   "cell_type": "code",
   "execution_count": null,
   "metadata": {},
   "outputs": [],
   "source": [
    "# stemming removes the small meaning differences of pluralization or posssessive endings of words to normalize vocabulary\n",
    "# it can reduce the precision score of your search results, but would improve the recall score for returning relevant docs\n",
    "# so it is often useful to be able to turn off stemming where you want precision\n",
    "\n",
    "# two of the most popular stemmers are Porter and Snowball. They were both created by the scientist Martin Porter."
   ]
  },
  {
   "cell_type": "code",
   "execution_count": 107,
   "metadata": {},
   "outputs": [
    {
     "data": {
      "text/plain": [
       "'there feloni impeach offenses. the constitut clear need briberi treason high crime misdemeanors. you impeach conduct alleg case. alandersh dershowitz. seanhann A scam'"
      ]
     },
     "execution_count": 107,
     "metadata": {},
     "output_type": "execute_result"
    }
   ],
   "source": [
    "from nltk.stem.porter import PorterStemmer\n",
    "\n",
    "stemmer = PorterStemmer()\n",
    "\n",
    "stemmed_tokens = [stemmer.stem(word) for word in tokens]\n",
    "\n",
    "\" \".join(stemmed_tokens)"
   ]
  },
  {
   "cell_type": "code",
   "execution_count": 111,
   "metadata": {},
   "outputs": [
    {
     "data": {
      "text/plain": [
       "'there feloni impeach offenses. the constitut clear need briberi treason high crime misdemeanors. you impeach conduct alleg case. alandersh dershowitz. seanhann a scam'"
      ]
     },
     "execution_count": 111,
     "metadata": {},
     "output_type": "execute_result"
    }
   ],
   "source": [
    "from nltk.stem.snowball import SnowballStemmer\n",
    "\n",
    "stemmer = SnowballStemmer(language='english')\n",
    "\n",
    "stemmed_tokens = [stemmer.stem(word) for word in tokens]\n",
    "\n",
    "\" \".join(stemmed_tokens)"
   ]
  },
  {
   "cell_type": "code",
   "execution_count": 112,
   "metadata": {},
   "outputs": [],
   "source": [
    "# lemmatization can associate words together by their meaning even if their spelling is different\n",
    "# like stemming, this can make your model less precise but more general\n",
    "# it is potentially more accurate than stemming because it takes into account word meaning\n",
    "# some lemmatizers use the word's part of speech in addition to spelling to improve accuracy\n",
    "# so, lemmatizers are better than stemmers for most applications.\n",
    "\n",
    "# and if you really want the dimension reduction and recall improvement of a stemmer in your information \n",
    "# retrieval pipeline, you shoudl probably also use a lemmatizer right befor the stemmer.\n",
    "# because the lemma of a word is a valid English word, stemmers work well on the output of a lemmatizer"
   ]
  },
  {
   "cell_type": "code",
   "execution_count": 117,
   "metadata": {},
   "outputs": [
    {
     "name": "stderr",
     "output_type": "stream",
     "text": [
      "[nltk_data] Downloading package wordnet to\n",
      "[nltk_data]     C:\\Users\\groov\\AppData\\Roaming\\nltk_data...\n",
      "[nltk_data]   Package wordnet is already up-to-date!\n"
     ]
    },
    {
     "data": {
      "text/plain": [
       "'There felony Impeachable offenses. The Constitution clear need bribery treason high crime misdemeanors. You impeached conduct alleged case. AlanDersh Dershowitz. seanhannity A Scam'"
      ]
     },
     "execution_count": 117,
     "metadata": {},
     "output_type": "execute_result"
    }
   ],
   "source": [
    "nltk.download('wordnet')\n",
    "\n",
    "from nltk.stem import WordNetLemmatizer\n",
    "lemmatizer = WordNetLemmatizer()\n",
    "\n",
    "lemmatized_tokens = [lemmatizer.lemmatize(word) for word in tokens]\n",
    "\n",
    "\" \".join(lemmatized_tokens)"
   ]
  },
  {
   "cell_type": "code",
   "execution_count": 118,
   "metadata": {},
   "outputs": [
    {
     "data": {
      "text/plain": [
       "'There felonies Impeachable offenses. The Constitution clear need bribery treason high crimes misdemeanors. You impeached conduct alleged case. AlanDersh Dershowitz. seanhannity A Scam'"
      ]
     },
     "execution_count": 118,
     "metadata": {},
     "output_type": "execute_result"
    }
   ],
   "source": [
    "\" \".join(tokens) # slight difference"
   ]
  },
  {
   "cell_type": "code",
   "execution_count": 119,
   "metadata": {},
   "outputs": [],
   "source": [
    "# when should you use a lemmatizer or a stemmer?\n",
    "# stemmers are generally faster to compute and require less-complex code and datasets. but stemmers make more errors\n",
    "# and stem a far greater number of words, reducing the meaning of your text much more than a lemmatizer will.\n",
    "\n",
    "# both stemmers will reduce the vocabulary of your text and increase the ambiguity of the text. but lemmatizers do\n",
    "# a better job at retaining information content of a word. so some packages such as spaCy do not provide stemming functions."
   ]
  },
  {
   "cell_type": "code",
   "execution_count": 120,
   "metadata": {},
   "outputs": [],
   "source": [
    "# VADER was one of the first rule-based sentiment analysis algorithms. \n",
    "# it stands for Valence Aware Dictionary for sEntiment Reasoning.\n",
    "# nltk has an implementation of the VADER algorithm"
   ]
  },
  {
   "cell_type": "code",
   "execution_count": 127,
   "metadata": {},
   "outputs": [
    {
     "name": "stderr",
     "output_type": "stream",
     "text": [
      "[nltk_data] Downloading package vader_lexicon to\n",
      "[nltk_data]     C:\\Users\\groov\\AppData\\Roaming\\nltk_data...\n"
     ]
    }
   ],
   "source": [
    "nltk.download('vader_lexicon')\n",
    "\n",
    "from nltk.sentiment.vader import SentimentIntensityAnalyzer\n",
    "\n",
    "sa = vader.SentimentIntensityAnalyzer()"
   ]
  },
  {
   "cell_type": "code",
   "execution_count": 134,
   "metadata": {},
   "outputs": [
    {
     "data": {
      "text/plain": [
       "'“There are no felonies, there are no Impeachable offenses. The Constitution’s very clear that you need bribery, treason, or other high crimes and misdemeanors. You can’t be impeached for the conduct that’s been alleged in this case.” @AlanDersh Dershowitz. @seanhannity  A Scam!'"
      ]
     },
     "execution_count": 134,
     "metadata": {},
     "output_type": "execute_result"
    }
   ],
   "source": [
    "tweet = df['tweet'][0]\n",
    "tweet"
   ]
  },
  {
   "cell_type": "code",
   "execution_count": 139,
   "metadata": {},
   "outputs": [
    {
     "data": {
      "text/plain": [
       "-0.3612"
      ]
     },
     "execution_count": 139,
     "metadata": {},
     "output_type": "execute_result"
    }
   ],
   "source": [
    "sa.polarity_scores(tweet)['compound']"
   ]
  },
  {
   "cell_type": "code",
   "execution_count": 145,
   "metadata": {},
   "outputs": [
    {
     "name": "stdout",
     "output_type": "stream",
     "text": [
      "“There are no felonies, there are no Impeachable offenses. The Constitution’s very clear that you need bribery, treason, or other high crimes and misdemeanors. You can’t be impeached for the conduct that’s been alleged in this case.” @AlanDersh Dershowitz. @seanhannity  A Scam!\n",
      "{'neg': 0.319, 'neu': 0.627, 'pos': 0.053, 'compound': -0.9246}\n",
      "\n",
      "So many people conveniently forget that Turkey is a big trading partner of the United States, in fact they make the structural steel frame for our F-35 Fighter Jet. They have also been good to deal with, helping me to save many lives at Idlib Province, and returning, in very.....\n",
      "{'neg': 0.033, 'neu': 0.747, 'pos': 0.22, 'compound': 0.8689}\n",
      "\n",
      ".....good health, at my request, Pastor Brunson, who had many years of a long prison term remaining. Also remember, and importantly, that Turkey is an important member in good standing of NATO. He is coming to the U.S. as my guest on November 13th. #ENDENDLESSWARS\n",
      "{'neg': 0.066, 'neu': 0.795, 'pos': 0.139, 'compound': 0.4019}\n",
      "\n",
      "We may be in the process of leaving Syria, but in no way have we Abandoned the Kurds, who are special people and wonderful fighters. Likewise our relationship with Turkey, a NATO and Trading partner, has been very good. Turkey already has a large Kurdish population and fully....\n",
      "{'neg': 0.133, 'neu': 0.656, 'pos': 0.211, 'compound': 0.7776}\n",
      "\n",
      "....understands that while we only had 50 soldiers remaining in that section of Syria, and they have been removed, any unforced or unnecessary fighting by Turkey will be devastating to their economy and to their very fragile currency. We are helping the Kurds financially/weapons!\n",
      "{'neg': 0.141, 'neu': 0.815, 'pos': 0.044, 'compound': -0.7088}\n",
      "\n",
      "I would love to send Ambassador Sondland, a really good man and great American, to testify, but unfortunately he would be testifying before a totally compromised kangaroo court, where Republican’s rights have been taken away, and true facts are not allowed out for the public....\n",
      "{'neg': 0.061, 'neu': 0.725, 'pos': 0.214, 'compound': 0.7812}\n",
      "\n",
      "....to see. Importantly, Ambassador Sondland’s tweet, which few report, stated, “I believe you are incorrect about President Trump’s intentions. The President has been crystal clear: no quid pro quo’s of any kind.” That says it ALL!\n",
      "{'neg': 0.054, 'neu': 0.817, 'pos': 0.129, 'compound': 0.4574}\n",
      "\n",
      "I think that Crooked Hillary Clinton should enter the race to try and steal it away from Uber Left Elizabeth Warren. Only one condition. The Crooked one must explain all of her high crimes and misdemeanors including how &amp; why she deleted 33,000 Emails AFTER getting “C” Subpoena!\n",
      "{'neg': 0.071, 'neu': 0.929, 'pos': 0.0, 'compound': -0.5411}\n",
      "\n",
      "Thank you to Lt. Bob Kroll of the great Minneapolis Police Department for your kind words on @foxandfriends. The Police are fighting the Radical Left Mayor, and his ridiculous Uniform Ban. Actually, I LOVE the Cops for Trump shirts. Want to bring some home. I am with you 100%!!!!\n",
      "{'neg': 0.132, 'neu': 0.6, 'pos': 0.268, 'compound': 0.869}\n",
      "\n",
      "Someone please tell the Radical Left Mayor of Minneapolis that he can’t price out Free Speech. Probably illegal! I stand strongly &amp; proudly with the great Police Officers and Law Enforcement of Minneapolis and the Great State of Minnesota! See you Thursday Night!\n",
      "{'neg': 0.061, 'neu': 0.593, 'pos': 0.345, 'compound': 0.9499}\n",
      "\n",
      "Hasn’t Adam Schiff been fully discredited by now? Do we have to continue listening to his lies?\n",
      "{'neg': 0.298, 'neu': 0.702, 'pos': 0.0, 'compound': -0.7471}\n",
      "\n",
      "Radical Left Dem Mayor of Minneapolis, Jacob Frey, is doing everything possible to stifle Free Speech despite a record sell-out crowd at the Target Center. Presidents Clinton and Obama paid almost nothing! The Minneapolis Police have been incredible....\n",
      "{'neg': 0.0, 'neu': 0.909, 'pos': 0.091, 'compound': 0.5562}\n",
      "\n",
      "....In fact, the “Cops For Trump” T-shirt Web Site CRASHED because of incredible volume, but is now back up and running. Proceeds go to the Police Union Charities. See you on Thursday night in Minneapolis!\n",
      "{'neg': 0.0, 'neu': 0.881, 'pos': 0.119, 'compound': 0.68}\n",
      "\n",
      "....If there is a Runoff in Louisiana, you will have a great new Republican Governor who will Cut your Taxes and Car Insurance, and do a fabulous job for you and your family. Vote Republican, the Party of Honest Abe Lincoln!\n",
      "{'neg': 0.043, 'neu': 0.675, 'pos': 0.282, 'compound': 0.9134}\n",
      "\n",
      "Big Rally in Louisiana on Friday night. Must force a runoff with a Liberal Democrat Governor, John Bel Edwards, who has let your Taxes and Car Insurance get too high, and will never protect your 2nd Amendment. Vote for one of our two great Republicans on Saturday, force a runoff!\n",
      "{'neg': 0.042, 'neu': 0.872, 'pos': 0.085, 'compound': 0.4953}\n",
      "\n",
      "Gasoline Prices in the State of California are MUCH HIGHER than anywhere else in the Nation ($2.50 vs. $4.50). I guess those very expensive and unsafe cars that they are mandating just aren’t doing the trick! Don’t worry California, relief is on the way. The State doesn’t get it!\n",
      "{'neg': 0.089, 'neu': 0.853, 'pos': 0.059, 'compound': 0.0}\n",
      "\n",
      "“Bob Mueller was pursuing the FBI Director job when he met with President Trump in 2017, Administration officials say.” @FoxNews  Bret Baier and Jake Gibson @seanhannity This is true even though Mueller denied it!\n",
      "{'neg': 0.084, 'neu': 0.842, 'pos': 0.074, 'compound': -0.1007}\n",
      "\n",
      "Wow, Just Breaking: “The (big deal) Whistleblower had a ‘PROFESSIONAL TIE’ to 2020 Democratic Candidate.” Washington Examiner, @ByronYork  In other words, was working with someone who was potentially running against me. Why wasn’t this reported by the ICIG? A Witch Hunt Scam!\n",
      "{'neg': 0.137, 'neu': 0.782, 'pos': 0.08, 'compound': -0.4003}\n",
      "\n",
      "The Whistleblower’s facts have been so incorrect about my “no pressure” conversation with the Ukrainian President, and now the conflict of interest and involvement with a Democrat Candidate, that he or she should be exposed and questioned properly. This is no Whistleblower.....\n",
      "{'neg': 0.156, 'neu': 0.779, 'pos': 0.065, 'compound': -0.296}\n",
      "\n",
      ".....The Whistleblower’s lawyer is a big Democrat. The Whistleblower has ties to one of my DEMOCRAT OPPONENTS. Why does the ICIG allow this scam to continue?\n",
      "{'neg': 0.149, 'neu': 0.786, 'pos': 0.065, 'compound': -0.5385}\n",
      "\n",
      "The United States has spent EIGHT TRILLION DOLLARS fighting and policing in the Middle East. Thousands of our Great Soldiers have died or been badly wounded. Millions of people have died on the other side. GOING INTO THE MIDDLE EAST IS THE WORST DECISION EVER MADE.....\n",
      "{'neg': 0.278, 'neu': 0.614, 'pos': 0.109, 'compound': -0.8941}\n",
      "\n",
      "....IN THE HISTORY OF OUR COUNTRY! We went to war under a false &amp; now disproven premise, WEAPONS OF MASS DESTRUCTION. There were NONE! Now we are slowly &amp; carefully bringing our great soldiers &amp; military home. Our focus is on the BIG PICTURE! THE USA IS GREATER THAN EVER BEFORE!\n",
      "{'neg': 0.199, 'neu': 0.667, 'pos': 0.134, 'compound': -0.7431}\n",
      "\n",
      "The Do Nothing Democrats are Con Artists, only looking to hurt the Republican Party and President. Their total focus is 2020, nothing more, and nothing less. The good news is that WE WILL WIN!!!!\n",
      "{'neg': 0.167, 'neu': 0.766, 'pos': 0.067, 'compound': -0.6209}\n",
      "\n",
      "....No Pressure at all said Ukraine! Very congenial, a perfect call. The Whistleblower and others spoke BEFORE seeing the Transcript. Now they must apologize to me and stop this ridiculous impeachment!\n",
      "{'neg': 0.206, 'neu': 0.654, 'pos': 0.141, 'compound': -0.3571}\n",
      "\n",
      "The so-called Whistleblower, before knowing I was going to release the exact Transcript, stated that my call with the Ukrainian President was “crazy, frightening, and completely lacking in substance related to national security.” This is a very big Lie. Read the Transcript!\n",
      "{'neg': 0.082, 'neu': 0.918, 'pos': 0.0, 'compound': -0.5411}\n",
      "\n",
      "President Obama said that he did not have the right to sign DACA, that it will never hold up in court. He signed it anyway! If the Supreme Court upholds DACA, it gives the President extraordinary powers, far greater than ever thought. If they do what is right and do not let......\n",
      "{'neg': 0.0, 'neu': 0.887, 'pos': 0.113, 'compound': 0.75}\n",
      "\n",
      "....DACA stand, with all of its negative legal implications, the Republicans and Democrats will have a DEAL to let them stay in our Country, in very short order. It would actually benefit DACA, and be done the right way!\n",
      "{'neg': 0.085, 'neu': 0.805, 'pos': 0.11, 'compound': -0.126}\n",
      "\n",
      "So why is someone a good or great President if they needed to Spy on someone else’s Campaign in order to win (that didn’t work out so well), and if they were unable to fill 142 important Federal Judgeships (a record by far), handing them all to me to choose. Will have 182 soon!\n",
      "{'neg': 0.06, 'neu': 0.741, 'pos': 0.199, 'compound': 0.8398}\n",
      "\n",
      "Only 25 percent want the President Impeached, which is pretty low considering the volume of Fake News coverage, but pretty high considering the fact that I did NOTHING wrong. It is all just a continuation of the greatest Scam and Witch Hunt in the history of our Country!\n",
      "{'neg': 0.181, 'neu': 0.562, 'pos': 0.258, 'compound': 0.7247}\n",
      "\n",
      "So pathetic to see Sleepy Joe Biden, who with his son, Hunter, and to the detriment of the American Taxpayer, has ripped off at least two countries for millions of dollars, calling for my impeachment - and I did nothing wrong. Joe’s Failing Campaign gave him no other choice!\n",
      "{'neg': 0.118, 'neu': 0.786, 'pos': 0.096, 'compound': -0.3025}\n",
      "\n",
      "“I don’t think it’s a Whistleblower at all. I think this is an anonymous source for the Democratic Staff in the House of Representatives. This is an insult to real Whistleblowers. Actual Whistleblowers go on to have their whole lives upended.” John Kiriakou  @TuckerCarlson\n",
      "{'neg': 0.074, 'neu': 0.926, 'pos': 0.0, 'compound': -0.5106}\n",
      "\n",
      "In case the Kurds or Turkey lose control, the United States has already taken the 2 ISIS militants tied to beheadings in Syria, known as the Beetles, out of that country and into a secure location controlled by the U.S. They are the worst of the worst!\n",
      "{'neg': 0.198, 'neu': 0.709, 'pos': 0.092, 'compound': -0.7901}\n",
      "\n",
      "From the day I announced I was running for President, I have NEVER had a good @FoxNews Poll. Whoever their Pollster is, they suck. But @FoxNews is also much different than it used to be in the good old days. With people like Andrew Napolitano, who wanted to be a Supreme....\n",
      "{'neg': 0.148, 'neu': 0.804, 'pos': 0.048, 'compound': -0.6384}\n",
      "\n",
      "...Court Justice &amp; I turned him down (he’s been terrible ever since), Shep Smith, @donnabrazile (who gave Crooked Hillary the debate questions &amp; got fired from @CNN), &amp; others, @FoxNews doesn’t deliver for US anymore. It is so different than it used to be. Oh well, I’m President!\n",
      "{'neg': 0.126, 'neu': 0.775, 'pos': 0.099, 'compound': -0.3595}\n",
      "\n",
      "Turkey has been planning to attack the Kurds for a long time. They have been fighting forever. We have no soldiers or Military anywhere near the attack area. I am trying to end the ENDLESS WARS. Talking to both sides. Some want us to send tens of thousands of soldiers to....\n",
      "{'neg': 0.256, 'neu': 0.722, 'pos': 0.022, 'compound': -0.9317}\n",
      "\n"
     ]
    },
    {
     "name": "stdout",
     "output_type": "stream",
     "text": [
      "....the area and start a new war all over again. Turkey is a member of NATO. Others say STAY OUT, let the Kurds fight their own battles (even with our financial help). I say hit Turkey very hard financially &amp; with sanctions if they don’t play by the rules! I am watching closely.\n",
      "{'neg': 0.193, 'neu': 0.765, 'pos': 0.042, 'compound': -0.8264}\n",
      "\n",
      "Thank you to @OANN One America News for your fair coverage and brilliant reporting. It is appreciated by many people trying so hard to find a new, consistent and powerful VOICE! See you tonight at the Big Rally in Minneapolis.\n",
      "{'neg': 0.037, 'neu': 0.662, 'pos': 0.301, 'compound': 0.9205}\n",
      "\n",
      "The President of the Ukraine just stated again, in the strongest of language, that President Trump applied no pressure and did absolutely nothing wrong. He used the strongest language possible. That should end this Democrat Scam, but it won’t, because the Dems &amp; Media are FIXED!\n",
      "{'neg': 0.107, 'neu': 0.774, 'pos': 0.118, 'compound': 0.1426}\n",
      "\n",
      "Why isn’t the IG investigating his so-called Whistleblower? All bad info!\n",
      "{'neg': 0.275, 'neu': 0.725, 'pos': 0.0, 'compound': -0.5848}\n",
      "\n",
      "Big day of negotiations with China. They want to make a deal, but do I? I meet with the Vice Premier tomorrow at The White House.\n",
      "{'neg': 0.0, 'neu': 0.952, 'pos': 0.048, 'compound': 0.0387}\n",
      "\n",
      "....We have one of three choices: Send in thousands of troops and win Militarily, hit Turkey very hard Financially and with Sanctions, or mediate a deal between Turkey and the Kurds!\n",
      "{'neg': 0.05, 'neu': 0.829, 'pos': 0.121, 'compound': 0.5266}\n",
      "\n",
      "We defeated 100% of the ISIS Caliphate and no longer have any troops in the area under attack by Turkey, in Syria. We did our job perfectly! Now Turkey is attacking the Kurds, who have been fighting each other for 200 years....\n",
      "{'neg': 0.261, 'neu': 0.662, 'pos': 0.077, 'compound': -0.8398}\n",
      "\n",
      "Good things are happening at China Trade Talk Meeting. Warmer feelings than in recent past, more like the Old Days. I will be meeting with the Vice Premier today. All would like to see something significant happen!\n",
      "{'neg': 0.0, 'neu': 0.708, 'pos': 0.292, 'compound': 0.8952}\n",
      "\n",
      "I will be in Louisiana tonight (Love it!) to get Republicans to vote for either of our two great Republican Candidates and force a run off with John Bel Edwards, who has done a really poor job of tax cutting, car insurance cost (worst in USA), &amp; is suspect on your 2nd Amendment!\n",
      "{'neg': 0.133, 'neu': 0.796, 'pos': 0.071, 'compound': -0.3771}\n",
      "\n",
      "One of the great things about the China Deal is the fact that, for various reasons, we do not have to go through the very long and politically complex Congressional Approval Process. When the deal is fully negotiated, I sign it myself on behalf of our Country. Fast and Clean!\n",
      "{'neg': 0.0, 'neu': 0.819, 'pos': 0.181, 'compound': 0.8805}\n",
      "\n",
      "Will be with our two GREAT Senators, @SenJohnKennedy &amp; @SenBillCassidy, tonight in Louisiana. These two hard working, really smart men, love their Country and love their State. We will hopefully add a Great New Republican Governor to the beautiful Louisiana mix! See you tonight!\n",
      "{'neg': 0.022, 'neu': 0.543, 'pos': 0.435, 'compound': 0.9828}\n",
      "\n",
      "Kevin McAleenan has done an outstanding job as Acting Secretary of Homeland Security. We have worked well together with Border Crossings being way down. Kevin now, after many years in Government, wants to spend more time with his family and go to the private sector....\n",
      "{'neg': 0.0, 'neu': 0.832, 'pos': 0.168, 'compound': 0.8176}\n",
      "\n",
      "....Congratulations Kevin, on a job well done! I will be announcing the new Acting Secretary next week. Many wonderful candidates!\n",
      "{'neg': 0.0, 'neu': 0.715, 'pos': 0.285, 'compound': 0.7494}\n",
      "\n",
      "WHERE’S HUNTER?\n",
      "{'neg': 0.0, 'neu': 1.0, 'pos': 0.0, 'compound': 0.0}\n",
      "\n",
      "So funny to watch Steve Kerr grovel and pander when asked a simple question about China. He chocked, and looks weak and pathetic. Don’t want him at the White House!\n",
      "{'neg': 0.189, 'neu': 0.687, 'pos': 0.123, 'compound': -0.5266}\n",
      "\n",
      "“I never saw so many subpoenas!” @ShannonBream  @FoxNews  The Democrats have gone Crazy. Just read the Transcript, or listen to the New Ukraine President’s statement, NO PRESSURE! This is a Democrat Con Job. Impeach Schiff for FRAUD!\n",
      "{'neg': 0.299, 'neu': 0.701, 'pos': 0.0, 'compound': -0.9284}\n",
      "\n",
      "“Schiff aides worked with Whistleblower.” @foxandfriends  @RepLeeZeldin  Schiff is a lying mess!\n",
      "{'neg': 0.408, 'neu': 0.592, 'pos': 0.0, 'compound': -0.7345}\n",
      "\n",
      "The case of Major Mathew Golsteyn is now under review at the White House. Mathew is a highly decorated Green Beret who is being tried for killing a Taliban bombmaker. We train our boys to be killing machines, then prosecute them when they kill! @PeteHegseth\n",
      "{'neg': 0.297, 'neu': 0.703, 'pos': 0.0, 'compound': -0.9551}\n",
      "\n",
      "....Other aspects of the deal are also great - technology, financial services, 16-20 Billion in Boeing Planes etc., but WOW, the Farmers really hit pay dirt! @ChuckGrassley @joniernst @debfisher @BenSasse  Thank you to all Republicans in Congress for your invaluable help!\n",
      "{'neg': 0.099, 'neu': 0.61, 'pos': 0.291, 'compound': 0.9139}\n",
      "\n",
      "The deal I just made with China is, by far, the greatest and biggest deal ever made for our Great Patriot Farmers in the history of our Country. In fact, there is a question as to whether or not this much product can be produced? Our farmers will figure it out. Thank you China!\n",
      "{'neg': 0.0, 'neu': 0.815, 'pos': 0.185, 'compound': 0.902}\n",
      "\n",
      "Louisiana, get out and vote REPUBLICAN before going to the big game today. A runoff will be a tremendous win for your Great State - lower taxes and car insurance, and better protection of your 2nd Amendment! Fantastic being with you last night!\n",
      "{'neg': 0.042, 'neu': 0.671, 'pos': 0.287, 'compound': 0.9298}\n",
      "\n",
      "So now they are after the legendary “crime buster” and greatest Mayor in the history of NYC, Rudy Giuliani. He may seem a little rough around the edges sometimes, but he is also a great guy and wonderful lawyer. Such a one sided Witch Hunt going on in USA. Deep State. Shameful!\n",
      "{'neg': 0.116, 'neu': 0.675, 'pos': 0.209, 'compound': 0.793}\n",
      "\n",
      "The Endless Wars Must End!\n",
      "{'neg': 0.493, 'neu': 0.507, 'pos': 0.0, 'compound': -0.5983}\n",
      "\n",
      "The Governor of Louisiana, John Bel Edwards, has done a poor job. NOW HE IS IN A RUNOFF WITH A GREAT REPUBLICAN, @EddieRispone. Thank you Louisiana! 66% down to 47% after I explained what a bad job the Governor was doing.\n",
      "{'neg': 0.143, 'neu': 0.692, 'pos': 0.165, 'compound': 0.2558}\n",
      "\n",
      "The same people that got us into the Middle East Quicksand, 8 Trillion Dollars and many thousands of lives (and millions of lives when you count the other side), are now fighting to keep us there. Don’t listen to people that haven’t got a clue. They have proven to be inept!\n",
      "{'neg': 0.055, 'neu': 0.945, 'pos': 0.0, 'compound': -0.4199}\n",
      "\n",
      "Congratulations to the Great State of Louisiana. A big night. You will soon have a new and wonderful Governor, @EddieRispone. Your Taxes and Car Insurance Payments will go DOWN!\n",
      "{'neg': 0.0, 'neu': 0.667, 'pos': 0.333, 'compound': 0.9184}\n",
      "\n",
      "The Media is not talking about the big Republican victory last night in Louisiana where a sitting Democrat Governor was forced into a runoff by not getting 50%. Big upset! Now @EddieRispone, who will be a great Governor, will win!\n",
      "{'neg': 0.119, 'neu': 0.701, 'pos': 0.18, 'compound': 0.5972}\n",
      "\n",
      "Very smart not to be involved in the intense fighting along the Turkish Border, for a change. Those that mistakenly got us into the Middle East Wars are still pushing to fight. They have no idea what a bad decision they have made. Why are they not asking for a Declaration of War?\n",
      "{'neg': 0.312, 'neu': 0.623, 'pos': 0.065, 'compound': -0.9452}\n",
      "\n",
      "Do you remember two years ago when Iraq was going to fight the Kurds in a different part of Syria. Many people wanted us to fight with the Kurds against Iraq, who we just fought for. I said no, and the Kurds left the fight, twice. Now the same thing is happening with Turkey......\n",
      "{'neg': 0.207, 'neu': 0.793, 'pos': 0.0, 'compound': -0.8834}\n",
      "\n",
      ".....The Kurds and Turkey have been fighting for many years. Turkey considers the PKK the worst terrorists of all. Others may want to come in and fight for one side or the other. Let them! We are monitoring the situation closely. Endless Wars!\n",
      "{'neg': 0.313, 'neu': 0.663, 'pos': 0.023, 'compound': -0.953}\n",
      "\n",
      "Dealing with @LindseyGrahamSC and many members of Congress, including Democrats, about imposing powerful Sanctions on Turkey. Treasury is ready to go, additional legislation may be sought. There is great consensus on this. Turkey has asked that it not be done. Stay tuned!\n",
      "{'neg': 0.028, 'neu': 0.742, 'pos': 0.23, 'compound': 0.8777}\n",
      "\n",
      "Where’s Hunter? He has totally disappeared! Now looks like he has raided and scammed even more countries! Media is AWOL.\n",
      "{'neg': 0.23, 'neu': 0.672, 'pos': 0.099, 'compound': -0.5122}\n",
      "\n",
      "We have become a far greater Economic Power than ever before, and we are using that power for WORLD PEACE!\n",
      "{'neg': 0.0, 'neu': 0.708, 'pos': 0.292, 'compound': 0.792}\n",
      "\n",
      "The Democrats are going to lose a lot of House Seats because of their Fraudulent use of Impeachment. Schiff fabricated phone call, a crime. Democrat Senate Seats will also be put at risk, even some that were supposedly safe. Look at Louisiana last night, North Carolina last week!\n",
      "{'neg': 0.212, 'neu': 0.736, 'pos': 0.052, 'compound': -0.8356}\n",
      "\n",
      "....I agreed not to increase Tariffs from 25% to 30% on October 15th. They will remain at 25%. The relationship with China is very good. We will finish out the large Phase One part of the deal, then head directly into Phase Two. The Phase One Deal can be finalized &amp; signed soon!\n",
      "{'neg': 0.034, 'neu': 0.869, 'pos': 0.097, 'compound': 0.5608}\n",
      "\n",
      "CHINA HAS ALREADY BEGUN AGRICULTURAL PURCHASES FROM OUR GREAT PATRIOT FARMERS &amp; RANCHERS!\n",
      "{'neg': 0.0, 'neu': 0.701, 'pos': 0.299, 'compound': 0.729}\n",
      "\n",
      ".....BY THE WAY, DON’T CALL ME AGAIN, I’LL CALL YOU WHEN YOU’VE DONE WHAT I’VE ASKED.’” A reminder, that wasn’t just stupid, it was FALSE.” @greggutfeld @GregGutfeldShow @FoxNews  I never said this. Schiff made it up and read it to Congress &amp; the American People. End Witch Hunt!\n",
      "{'neg': 0.123, 'neu': 0.877, 'pos': 0.0, 'compound': -0.7345}\n",
      "\n",
      ".@marklevinshow on @FoxNews is doing a big show tonight on the Democrat’s Impeachment Scam. 10:00 P.M. No guests, just Mark. He is angry (like so many others!). At 9:00 P.M. on @FoxNews, Steve Hilton is looking into the Crooked Bidens. Where’s Hunter?\n",
      "{'neg': 0.2, 'neu': 0.8, 'pos': 0.0, 'compound': -0.8588}\n",
      "\n",
      "The U.S. has the worst of the ISIS prisoners. Turkey and the Kurds must not let them escape. Europe should have taken them back after numerous requests. They should do it now. They will never come to, or be allowed in, the United States!\n",
      "{'neg': 0.177, 'neu': 0.769, 'pos': 0.054, 'compound': -0.7514}\n",
      "\n",
      "Somebody please explain to Chris Wallace of Fox, who will never be his father (and my friend), Mike Wallace, that the Phone Conversation I had with the President of Ukraine was a congenial &amp; good one. It was only Schiff’s made up version of that conversation that was bad!\n",
      "{'neg': 0.066, 'neu': 0.83, 'pos': 0.104, 'compound': 0.2481}\n",
      "\n",
      "“Serial killers get more Due Process than the Democrats give to the President of the United States.” @marklevinshow\n",
      "{'neg': 0.186, 'neu': 0.693, 'pos': 0.121, 'compound': -0.3612}\n",
      "\n"
     ]
    }
   ],
   "source": [
    "neg = []\n",
    "neu = []\n",
    "pos = []\n",
    "compound = []\n",
    "\n",
    "for tweet in df['tweet']:\n",
    "    print(tweet)\n",
    "    print(sa.polarity_scores(tweet))\n",
    "    print()\n",
    "    \n",
    "    neg.append(sa.polarity_scores(tweet)['neg'])\n",
    "    neu.append(sa.polarity_scores(tweet)['neu'])\n",
    "    pos.append(sa.polarity_scores(tweet)['pos'])\n",
    "    compound.append(sa.polarity_scores(tweet)['compound'])"
   ]
  },
  {
   "cell_type": "code",
   "execution_count": 162,
   "metadata": {},
   "outputs": [
    {
     "data": {
      "text/html": [
       "<div>\n",
       "<style scoped>\n",
       "    .dataframe tbody tr th:only-of-type {\n",
       "        vertical-align: middle;\n",
       "    }\n",
       "\n",
       "    .dataframe tbody tr th {\n",
       "        vertical-align: top;\n",
       "    }\n",
       "\n",
       "    .dataframe thead th {\n",
       "        text-align: right;\n",
       "    }\n",
       "</style>\n",
       "<table border=\"1\" class=\"dataframe\">\n",
       "  <thead>\n",
       "    <tr style=\"text-align: right;\">\n",
       "      <th></th>\n",
       "      <th>neg</th>\n",
       "      <th>neu</th>\n",
       "      <th>pos</th>\n",
       "      <th>compound</th>\n",
       "      <th>tweet</th>\n",
       "    </tr>\n",
       "  </thead>\n",
       "  <tbody>\n",
       "    <tr>\n",
       "      <th>0</th>\n",
       "      <td>0.319</td>\n",
       "      <td>0.627</td>\n",
       "      <td>0.053</td>\n",
       "      <td>-0.9246</td>\n",
       "      <td>“There are no felonies, there are no Impeachab...</td>\n",
       "    </tr>\n",
       "    <tr>\n",
       "      <th>1</th>\n",
       "      <td>0.033</td>\n",
       "      <td>0.747</td>\n",
       "      <td>0.220</td>\n",
       "      <td>0.8689</td>\n",
       "      <td>So many people conveniently forget that Turkey...</td>\n",
       "    </tr>\n",
       "    <tr>\n",
       "      <th>2</th>\n",
       "      <td>0.066</td>\n",
       "      <td>0.795</td>\n",
       "      <td>0.139</td>\n",
       "      <td>0.4019</td>\n",
       "      <td>.....good health, at my request, Pastor Brunso...</td>\n",
       "    </tr>\n",
       "    <tr>\n",
       "      <th>3</th>\n",
       "      <td>0.133</td>\n",
       "      <td>0.656</td>\n",
       "      <td>0.211</td>\n",
       "      <td>0.7776</td>\n",
       "      <td>We may be in the process of leaving Syria, but...</td>\n",
       "    </tr>\n",
       "    <tr>\n",
       "      <th>4</th>\n",
       "      <td>0.141</td>\n",
       "      <td>0.815</td>\n",
       "      <td>0.044</td>\n",
       "      <td>-0.7088</td>\n",
       "      <td>....understands that while we only had 50 sold...</td>\n",
       "    </tr>\n",
       "  </tbody>\n",
       "</table>\n",
       "</div>"
      ],
      "text/plain": [
       "     neg    neu    pos  compound  \\\n",
       "0  0.319  0.627  0.053   -0.9246   \n",
       "1  0.033  0.747  0.220    0.8689   \n",
       "2  0.066  0.795  0.139    0.4019   \n",
       "3  0.133  0.656  0.211    0.7776   \n",
       "4  0.141  0.815  0.044   -0.7088   \n",
       "\n",
       "                                               tweet  \n",
       "0  “There are no felonies, there are no Impeachab...  \n",
       "1  So many people conveniently forget that Turkey...  \n",
       "2  .....good health, at my request, Pastor Brunso...  \n",
       "3  We may be in the process of leaving Syria, but...  \n",
       "4  ....understands that while we only had 50 sold...  "
      ]
     },
     "execution_count": 162,
     "metadata": {},
     "output_type": "execute_result"
    }
   ],
   "source": [
    "sa_df = pd.DataFrame({'neg': neg, 'neu': neu, 'pos': pos, 'compound': compound, 'tweet': df['tweet']})\n",
    "sa_df.head()"
   ]
  },
  {
   "cell_type": "code",
   "execution_count": 163,
   "metadata": {},
   "outputs": [
    {
     "data": {
      "text/plain": [
       "<matplotlib.axes._subplots.AxesSubplot at 0x234c98bb8d0>"
      ]
     },
     "execution_count": 163,
     "metadata": {},
     "output_type": "execute_result"
    },
    {
     "data": {
      "image/png": "[encoded data removed]",
      "text/plain": [
       "<Figure size 1152x432 with 1 Axes>"
      ]
     },
     "metadata": {
      "needs_background": "light"
     },
     "output_type": "display_data"
    }
   ],
   "source": [
    "import matplotlib.pyplot\n",
    "%matplotlib inline\n",
    "\n",
    "sa_df[['pos', 'neg']].plot.bar(stacked=True, figsize=(16,6))"
   ]
  },
  {
   "cell_type": "code",
   "execution_count": 164,
   "metadata": {},
   "outputs": [
    {
     "data": {
      "text/html": [
       "<div>\n",
       "<style scoped>\n",
       "    .dataframe tbody tr th:only-of-type {\n",
       "        vertical-align: middle;\n",
       "    }\n",
       "\n",
       "    .dataframe tbody tr th {\n",
       "        vertical-align: top;\n",
       "    }\n",
       "\n",
       "    .dataframe thead th {\n",
       "        text-align: right;\n",
       "    }\n",
       "</style>\n",
       "<table border=\"1\" class=\"dataframe\">\n",
       "  <thead>\n",
       "    <tr style=\"text-align: right;\">\n",
       "      <th></th>\n",
       "      <th>neg</th>\n",
       "      <th>neu</th>\n",
       "      <th>pos</th>\n",
       "      <th>compound</th>\n",
       "    </tr>\n",
       "  </thead>\n",
       "  <tbody>\n",
       "    <tr>\n",
       "      <th>count</th>\n",
       "      <td>76.000000</td>\n",
       "      <td>76.000000</td>\n",
       "      <td>76.000000</td>\n",
       "      <td>76.000000</td>\n",
       "    </tr>\n",
       "    <tr>\n",
       "      <th>mean</th>\n",
       "      <td>0.127276</td>\n",
       "      <td>0.749276</td>\n",
       "      <td>0.123408</td>\n",
       "      <td>-0.002125</td>\n",
       "    </tr>\n",
       "    <tr>\n",
       "      <th>std</th>\n",
       "      <td>0.108440</td>\n",
       "      <td>0.103555</td>\n",
       "      <td>0.104909</td>\n",
       "      <td>0.703299</td>\n",
       "    </tr>\n",
       "    <tr>\n",
       "      <th>min</th>\n",
       "      <td>0.000000</td>\n",
       "      <td>0.507000</td>\n",
       "      <td>0.000000</td>\n",
       "      <td>-0.955100</td>\n",
       "    </tr>\n",
       "    <tr>\n",
       "      <th>25%</th>\n",
       "      <td>0.042000</td>\n",
       "      <td>0.674250</td>\n",
       "      <td>0.048000</td>\n",
       "      <td>-0.656000</td>\n",
       "    </tr>\n",
       "    <tr>\n",
       "      <th>50%</th>\n",
       "      <td>0.117000</td>\n",
       "      <td>0.741500</td>\n",
       "      <td>0.099000</td>\n",
       "      <td>-0.113350</td>\n",
       "    </tr>\n",
       "    <tr>\n",
       "      <th>75%</th>\n",
       "      <td>0.194250</td>\n",
       "      <td>0.815500</td>\n",
       "      <td>0.188500</td>\n",
       "      <td>0.756900</td>\n",
       "    </tr>\n",
       "    <tr>\n",
       "      <th>max</th>\n",
       "      <td>0.493000</td>\n",
       "      <td>1.000000</td>\n",
       "      <td>0.435000</td>\n",
       "      <td>0.982800</td>\n",
       "    </tr>\n",
       "  </tbody>\n",
       "</table>\n",
       "</div>"
      ],
      "text/plain": [
       "             neg        neu        pos   compound\n",
       "count  76.000000  76.000000  76.000000  76.000000\n",
       "mean    0.127276   0.749276   0.123408  -0.002125\n",
       "std     0.108440   0.103555   0.104909   0.703299\n",
       "min     0.000000   0.507000   0.000000  -0.955100\n",
       "25%     0.042000   0.674250   0.048000  -0.656000\n",
       "50%     0.117000   0.741500   0.099000  -0.113350\n",
       "75%     0.194250   0.815500   0.188500   0.756900\n",
       "max     0.493000   1.000000   0.435000   0.982800"
      ]
     },
     "execution_count": 164,
     "metadata": {},
     "output_type": "execute_result"
    }
   ],
   "source": [
    "sa_df.describe()"
   ]
  },
  {
   "cell_type": "code",
   "execution_count": 165,
   "metadata": {},
   "outputs": [
    {
     "data": {
      "text/plain": [
       "<matplotlib.axes._subplots.AxesSubplot at 0x234c9fb5e10>"
      ]
     },
     "execution_count": 165,
     "metadata": {},
     "output_type": "execute_result"
    },
    {
     "data": {
      "image/png": "[encoded data removed]",
      "text/plain": [
       "<Figure size 432x288 with 1 Axes>"
      ]
     },
     "metadata": {
      "needs_background": "light"
     },
     "output_type": "display_data"
    }
   ],
   "source": [
    "import seaborn as sns\n",
    "\n",
    "sns.distplot(sa_df['neg'])"
   ]
  },
  {
   "cell_type": "code",
   "execution_count": 166,
   "metadata": {},
   "outputs": [
    {
     "data": {
      "text/plain": [
       "<matplotlib.axes._subplots.AxesSubplot at 0x234ca01ff98>"
      ]
     },
     "execution_count": 166,
     "metadata": {},
     "output_type": "execute_result"
    },
    {
     "data": {
      "image/png": "[encoded data removed]",
      "text/plain": [
       "<Figure size 432x288 with 1 Axes>"
      ]
     },
     "metadata": {
      "needs_background": "light"
     },
     "output_type": "display_data"
    }
   ],
   "source": [
    "sns.distplot(sa_df['pos'])"
   ]
  },
  {
   "cell_type": "code",
   "execution_count": 171,
   "metadata": {},
   "outputs": [
    {
     "name": "stdout",
     "output_type": "stream",
     "text": [
      "Someone please tell the Radical Left Mayor of Minneapolis that he can’t price out Free Speech. Probably illegal! I stand strongly &amp; proudly with the great Police Officers and Law Enforcement of Minneapolis and the Great State of Minnesota! See you Thursday Night!\n",
      "\n",
      "Thank you to @OANN One America News for your fair coverage and brilliant reporting. It is appreciated by many people trying so hard to find a new, consistent and powerful VOICE! See you tonight at the Big Rally in Minneapolis.\n",
      "\n",
      "Will be with our two GREAT Senators, @SenJohnKennedy &amp; @SenBillCassidy, tonight in Louisiana. These two hard working, really smart men, love their Country and love their State. We will hopefully add a Great New Republican Governor to the beautiful Louisiana mix! See you tonight!\n",
      "\n",
      "Congratulations to the Great State of Louisiana. A big night. You will soon have a new and wonderful Governor, @EddieRispone. Your Taxes and Car Insurance Payments will go DOWN!\n",
      "\n"
     ]
    }
   ],
   "source": [
    "for tweet in sa_df[sa_df['pos'] > 0.3]['tweet']:\n",
    "    print(tweet)\n",
    "    print()"
   ]
  },
  {
   "cell_type": "code",
   "execution_count": 172,
   "metadata": {},
   "outputs": [
    {
     "name": "stdout",
     "output_type": "stream",
     "text": [
      "“There are no felonies, there are no Impeachable offenses. The Constitution’s very clear that you need bribery, treason, or other high crimes and misdemeanors. You can’t be impeached for the conduct that’s been alleged in this case.” @AlanDersh Dershowitz. @seanhannity  A Scam!\n",
      "\n",
      "“Schiff aides worked with Whistleblower.” @foxandfriends  @RepLeeZeldin  Schiff is a lying mess!\n",
      "\n",
      "The Endless Wars Must End!\n",
      "\n",
      "Very smart not to be involved in the intense fighting along the Turkish Border, for a change. Those that mistakenly got us into the Middle East Wars are still pushing to fight. They have no idea what a bad decision they have made. Why are they not asking for a Declaration of War?\n",
      "\n",
      ".....The Kurds and Turkey have been fighting for many years. Turkey considers the PKK the worst terrorists of all. Others may want to come in and fight for one side or the other. Let them! We are monitoring the situation closely. Endless Wars!\n",
      "\n"
     ]
    }
   ],
   "source": [
    "for tweet in sa_df[sa_df['neg'] > 0.3]['tweet']:\n",
    "    print(tweet)\n",
    "    print()\n",
    "    \n",
    "# the war one is interesting, because that's actually a very positive message"
   ]
  },
  {
   "cell_type": "code",
   "execution_count": null,
   "metadata": {},
   "outputs": [],
   "source": []
  }
 ],
 "metadata": {
  "kernelspec": {
   "display_name": "Python 3",
   "language": "python",
   "name": "python3"
  },
  "language_info": {
   "codemirror_mode": {
    "name": "ipython",
    "version": 3
   },
   "file_extension": ".py",
   "mimetype": "text/x-python",
   "name": "python",
   "nbconvert_exporter": "python",
   "pygments_lexer": "ipython3",
   "version": "3.7.3"
  }
 },
 "nbformat": 4,
 "nbformat_minor": 2
}
